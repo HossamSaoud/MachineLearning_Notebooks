{
  "nbformat": 4,
  "nbformat_minor": 0,
  "metadata": {
    "colab": {
      "provenance": [],
      "collapsed_sections": [
        "JLA4v91CpH48",
        "u893x-HmtJg3",
        "eymI_QMUaPl8",
        "ahfNy_BFi0zG"
      ],
      "authorship_tag": "ABX9TyMyYMV4yaJbz0cBDAqgeRua",
      "include_colab_link": true
    },
    "kernelspec": {
      "name": "python3",
      "display_name": "Python 3"
    },
    "language_info": {
      "name": "python"
    }
  },
  "cells": [
    {
      "cell_type": "markdown",
      "metadata": {
        "id": "view-in-github",
        "colab_type": "text"
      },
      "source": [
        "<a href=\"https://colab.research.google.com/github/HossamSaoud/MachineLearning_Notebooks/blob/main/PyTorchRevision.ipynb\" target=\"_parent\"><img src=\"https://colab.research.google.com/assets/colab-badge.svg\" alt=\"Open In Colab\"/></a>"
      ]
    },
    {
      "cell_type": "code",
      "execution_count": null,
      "metadata": {
        "id": "OKnpRxncoJyX"
      },
      "outputs": [],
      "source": [
        "import torch\n",
        "import torch.nn as nn\n",
        "import torch.optim as optim\n",
        "import numpy as np\n",
        "import matplotlib.pyplot as plt\n",
        "import torchvision\n",
        "import torchvision.transforms as transforms"
      ]
    },
    {
      "cell_type": "markdown",
      "source": [
        "### Linear Regression"
      ],
      "metadata": {
        "id": "JLA4v91CpH48"
      }
    },
    {
      "cell_type": "code",
      "source": [
        "N = 100\n",
        "# N random numbers ranging from -5 to 5\n",
        "input = np.random.random(N)*10 - 5\n",
        "target = 0.5*input - 1 + np.random.randn(N)\n",
        "losses = []\n",
        "\n",
        "X = input.reshape(-1,1)\n",
        "Y = target.reshape(-1,1)\n",
        "X = torch.from_numpy(X.astype(np.float32))\n",
        "Y = torch.from_numpy(Y.astype(np.float32))\n",
        "model = nn.Linear(1,1)\n",
        "optimizer = optim.Adam(model.parameters(),lr=0.1)\n",
        "criterion = nn.MSELoss()\n",
        "n_epochs = 200\n",
        "for i in range(n_epochs):\n",
        "  # reset gradients in optimizer to zero\n",
        "    optimizer.zero_grad()\n",
        "  #get the output of model Yhat\n",
        "    output = model(X)\n",
        "  # calculate loss between Ytrue and Yhat\n",
        "    loss = criterion(output,Y)\n",
        "  # append losses to array in order to plot them later\n",
        "    losses.append(loss.item())\n",
        "  # move backward and optimize\n",
        "    loss.backward()\n",
        "  # take step toward the good direction(gradient)\n",
        "    optimizer.step()\n",
        "\n",
        "    print(f'Epoch {i}/{n_epochs}, Loss: {np.round(loss.item(),4)}')\n",
        "\n"
      ],
      "metadata": {
        "colab": {
          "base_uri": "https://localhost:8080/"
        },
        "id": "y8W3kUE4oaG5",
        "outputId": "4f6e8caf-0da0-4a55-b73c-5f9b53a40043"
      },
      "execution_count": null,
      "outputs": [
        {
          "output_type": "stream",
          "name": "stdout",
          "text": [
            "Epoch 0/200, Loss: 2.5241\n",
            "Epoch 1/200, Loss: 2.352\n",
            "Epoch 2/200, Loss: 2.0879\n",
            "Epoch 3/200, Loss: 1.8832\n",
            "Epoch 4/200, Loss: 1.7278\n",
            "Epoch 5/200, Loss: 1.5711\n",
            "Epoch 6/200, Loss: 1.4193\n",
            "Epoch 7/200, Loss: 1.2961\n",
            "Epoch 8/200, Loss: 1.2062\n",
            "Epoch 9/200, Loss: 1.1342\n",
            "Epoch 10/200, Loss: 1.0688\n",
            "Epoch 11/200, Loss: 1.0134\n",
            "Epoch 12/200, Loss: 0.9758\n",
            "Epoch 13/200, Loss: 0.9577\n",
            "Epoch 14/200, Loss: 0.9521\n",
            "Epoch 15/200, Loss: 0.9506\n",
            "Epoch 16/200, Loss: 0.9513\n",
            "Epoch 17/200, Loss: 0.957\n",
            "Epoch 18/200, Loss: 0.9691\n",
            "Epoch 19/200, Loss: 0.9844\n",
            "Epoch 20/200, Loss: 0.9975\n",
            "Epoch 21/200, Loss: 1.006\n",
            "Epoch 22/200, Loss: 1.0114\n",
            "Epoch 23/200, Loss: 1.0158\n",
            "Epoch 24/200, Loss: 1.0192\n",
            "Epoch 25/200, Loss: 1.0195\n",
            "Epoch 26/200, Loss: 1.0154\n",
            "Epoch 27/200, Loss: 1.0082\n",
            "Epoch 28/200, Loss: 1.0003\n",
            "Epoch 29/200, Loss: 0.9929\n",
            "Epoch 30/200, Loss: 0.9851\n",
            "Epoch 31/200, Loss: 0.9764\n",
            "Epoch 32/200, Loss: 0.9675\n",
            "Epoch 33/200, Loss: 0.9599\n",
            "Epoch 34/200, Loss: 0.9544\n",
            "Epoch 35/200, Loss: 0.9503\n",
            "Epoch 36/200, Loss: 0.9468\n",
            "Epoch 37/200, Loss: 0.9441\n",
            "Epoch 38/200, Loss: 0.9428\n",
            "Epoch 39/200, Loss: 0.943\n",
            "Epoch 40/200, Loss: 0.944\n",
            "Epoch 41/200, Loss: 0.945\n",
            "Epoch 42/200, Loss: 0.946\n",
            "Epoch 43/200, Loss: 0.9472\n",
            "Epoch 44/200, Loss: 0.9487\n",
            "Epoch 45/200, Loss: 0.9498\n",
            "Epoch 46/200, Loss: 0.9503\n",
            "Epoch 47/200, Loss: 0.9504\n",
            "Epoch 48/200, Loss: 0.9503\n",
            "Epoch 49/200, Loss: 0.95\n",
            "Epoch 50/200, Loss: 0.9493\n",
            "Epoch 51/200, Loss: 0.9483\n",
            "Epoch 52/200, Loss: 0.9472\n",
            "Epoch 53/200, Loss: 0.9462\n",
            "Epoch 54/200, Loss: 0.9454\n",
            "Epoch 55/200, Loss: 0.9445\n",
            "Epoch 56/200, Loss: 0.9437\n",
            "Epoch 57/200, Loss: 0.9432\n",
            "Epoch 58/200, Loss: 0.9429\n",
            "Epoch 59/200, Loss: 0.9428\n",
            "Epoch 60/200, Loss: 0.9427\n",
            "Epoch 61/200, Loss: 0.9428\n",
            "Epoch 62/200, Loss: 0.943\n",
            "Epoch 63/200, Loss: 0.9432\n",
            "Epoch 64/200, Loss: 0.9434\n",
            "Epoch 65/200, Loss: 0.9435\n",
            "Epoch 66/200, Loss: 0.9436\n",
            "Epoch 67/200, Loss: 0.9437\n",
            "Epoch 68/200, Loss: 0.9437\n",
            "Epoch 69/200, Loss: 0.9436\n",
            "Epoch 70/200, Loss: 0.9435\n",
            "Epoch 71/200, Loss: 0.9434\n",
            "Epoch 72/200, Loss: 0.9433\n",
            "Epoch 73/200, Loss: 0.9431\n",
            "Epoch 74/200, Loss: 0.943\n",
            "Epoch 75/200, Loss: 0.9429\n",
            "Epoch 76/200, Loss: 0.9428\n",
            "Epoch 77/200, Loss: 0.9427\n",
            "Epoch 78/200, Loss: 0.9427\n",
            "Epoch 79/200, Loss: 0.9427\n",
            "Epoch 80/200, Loss: 0.9427\n",
            "Epoch 81/200, Loss: 0.9427\n",
            "Epoch 82/200, Loss: 0.9427\n",
            "Epoch 83/200, Loss: 0.9428\n",
            "Epoch 84/200, Loss: 0.9428\n",
            "Epoch 85/200, Loss: 0.9428\n",
            "Epoch 86/200, Loss: 0.9428\n",
            "Epoch 87/200, Loss: 0.9428\n",
            "Epoch 88/200, Loss: 0.9428\n",
            "Epoch 89/200, Loss: 0.9428\n",
            "Epoch 90/200, Loss: 0.9428\n",
            "Epoch 91/200, Loss: 0.9428\n",
            "Epoch 92/200, Loss: 0.9427\n",
            "Epoch 93/200, Loss: 0.9427\n",
            "Epoch 94/200, Loss: 0.9427\n",
            "Epoch 95/200, Loss: 0.9427\n",
            "Epoch 96/200, Loss: 0.9427\n",
            "Epoch 97/200, Loss: 0.9427\n",
            "Epoch 98/200, Loss: 0.9427\n",
            "Epoch 99/200, Loss: 0.9427\n",
            "Epoch 100/200, Loss: 0.9427\n",
            "Epoch 101/200, Loss: 0.9427\n",
            "Epoch 102/200, Loss: 0.9427\n",
            "Epoch 103/200, Loss: 0.9427\n",
            "Epoch 104/200, Loss: 0.9427\n",
            "Epoch 105/200, Loss: 0.9427\n",
            "Epoch 106/200, Loss: 0.9427\n",
            "Epoch 107/200, Loss: 0.9427\n",
            "Epoch 108/200, Loss: 0.9427\n",
            "Epoch 109/200, Loss: 0.9427\n",
            "Epoch 110/200, Loss: 0.9427\n",
            "Epoch 111/200, Loss: 0.9427\n",
            "Epoch 112/200, Loss: 0.9427\n",
            "Epoch 113/200, Loss: 0.9427\n",
            "Epoch 114/200, Loss: 0.9427\n",
            "Epoch 115/200, Loss: 0.9427\n",
            "Epoch 116/200, Loss: 0.9427\n",
            "Epoch 117/200, Loss: 0.9427\n",
            "Epoch 118/200, Loss: 0.9427\n",
            "Epoch 119/200, Loss: 0.9427\n",
            "Epoch 120/200, Loss: 0.9427\n",
            "Epoch 121/200, Loss: 0.9427\n",
            "Epoch 122/200, Loss: 0.9427\n",
            "Epoch 123/200, Loss: 0.9427\n",
            "Epoch 124/200, Loss: 0.9427\n",
            "Epoch 125/200, Loss: 0.9427\n",
            "Epoch 126/200, Loss: 0.9427\n",
            "Epoch 127/200, Loss: 0.9427\n",
            "Epoch 128/200, Loss: 0.9427\n",
            "Epoch 129/200, Loss: 0.9427\n",
            "Epoch 130/200, Loss: 0.9427\n",
            "Epoch 131/200, Loss: 0.9427\n",
            "Epoch 132/200, Loss: 0.9427\n",
            "Epoch 133/200, Loss: 0.9427\n",
            "Epoch 134/200, Loss: 0.9427\n",
            "Epoch 135/200, Loss: 0.9427\n",
            "Epoch 136/200, Loss: 0.9427\n",
            "Epoch 137/200, Loss: 0.9427\n",
            "Epoch 138/200, Loss: 0.9427\n",
            "Epoch 139/200, Loss: 0.9427\n",
            "Epoch 140/200, Loss: 0.9427\n",
            "Epoch 141/200, Loss: 0.9427\n",
            "Epoch 142/200, Loss: 0.9427\n",
            "Epoch 143/200, Loss: 0.9427\n",
            "Epoch 144/200, Loss: 0.9427\n",
            "Epoch 145/200, Loss: 0.9427\n",
            "Epoch 146/200, Loss: 0.9427\n",
            "Epoch 147/200, Loss: 0.9427\n",
            "Epoch 148/200, Loss: 0.9427\n",
            "Epoch 149/200, Loss: 0.9427\n",
            "Epoch 150/200, Loss: 0.9427\n",
            "Epoch 151/200, Loss: 0.9427\n",
            "Epoch 152/200, Loss: 0.9427\n",
            "Epoch 153/200, Loss: 0.9427\n",
            "Epoch 154/200, Loss: 0.9427\n",
            "Epoch 155/200, Loss: 0.9427\n",
            "Epoch 156/200, Loss: 0.9427\n",
            "Epoch 157/200, Loss: 0.9427\n",
            "Epoch 158/200, Loss: 0.9427\n",
            "Epoch 159/200, Loss: 0.9427\n",
            "Epoch 160/200, Loss: 0.9427\n",
            "Epoch 161/200, Loss: 0.9427\n",
            "Epoch 162/200, Loss: 0.9427\n",
            "Epoch 163/200, Loss: 0.9427\n",
            "Epoch 164/200, Loss: 0.9427\n",
            "Epoch 165/200, Loss: 0.9427\n",
            "Epoch 166/200, Loss: 0.9427\n",
            "Epoch 167/200, Loss: 0.9427\n",
            "Epoch 168/200, Loss: 0.9427\n",
            "Epoch 169/200, Loss: 0.9427\n",
            "Epoch 170/200, Loss: 0.9427\n",
            "Epoch 171/200, Loss: 0.9427\n",
            "Epoch 172/200, Loss: 0.9427\n",
            "Epoch 173/200, Loss: 0.9427\n",
            "Epoch 174/200, Loss: 0.9427\n",
            "Epoch 175/200, Loss: 0.9427\n",
            "Epoch 176/200, Loss: 0.9427\n",
            "Epoch 177/200, Loss: 0.9427\n",
            "Epoch 178/200, Loss: 0.9427\n",
            "Epoch 179/200, Loss: 0.9427\n",
            "Epoch 180/200, Loss: 0.9427\n",
            "Epoch 181/200, Loss: 0.9427\n",
            "Epoch 182/200, Loss: 0.9427\n",
            "Epoch 183/200, Loss: 0.9427\n",
            "Epoch 184/200, Loss: 0.9427\n",
            "Epoch 185/200, Loss: 0.9427\n",
            "Epoch 186/200, Loss: 0.9427\n",
            "Epoch 187/200, Loss: 0.9427\n",
            "Epoch 188/200, Loss: 0.9427\n",
            "Epoch 189/200, Loss: 0.9427\n",
            "Epoch 190/200, Loss: 0.9427\n",
            "Epoch 191/200, Loss: 0.9427\n",
            "Epoch 192/200, Loss: 0.9427\n",
            "Epoch 193/200, Loss: 0.9427\n",
            "Epoch 194/200, Loss: 0.9427\n",
            "Epoch 195/200, Loss: 0.9427\n",
            "Epoch 196/200, Loss: 0.9427\n",
            "Epoch 197/200, Loss: 0.9427\n",
            "Epoch 198/200, Loss: 0.9427\n",
            "Epoch 199/200, Loss: 0.9427\n"
          ]
        }
      ]
    },
    {
      "cell_type": "code",
      "source": [
        "plt.plot(losses)\n",
        "plt.show()"
      ],
      "metadata": {
        "colab": {
          "base_uri": "https://localhost:8080/"
        },
        "id": "UG1Cf0uYrrWg",
        "outputId": "5b765049-d3a4-47a6-dad0-9d10e57abcb0"
      },
      "execution_count": null,
      "outputs": [
        {
          "output_type": "display_data",
          "data": {
            "text/plain": [
              "<Figure size 640x480 with 1 Axes>"
            ],
            "image/png": "[encoded data removed]"
          },
          "metadata": {}
        }
      ]
    },
    {
      "cell_type": "code",
      "source": [
        "predicted = model(X).detach().numpy()"
      ],
      "metadata": {
        "id": "yvQKOvsZsWKN"
      },
      "execution_count": null,
      "outputs": []
    },
    {
      "cell_type": "code",
      "source": [
        "plt.scatter(input,target, label = \"Original data\")\n",
        "plt.plot(input,predicted, label =\"Fitted line\")\n",
        "plt.legend()\n",
        "plt.show()"
      ],
      "metadata": {
        "colab": {
          "base_uri": "https://localhost:8080/"
        },
        "id": "Ewardpu4ry9C",
        "outputId": "3678a9d6-2af9-4f06-f7fc-4fb19d59a066"
      },
      "execution_count": null,
      "outputs": [
        {
          "output_type": "display_data",
          "data": {
            "text/plain": [
              "<Figure size 640x480 with 1 Axes>"
            ],
            "image/png": "[encoded data removed]"
          },
          "metadata": {}
        }
      ]
    },
    {
      "cell_type": "markdown",
      "source": [
        "### Linear Classification"
      ],
      "metadata": {
        "id": "u893x-HmtJg3"
      }
    },
    {
      "cell_type": "code",
      "source": [
        "from sklearn.datasets import load_breast_cancer\n",
        "from sklearn.model_selection import train_test_split\n",
        "from sklearn.preprocessing import StandardScaler"
      ],
      "metadata": {
        "id": "AmM-c7YptPaN"
      },
      "execution_count": null,
      "outputs": []
    },
    {
      "cell_type": "code",
      "source": [
        "breast_cancer = load_breast_cancer()\n",
        "type(breast_cancer)"
      ],
      "metadata": {
        "colab": {
          "base_uri": "https://localhost:8080/"
        },
        "id": "CGbcYKaIr4t8",
        "outputId": "b7e91d0b-243c-43a1-c528-1cdf6f03848f"
      },
      "execution_count": null,
      "outputs": [
        {
          "output_type": "execute_result",
          "data": {
            "text/plain": [
              "sklearn.utils._bunch.Bunch"
            ],
            "text/html": [
              "<div style=\"max-width:800px; border: 1px solid var(--colab-border-color);\"><style>\n",
              "      pre.function-repr-contents {\n",
              "        overflow-x: auto;\n",
              "        padding: 8px 12px;\n",
              "        max-height: 500px;\n",
              "      }\n",
              "\n",
              "      pre.function-repr-contents.function-repr-contents-collapsed {\n",
              "        cursor: pointer;\n",
              "        max-height: 100px;\n",
              "      }\n",
              "    </style>\n",
              "    <pre style=\"white-space: initial; background:\n",
              "         var(--colab-secondary-surface-color); padding: 8px 12px;\n",
              "         border-bottom: 1px solid var(--colab-border-color);\"><b>sklearn.utils._bunch.Bunch</b><br/>def __init__(**kwargs)</pre><pre class=\"function-repr-contents function-repr-contents-collapsed\" style=\"\"><a class=\"filepath\" style=\"display:none\" href=\"#\">/usr/local/lib/python3.10/dist-packages/sklearn/utils/_bunch.py</a>Container object exposing keys as attributes.\n",
              "\n",
              "Bunch objects are sometimes used as an output for functions and methods.\n",
              "They extend dictionaries by enabling values to be accessed by key,\n",
              "`bunch[&quot;value_key&quot;]`, or by an attribute, `bunch.value_key`.\n",
              "\n",
              "Examples\n",
              "--------\n",
              "&gt;&gt;&gt; from sklearn.utils import Bunch\n",
              "&gt;&gt;&gt; b = Bunch(a=1, b=2)\n",
              "&gt;&gt;&gt; b[&#x27;b&#x27;]\n",
              "2\n",
              "&gt;&gt;&gt; b.b\n",
              "2\n",
              "&gt;&gt;&gt; b.a = 3\n",
              "&gt;&gt;&gt; b[&#x27;a&#x27;]\n",
              "3\n",
              "&gt;&gt;&gt; b.c = 6\n",
              "&gt;&gt;&gt; b[&#x27;c&#x27;]\n",
              "6</pre>\n",
              "      <script>\n",
              "      if (google.colab.kernel.accessAllowed && google.colab.files && google.colab.files.view) {\n",
              "        for (const element of document.querySelectorAll('.filepath')) {\n",
              "          element.style.display = 'block'\n",
              "          element.onclick = (event) => {\n",
              "            event.preventDefault();\n",
              "            event.stopPropagation();\n",
              "            google.colab.files.view(element.textContent, 4);\n",
              "          };\n",
              "        }\n",
              "      }\n",
              "      for (const element of document.querySelectorAll('.function-repr-contents')) {\n",
              "        element.onclick = (event) => {\n",
              "          event.preventDefault();\n",
              "          event.stopPropagation();\n",
              "          element.classList.toggle('function-repr-contents-collapsed');\n",
              "        };\n",
              "      }\n",
              "      </script>\n",
              "      </div>"
            ]
          },
          "metadata": {},
          "execution_count": 40
        }
      ]
    },
    {
      "cell_type": "code",
      "source": [
        "breast_cancer.keys()"
      ],
      "metadata": {
        "colab": {
          "base_uri": "https://localhost:8080/"
        },
        "id": "ZzahU_tSsNLG",
        "outputId": "afbc3155-6633-407d-e2dd-b27747c22032"
      },
      "execution_count": null,
      "outputs": [
        {
          "output_type": "execute_result",
          "data": {
            "text/plain": [
              "dict_keys(['data', 'target', 'frame', 'target_names', 'DESCR', 'feature_names', 'filename', 'data_module'])"
            ]
          },
          "metadata": {},
          "execution_count": 41
        }
      ]
    },
    {
      "cell_type": "code",
      "source": [
        "X = breast_cancer.data\n",
        "y = breast_cancer.target"
      ],
      "metadata": {
        "id": "dIUdT_12sQEK"
      },
      "execution_count": null,
      "outputs": []
    },
    {
      "cell_type": "code",
      "source": [
        "X_train,X_test,y_train,y_test = train_test_split(X,y,test_size=0.8)"
      ],
      "metadata": {
        "id": "ay_6UgArsdIa"
      },
      "execution_count": null,
      "outputs": []
    },
    {
      "cell_type": "code",
      "source": [
        "Scaler = StandardScaler()\n",
        "X_train = Scaler.fit_transform(X_train)\n",
        "X_test = Scaler.transform(X_test)"
      ],
      "metadata": {
        "id": "0HJZMHlLsoLC"
      },
      "execution_count": null,
      "outputs": []
    },
    {
      "cell_type": "code",
      "source": [
        "X_train = torch.from_numpy(X_train.astype(np.float32))\n",
        "X_test = torch.from_numpy(X_test.astype(np.float32))\n",
        "y_train = torch.from_numpy(y_train.astype(np.float32).reshape(-1,1))\n",
        "y_test = torch.from_numpy(y_test.astype(np.float32).reshape(-1,1))"
      ],
      "metadata": {
        "id": "MZKQqVlUudjc"
      },
      "execution_count": null,
      "outputs": []
    },
    {
      "cell_type": "code",
      "source": [
        "X_train.shape , y_train.shape"
      ],
      "metadata": {
        "colab": {
          "base_uri": "https://localhost:8080/"
        },
        "id": "jzEL3Mfqvcgu",
        "outputId": "8f87fdbf-5baa-40e8-a80c-5bb6baa80fb3"
      },
      "execution_count": null,
      "outputs": [
        {
          "output_type": "execute_result",
          "data": {
            "text/plain": [
              "(torch.Size([113, 30]), torch.Size([113, 1]))"
            ]
          },
          "metadata": {},
          "execution_count": 46
        }
      ]
    },
    {
      "cell_type": "code",
      "source": [
        "model = nn.Sequential( nn.Linear(X_train.shape[1],1),\n",
        "                       nn.Sigmoid())\n",
        "criterion = nn.BCELoss()\n",
        "optimizer = optim.Adam(model.parameters())\n",
        "n_epochs = 2000\n",
        "train_losses = []\n",
        "test_losses = []"
      ],
      "metadata": {
        "id": "zINibo_vs3Qg"
      },
      "execution_count": null,
      "outputs": []
    },
    {
      "cell_type": "code",
      "source": [
        "for i in range (n_epochs):\n",
        "  optimizer.zero_grad()\n",
        "  output = model(X_train)\n",
        "  loss = criterion(output,y_train)\n",
        "  train_losses.append(loss.item())\n",
        "  output = model(X_test)\n",
        "  loss = criterion(output,y_test)\n",
        "  test_losses.append(loss.item())\n",
        "  loss.backward()\n",
        "  optimizer.step()\n",
        "  if i  % 100 == 0:\n",
        "   print(f'Epoch {i}/{n_epochs}, Loss: {np.round(loss.item(),4)}')"
      ],
      "metadata": {
        "colab": {
          "base_uri": "https://localhost:8080/"
        },
        "id": "20VTb9LEt9I_",
        "outputId": "9d9e4bfc-dcf1-4209-af7e-83ec9066064e"
      },
      "execution_count": null,
      "outputs": [
        {
          "output_type": "stream",
          "name": "stdout",
          "text": [
            "Epoch 0/2000, Loss: 0.6118\n",
            "Epoch 100/2000, Loss: 0.3081\n",
            "Epoch 200/2000, Loss: 0.2209\n",
            "Epoch 300/2000, Loss: 0.1789\n",
            "Epoch 400/2000, Loss: 0.1537\n",
            "Epoch 500/2000, Loss: 0.1369\n",
            "Epoch 600/2000, Loss: 0.1248\n",
            "Epoch 700/2000, Loss: 0.1156\n",
            "Epoch 800/2000, Loss: 0.1084\n",
            "Epoch 900/2000, Loss: 0.1026\n",
            "Epoch 1000/2000, Loss: 0.0978\n",
            "Epoch 1100/2000, Loss: 0.0938\n",
            "Epoch 1200/2000, Loss: 0.0903\n",
            "Epoch 1300/2000, Loss: 0.0873\n",
            "Epoch 1400/2000, Loss: 0.0847\n",
            "Epoch 1500/2000, Loss: 0.0823\n",
            "Epoch 1600/2000, Loss: 0.0802\n",
            "Epoch 1700/2000, Loss: 0.0784\n",
            "Epoch 1800/2000, Loss: 0.0767\n",
            "Epoch 1900/2000, Loss: 0.0752\n"
          ]
        }
      ]
    },
    {
      "cell_type": "code",
      "source": [
        "plt.plot(train_losses,label= \"train_losses\")\n",
        "plt.plot(test_losses,label = \"test_losses\")\n",
        "plt.legend()\n",
        "plt.show()"
      ],
      "metadata": {
        "colab": {
          "base_uri": "https://localhost:8080/"
        },
        "id": "jRXfesEpwUXd",
        "outputId": "6940dbe7-09ef-4db1-e962-0b194652e494"
      },
      "execution_count": null,
      "outputs": [
        {
          "output_type": "display_data",
          "data": {
            "text/plain": [
              "<Figure size 640x480 with 1 Axes>"
            ],
            "image/png": "[encoded data removed]"
          },
          "metadata": {}
        }
      ]
    },
    {
      "cell_type": "code",
      "source": [
        "with torch.no_grad():\n",
        "  train_output = model(X_train)\n",
        "  train_acc = np.mean(train_output.numpy().round()==y_train.numpy())\n",
        "  test_output = model(X_test)\n",
        "  test_acc = np.mean(test_output.numpy().round()==y_test.numpy())\n",
        "\n",
        "  print(f'Train accuracy: {train_acc}')\n",
        "  print(f'Test accuracy: {test_acc}')"
      ],
      "metadata": {
        "colab": {
          "base_uri": "https://localhost:8080/"
        },
        "id": "Jp4r7fI_vYn7",
        "outputId": "fc459603-dd32-4397-f174-9c63d98390b6"
      },
      "execution_count": null,
      "outputs": [
        {
          "output_type": "stream",
          "name": "stdout",
          "text": [
            "Train accuracy: 1.0\n",
            "Test accuracy: 0.9824561403508771\n"
          ]
        }
      ]
    },
    {
      "cell_type": "markdown",
      "source": [
        "###MultiClass Classification"
      ],
      "metadata": {
        "id": "eymI_QMUaPl8"
      }
    },
    {
      "cell_type": "code",
      "source": [
        "from torchvision.datasets import MNIST as data\n",
        "from torchvision import transforms"
      ],
      "metadata": {
        "id": "Q-SBBMjMw1Jm"
      },
      "execution_count": null,
      "outputs": []
    },
    {
      "cell_type": "code",
      "source": [
        "data"
      ],
      "metadata": {
        "colab": {
          "base_uri": "https://localhost:8080/",
          "height": 203
        },
        "id": "fIfI_3FnaOcD",
        "outputId": "f99a544e-062d-496b-efa9-f58a09f4aa29"
      },
      "execution_count": null,
      "outputs": [
        {
          "output_type": "execute_result",
          "data": {
            "text/plain": [
              "torchvision.datasets.mnist.MNIST"
            ],
            "text/html": [
              "<div style=\"max-width:800px; border: 1px solid var(--colab-border-color);\"><style>\n",
              "      pre.function-repr-contents {\n",
              "        overflow-x: auto;\n",
              "        padding: 8px 12px;\n",
              "        max-height: 500px;\n",
              "      }\n",
              "\n",
              "      pre.function-repr-contents.function-repr-contents-collapsed {\n",
              "        cursor: pointer;\n",
              "        max-height: 100px;\n",
              "      }\n",
              "    </style>\n",
              "    <pre style=\"white-space: initial; background:\n",
              "         var(--colab-secondary-surface-color); padding: 8px 12px;\n",
              "         border-bottom: 1px solid var(--colab-border-color);\"><b>torchvision.datasets.mnist.MNIST</b><br/>def __init__(root: Union[str, Path], train: bool=True, transform: Optional[Callable]=None, target_transform: Optional[Callable]=None, download: bool=False) -&gt; None</pre><pre class=\"function-repr-contents function-repr-contents-collapsed\" style=\"\"><a class=\"filepath\" style=\"display:none\" href=\"#\">/usr/local/lib/python3.10/dist-packages/torchvision/datasets/mnist.py</a>`MNIST &lt;http://yann.lecun.com/exdb/mnist/&gt;`_ Dataset.\n",
              "\n",
              "Args:\n",
              "    root (str or ``pathlib.Path``): Root directory of dataset where ``MNIST/raw/train-images-idx3-ubyte``\n",
              "        and  ``MNIST/raw/t10k-images-idx3-ubyte`` exist.\n",
              "    train (bool, optional): If True, creates dataset from ``train-images-idx3-ubyte``,\n",
              "        otherwise from ``t10k-images-idx3-ubyte``.\n",
              "    download (bool, optional): If True, downloads the dataset from the internet and\n",
              "        puts it in root directory. If dataset is already downloaded, it is not\n",
              "        downloaded again.\n",
              "    transform (callable, optional): A function/transform that  takes in a PIL image\n",
              "        and returns a transformed version. E.g, ``transforms.RandomCrop``\n",
              "    target_transform (callable, optional): A function/transform that takes in the\n",
              "        target and transforms it.</pre>\n",
              "      <script>\n",
              "      if (google.colab.kernel.accessAllowed && google.colab.files && google.colab.files.view) {\n",
              "        for (const element of document.querySelectorAll('.filepath')) {\n",
              "          element.style.display = 'block'\n",
              "          element.onclick = (event) => {\n",
              "            event.preventDefault();\n",
              "            event.stopPropagation();\n",
              "            google.colab.files.view(element.textContent, 20);\n",
              "          };\n",
              "        }\n",
              "      }\n",
              "      for (const element of document.querySelectorAll('.function-repr-contents')) {\n",
              "        element.onclick = (event) => {\n",
              "          event.preventDefault();\n",
              "          event.stopPropagation();\n",
              "          element.classList.toggle('function-repr-contents-collapsed');\n",
              "        };\n",
              "      }\n",
              "      </script>\n",
              "      </div>"
            ]
          },
          "metadata": {},
          "execution_count": 52
        }
      ]
    },
    {
      "cell_type": "code",
      "source": [
        "train_dataset = data(root='./data',download=True,train=True,transform=transforms.ToTensor())\n",
        "test_dataset= data(root='./data',download=True,train=False,transform=transforms.ToTensor())"
      ],
      "metadata": {
        "id": "CyDkKb4vas6n"
      },
      "execution_count": null,
      "outputs": []
    },
    {
      "cell_type": "code",
      "source": [
        "x_train,y_train = train_dataset.data,train_dataset.targets\n",
        "x_test,y_test = test_dataset.data,test_dataset.targets"
      ],
      "metadata": {
        "id": "l0DmPtBcgl5Y"
      },
      "execution_count": null,
      "outputs": []
    },
    {
      "cell_type": "code",
      "source": [
        "x_train.shape,y_train.shape"
      ],
      "metadata": {
        "colab": {
          "base_uri": "https://localhost:8080/"
        },
        "id": "dJcoVfbOiZ7Z",
        "outputId": "c77b504c-8957-4cb9-bb7b-d7a9256cd6ca"
      },
      "execution_count": null,
      "outputs": [
        {
          "output_type": "execute_result",
          "data": {
            "text/plain": [
              "(torch.Size([60000, 28, 28]), torch.Size([60000]))"
            ]
          },
          "metadata": {},
          "execution_count": 55
        }
      ]
    },
    {
      "cell_type": "code",
      "source": [
        "model = nn.Sequential(\n",
        "    nn.Linear(784,128),\n",
        "    nn.ReLU(),\n",
        "    nn.Linear(128,64),\n",
        "    nn.ReLU(),\n",
        "    nn.Linear(64,10)\n",
        ")"
      ],
      "metadata": {
        "id": "YsB0qEpXgsTw"
      },
      "execution_count": null,
      "outputs": []
    },
    {
      "cell_type": "code",
      "source": [
        "criterion = nn.CrossEntropyLoss()\n",
        "optimizer = optim.Adam(model.parameters())\n"
      ],
      "metadata": {
        "id": "Oc4rX4UjhL7A"
      },
      "execution_count": null,
      "outputs": []
    },
    {
      "cell_type": "code",
      "source": [
        "train_loader = torch.utils.data.DataLoader(dataset = train_dataset, batch_size = 64, shuffle = True)\n",
        "test_loader = torch.utils.data.DataLoader(dataset = test_dataset,batch_size = 64, shuffle = False)"
      ],
      "metadata": {
        "id": "P-CFuUuVjDFj"
      },
      "execution_count": null,
      "outputs": []
    },
    {
      "cell_type": "code",
      "source": [
        "device = torch.device('cuda' if torch.cuda.is_available() else 'cpu')\n",
        "model.to(device)"
      ],
      "metadata": {
        "colab": {
          "base_uri": "https://localhost:8080/"
        },
        "id": "85Y7KojGpQp9",
        "outputId": "cd6cbf18-5144-4d6f-c0c7-73bca53fda62"
      },
      "execution_count": null,
      "outputs": [
        {
          "output_type": "execute_result",
          "data": {
            "text/plain": [
              "Sequential(\n",
              "  (0): Linear(in_features=784, out_features=128, bias=True)\n",
              "  (1): ReLU()\n",
              "  (2): Linear(in_features=128, out_features=64, bias=True)\n",
              "  (3): ReLU()\n",
              "  (4): Linear(in_features=64, out_features=10, bias=True)\n",
              ")"
            ]
          },
          "metadata": {},
          "execution_count": 59
        }
      ]
    },
    {
      "cell_type": "code",
      "source": [
        "n_epochs = 10\n",
        "train_losses = []\n",
        "test_losses = []\n",
        "for i in range(n_epochs):\n",
        "  train_batch_loss = []\n",
        "  test_batch_loss = []\n",
        "  for inputs, targets in train_loader:\n",
        "    inputs,targets = inputs.to(device),targets.to(device)\n",
        "    optimizer.zero_grad()\n",
        "    inputs = inputs.view(-1,784)\n",
        "    output = model(inputs)\n",
        "    loss = criterion(output,targets)\n",
        "    loss.backward()\n",
        "    optimizer.step()\n",
        "    train_batch_loss.append(loss.item())\n",
        "  train_losses.append(np.mean(train_batch_loss))\n",
        "  for inputs, targets in test_loader:\n",
        "    inputs,targets = inputs.to(device),targets.to(device)\n",
        "    inputs = inputs.view(-1,784)\n",
        "    output =model(inputs)\n",
        "    loss = criterion(output, targets)\n",
        "    test_batch_loss.append(loss.item())\n",
        "  test_losses.append(np.mean(test_batch_loss))"
      ],
      "metadata": {
        "collapsed": true,
        "id": "VXeEOyaji5R7"
      },
      "execution_count": null,
      "outputs": []
    },
    {
      "cell_type": "code",
      "source": [
        "plt.plot(train_losses,label = \"train_losses\")\n",
        "plt.plot(test_losses,label = \"test_losses\")\n",
        "plt.legend()\n",
        "plt.show()"
      ],
      "metadata": {
        "colab": {
          "base_uri": "https://localhost:8080/",
          "height": 430
        },
        "id": "aAYO0k0tk-5d",
        "outputId": "43e20cf7-ba85-4286-b9da-72f526339d1a"
      },
      "execution_count": null,
      "outputs": [
        {
          "output_type": "display_data",
          "data": {
            "text/plain": [
              "<Figure size 640x480 with 1 Axes>"
            ],
            "image/png": "[encoded data removed]"
          },
          "metadata": {}
        }
      ]
    },
    {
      "cell_type": "code",
      "source": [
        "n_correct = 0\n",
        "n_total = 0\n",
        "\n",
        "for inputs,targets in test_loader:\n",
        "  inputs,targets = inputs.to(device),targets.to(device)\n",
        "  inputs= inputs.view(-1,784)\n",
        "  output = model(inputs)\n",
        "  _,predicted = torch.max(output,1)\n",
        "  n_correct += (predicted == targets).sum().item()\n",
        "  n_total += targets.shape[0]\n",
        "acc = n_correct/n_total\n",
        "print(f'Test accuracy: {acc*100}')\n",
        "\n",
        "for inputs,targets in train_loader:\n",
        "  inputs,targets = inputs.to(device),targets.to(device)\n",
        "  inputs= inputs.view(-1,784)\n",
        "  output = model(inputs)\n",
        "  _,predicted = torch.max(output.data,1)\n",
        "  n_correct += (predicted == targets).sum().item()\n",
        "  n_total += targets.shape[0]\n",
        "acc = n_correct/n_total\n",
        "print(f'Train accuracy: {acc*100}')\n"
      ],
      "metadata": {
        "colab": {
          "base_uri": "https://localhost:8080/"
        },
        "id": "A7nD6DpPmnjs",
        "outputId": "68c1be0f-acf8-4b19-dd11-d1a0386f7e18"
      },
      "execution_count": null,
      "outputs": [
        {
          "output_type": "stream",
          "name": "stdout",
          "text": [
            "Test accuracy: 97.74000000000001\n",
            "Train accuracy: 99.25142857142856\n"
          ]
        }
      ]
    },
    {
      "cell_type": "markdown",
      "source": [
        "## ANN with oop"
      ],
      "metadata": {
        "id": "ahfNy_BFi0zG"
      }
    },
    {
      "cell_type": "code",
      "source": [
        "class ANN(nn.Module):\n",
        "  def __init__ (self,input_size,hidden_size,output_size):\n",
        "    super(ANN,self).__init__()\n",
        "    self.fc1 = nn.Linear(input_size,hidden_size)\n",
        "    self.relu = nn.ReLU()\n",
        "    self.fc2 = nn.Linear(hidden_size,output_size)\n",
        "\n",
        "  def forward(self,x):\n",
        "      x = self.fc1(x)\n",
        "      x = self.relu(x)\n",
        "      x = self.fc2(x)\n",
        "      return x"
      ],
      "metadata": {
        "id": "dSQxAEvToBnC"
      },
      "execution_count": null,
      "outputs": []
    },
    {
      "cell_type": "code",
      "source": [
        "model = ANN(784,128,10)\n",
        "model.to(device)\n",
        "criterion = nn.CrossEntropyLoss()\n",
        "optimizer = optim.Adam(model.parameters())\n",
        "\n"
      ],
      "metadata": {
        "id": "63vm-dXEj3Lq"
      },
      "execution_count": null,
      "outputs": []
    },
    {
      "cell_type": "code",
      "source": [
        "n_epochs = 10\n",
        "train_losses = []\n",
        "test_losses = []\n",
        "for i in range(n_epochs):\n",
        "  train_batch_loss = []\n",
        "  test_batch_loss = []\n",
        "  for inputs, targets in train_loader:\n",
        "    inputs,targets = inputs.to(device),targets.to(device)\n",
        "    optimizer.zero_grad()\n",
        "    inputs = inputs.view(-1,784)\n",
        "    output = model(inputs)\n",
        "    loss = criterion(output,targets)\n",
        "    loss.backward()\n",
        "    optimizer.step()\n",
        "    train_batch_loss.append(loss.item())\n",
        "  train_losses.append(np.mean(train_batch_loss))\n",
        "  for inputs, targets in test_loader:\n",
        "    inputs,targets = inputs.to(device),targets.to(device)\n",
        "    inputs = inputs.view(-1,784)\n",
        "    output =model(inputs)\n",
        "    loss = criterion(output, targets)\n",
        "    test_batch_loss.append(loss.item())\n",
        "  test_losses.append(np.mean(test_batch_loss))"
      ],
      "metadata": {
        "id": "Xr7bKv0glfZG"
      },
      "execution_count": null,
      "outputs": []
    },
    {
      "cell_type": "code",
      "source": [
        "plt.plot(train_losses,label = \"train_losses\")\n",
        "plt.plot(test_losses,label = \"test_losses\")\n",
        "plt.legend()\n",
        "plt.show()"
      ],
      "metadata": {
        "colab": {
          "base_uri": "https://localhost:8080/"
        },
        "id": "YQzc9w9ymQIc",
        "outputId": "5230ea06-483f-416b-b560-f6720a8757c7"
      },
      "execution_count": null,
      "outputs": [
        {
          "output_type": "display_data",
          "data": {
            "text/plain": [
              "<Figure size 640x480 with 1 Axes>"
            ],
            "image/png": "[encoded data removed]"
          },
          "metadata": {}
        }
      ]
    },
    {
      "cell_type": "code",
      "source": [
        "n_correct = 0\n",
        "n_total = 0\n",
        "\n",
        "for inputs,targets in test_loader:\n",
        "  inputs,targets = inputs.to(device),targets.to(device)\n",
        "  inputs= inputs.view(-1,784)\n",
        "  output = model(inputs)\n",
        "  _,predicted = torch.max(output,1)\n",
        "  n_correct += (predicted == targets).sum().item()\n",
        "  n_total += targets.shape[0]\n",
        "acc = n_correct/n_total\n",
        "print(f'Test accuracy: {acc*100}')\n",
        "\n",
        "for inputs,targets in train_loader:\n",
        "  inputs,targets = inputs.to(device),targets.to(device)\n",
        "  inputs= inputs.view(-1,784)\n",
        "  output = model(inputs)\n",
        "  _,predicted = torch.max(output.data,1)\n",
        "  n_correct += (predicted == targets).sum().item()\n",
        "  n_total += targets.shape[0]\n",
        "acc = n_correct/n_total\n",
        "print(f'Train accuracy: {acc*100}')\n"
      ],
      "metadata": {
        "colab": {
          "base_uri": "https://localhost:8080/"
        },
        "id": "oI_UqQA5mQz7",
        "outputId": "ce1c561e-8dd1-412f-d319-4479050f79e8"
      },
      "execution_count": null,
      "outputs": [
        {
          "output_type": "stream",
          "name": "stdout",
          "text": [
            "Test accuracy: 97.6\n",
            "Train accuracy: 99.08857142857143\n"
          ]
        }
      ]
    },
    {
      "cell_type": "markdown",
      "source": [
        "## CNN on Mnist"
      ],
      "metadata": {
        "id": "kXjt4311mtw4"
      }
    },
    {
      "cell_type": "code",
      "source": [
        "class CNN(nn.Module):\n",
        "  def __init__(self):\n",
        "    super(CNN,self).__init__()\n",
        "    self.c1 = nn.Conv2d(in_channels = 1, out_channels = 8, kernel_size = 3)\n",
        "    self.act = nn.ReLU()\n",
        "    self.pool = nn.MaxPool2d(kernel_size = 2)\n",
        "    self.c2 = nn.Conv2d(in_channels = 8, out_channels = 16, kernel_size = 3)\n",
        "    self.fc1 = nn.Linear(16*5*5,64)\n",
        "    self.fc2 = nn.Linear(64,10)\n",
        "  def forward(self,x):\n",
        "    x = self.c1(x)\n",
        "    x = self.act(x)\n",
        "    x = self.pool(x)\n",
        "    x = self.c2(x)\n",
        "    x = self.act(x)\n",
        "    x = self.pool(x)\n",
        "    x = x.view(-1,16*5*5)\n",
        "    x = self.fc1(x)\n",
        "    x = self.act(x)\n",
        "    x = self.fc2(x)\n",
        "    return x"
      ],
      "metadata": {
        "id": "T5gPnLM8mvkz"
      },
      "execution_count": null,
      "outputs": []
    },
    {
      "cell_type": "code",
      "source": [
        "model = CNN()\n",
        "device = torch.device('cuda' if torch.cuda.is_available() else 'cpu')\n",
        "model.to(device)\n",
        "criterion = nn.CrossEntropyLoss()\n",
        "optimizer = optim.Adam(model.parameters())"
      ],
      "metadata": {
        "id": "2sMkrdwXWNVE"
      },
      "execution_count": null,
      "outputs": []
    },
    {
      "cell_type": "code",
      "source": [
        "train_dataset = data(root='./data',download = True, train = True, transform = transforms.ToTensor())\n",
        "test_dataset = data(root=',/data',download = True, train=False, transform = transforms.ToTensor())"
      ],
      "metadata": {
        "id": "S24UfKQeWbOv"
      },
      "execution_count": null,
      "outputs": []
    },
    {
      "cell_type": "code",
      "source": [
        "x_train,y_train = train_dataset.data , train_dataset.targets\n",
        "x_test, y_test = test_dataset.data, test_dataset.targets"
      ],
      "metadata": {
        "id": "qSHmLEkGXIyh"
      },
      "execution_count": null,
      "outputs": []
    },
    {
      "cell_type": "code",
      "source": [
        "x_train.shape , y_train.shape"
      ],
      "metadata": {
        "colab": {
          "base_uri": "https://localhost:8080/"
        },
        "id": "c7JUkjZZYGb4",
        "outputId": "8a6f516f-f0bf-49df-931b-615948892235"
      },
      "execution_count": null,
      "outputs": [
        {
          "output_type": "execute_result",
          "data": {
            "text/plain": [
              "(torch.Size([60000, 28, 28]), torch.Size([60000]))"
            ]
          },
          "metadata": {},
          "execution_count": 79
        }
      ]
    },
    {
      "cell_type": "code",
      "source": [
        "train_loader = torch.utils.data.DataLoader(dataset = train_dataset, batch_size = 64, shuffle = True)\n",
        "test_loader = torch.utils.data.DataLoader(dataset = test_dataset, batch_size = 64, shuffle = False)"
      ],
      "metadata": {
        "id": "kMj-_e5XYSyV"
      },
      "execution_count": null,
      "outputs": []
    },
    {
      "cell_type": "code",
      "source": [
        "train_loss = []\n",
        "test_loss = []\n",
        "n_epochs = 10\n",
        "model.train()\n",
        "for i in range(n_epochs):\n",
        "  train_batch_losses = []\n",
        "  test_batch_losses = []\n",
        "  for inputs,targets in train_loader:\n",
        "    inputs,targets = inputs.to(device),targets.to(device)\n",
        "    optimizer.zero_grad()\n",
        "    output = model(inputs)\n",
        "    loss = criterion(output,targets)\n",
        "    loss.backward()\n",
        "    optimizer.step()\n",
        "    train_batch_losses.append(loss.item())\n",
        "  train_loss.append(np.mean(train_batch_losses))\n",
        "\n",
        "  for inputs,targets in test_loader:\n",
        "    inputs,targets = inputs.to(device),targets.to(device)\n",
        "    output = model(inputs)\n",
        "    loss = criterion(output,targets)\n",
        "    test_batch_losses.append(loss.item())\n",
        "  test_loss.append(np.mean(test_batch_losses))\n"
      ],
      "metadata": {
        "id": "895eYXMSYgYt"
      },
      "execution_count": null,
      "outputs": []
    },
    {
      "cell_type": "code",
      "source": [
        "print(f'train loss: {np.mean(train_loss)}')\n",
        "print(f'test loss: {np.mean(test_loss)}')"
      ],
      "metadata": {
        "colab": {
          "base_uri": "https://localhost:8080/"
        },
        "id": "a3aYtNmtaqo3",
        "outputId": "49a2f756-3fd5-40c9-e1d7-15f0d81f2184"
      },
      "execution_count": null,
      "outputs": [
        {
          "output_type": "stream",
          "name": "stdout",
          "text": [
            "train loss: 0.07954209714945411\n",
            "test loss: 0.05180429460969538\n"
          ]
        }
      ]
    },
    {
      "cell_type": "code",
      "source": [
        "n_correct = 0\n",
        "n_total = 0\n",
        "model.eval()\n",
        "\n",
        "for inputs,targets in test_loader:\n",
        "  inputs,targets = inputs.to(device),targets.to(device)\n",
        "  output = model(inputs)\n",
        "  _,predicted = torch.max(output,1)\n",
        "  n_correct += (predicted == targets).sum().item()\n",
        "  n_total += targets.shape[0]\n",
        "acc = n_correct/n_total\n",
        "print(f'Test accuracy: {acc*100}')\n",
        "\n",
        "for inputs,targets in train_loader:\n",
        "  inputs,targets = inputs.to(device),targets.to(device)\n",
        "  output = model(inputs)\n",
        "  _,predicted = torch.max(output.data,1)\n",
        "  n_correct += (predicted == targets).sum().item()\n",
        "  n_total += targets.shape[0]\n",
        "acc = n_correct/n_total\n",
        "print(f'Train accuracy: {acc*100}')\n"
      ],
      "metadata": {
        "colab": {
          "base_uri": "https://localhost:8080/"
        },
        "id": "UW9lcwZwbQjb",
        "outputId": "648af664-2835-4533-f16a-3eee46306b78"
      },
      "execution_count": null,
      "outputs": [
        {
          "output_type": "stream",
          "name": "stdout",
          "text": [
            "Test accuracy: 98.83\n",
            "Train accuracy: 99.36714285714285\n"
          ]
        }
      ]
    },
    {
      "cell_type": "code",
      "source": [
        "plt.plot(train_loss,label = \"train_loss\")\n",
        "plt.plot(test_loss,label = \"test_loss\")\n",
        "plt.legend()\n",
        "plt.show()\n",
        "#"
      ],
      "metadata": {
        "colab": {
          "base_uri": "https://localhost:8080/",
          "height": 430
        },
        "id": "XUFVZj5Bb069",
        "outputId": "e2899401-8431-4841-c564-046889b048b6"
      },
      "execution_count": null,
      "outputs": [
        {
          "output_type": "display_data",
          "data": {
            "text/plain": [
              "<Figure size 640x480 with 1 Axes>"
            ],
            "image/png": "[encoded data removed]"
          },
          "metadata": {}
        }
      ]
    },
    {
      "cell_type": "markdown",
      "source": [
        "##CNN on FashionMNIST"
      ],
      "metadata": {
        "id": "X0HFyok6cG8X"
      }
    },
    {
      "cell_type": "code",
      "source": [
        "from torchvision.datasets import FashionMNIST as data"
      ],
      "metadata": {
        "id": "7zCfmkomb87S"
      },
      "execution_count": null,
      "outputs": []
    },
    {
      "cell_type": "code",
      "source": [
        "from torchvision import transforms"
      ],
      "metadata": {
        "id": "1YtJ_957hkbE"
      },
      "execution_count": null,
      "outputs": []
    },
    {
      "cell_type": "code",
      "source": [
        "class CNN(nn.Module):\n",
        "  def __init__(self):\n",
        "    super(CNN,self).__init__()\n",
        "    self.c1 = nn.Conv2d(in_channels = 1, out_channels = 8, kernel_size= 3)\n",
        "    self.act = nn.ReLU()\n",
        "    self.c2 = nn.Conv2d(in_channels = 8, out_channels = 16, kernel_size = 3)\n",
        "    self.pool = nn.MaxPool2d(kernel_size = 2)\n",
        "\n",
        "    self.fc1 = nn.Linear(16*5*5,64)\n",
        "    self.fc2 = nn.Linear(64,128)\n",
        "    self.fc3 = nn.Linear(128,10)\n",
        "  def forward(self,x):\n",
        "    x = self.c1(x)\n",
        "    x = self.act(x)\n",
        "    x = self.pool(x)\n",
        "    x = self.c2(x)\n",
        "    x = self.act(x)\n",
        "    x = self.pool(x)\n",
        "    x = x.view(-1,16*5*5)\n",
        "    x = self.fc1(x)\n",
        "    x = self.act(x)\n",
        "    x = self.fc2(x)\n",
        "    x = self.act(x)\n",
        "    x = self.fc3(x)\n",
        "    return x"
      ],
      "metadata": {
        "id": "U56owkF6hHgv"
      },
      "execution_count": null,
      "outputs": []
    },
    {
      "cell_type": "code",
      "source": [
        "train_dataset = data(root='./data',download = True, train = True, transform = transforms.ToTensor())\n",
        "test_dataset = data(root=',/data',download = True, train=False, transform = transforms.ToTensor())"
      ],
      "metadata": {
        "id": "_r2MpDnEcGGc"
      },
      "execution_count": null,
      "outputs": []
    },
    {
      "cell_type": "code",
      "source": [
        "x_train , y_train = train_dataset.data, train_dataset.targets\n",
        "x_test, y_test = test_dataset.data, test_dataset.targets"
      ],
      "metadata": {
        "id": "vRhxEC03crmh"
      },
      "execution_count": null,
      "outputs": []
    },
    {
      "cell_type": "code",
      "source": [
        "x_train.shape"
      ],
      "metadata": {
        "colab": {
          "base_uri": "https://localhost:8080/"
        },
        "id": "GYYITMFjhog_",
        "outputId": "d955728f-29a3-4842-8231-a4442ce1d9e9"
      },
      "execution_count": null,
      "outputs": [
        {
          "output_type": "execute_result",
          "data": {
            "text/plain": [
              "torch.Size([60000, 28, 28])"
            ]
          },
          "metadata": {},
          "execution_count": 152
        }
      ]
    },
    {
      "cell_type": "code",
      "source": [
        "model = CNN()\n",
        "device = torch.device('cuda' if torch.cuda.is_available() else 'cpu')\n",
        "model.to(device)\n",
        "criterion = nn.CrossEntropyLoss()\n",
        "optimizer = optim.Adam(model.parameters(),lr=0.01)"
      ],
      "metadata": {
        "id": "tdJ8ViF4cyI4"
      },
      "execution_count": null,
      "outputs": []
    },
    {
      "cell_type": "code",
      "source": [
        "train_loader = torch.utils.data.DataLoader(dataset = train_dataset, batch_size = 128, shuffle = True)\n",
        "test_loader = torch.utils.data.DataLoader(dataset = test_dataset, batch_size = 128, shuffle = False)"
      ],
      "metadata": {
        "id": "oOUhdiV1c3hG"
      },
      "execution_count": null,
      "outputs": []
    },
    {
      "cell_type": "code",
      "source": [
        "train_losses = []\n",
        "test_losses = []\n",
        "n_epochs = 20\n",
        "\n",
        "for i in range(n_epochs):\n",
        "  train_batch_losses = []\n",
        "  test_batch_losses = []\n",
        "  for inputs , targets in train_loader:\n",
        "    inputs,targets = inputs.to(device),targets.to(device)\n",
        "    optimizer.zero_grad()\n",
        "    output = model(inputs)\n",
        "    loss = criterion(output,targets)\n",
        "    loss.backward()\n",
        "    optimizer.step()\n",
        "    train_batch_losses.append(loss.item())\n",
        "    train_loss = np.mean(train_batch_losses)\n",
        "  train_losses.append(np.mean(train_loss))\n",
        "  for inputs , targets in test_loader:\n",
        "\n",
        "    inputs, targets = inputs.to(device),targets.to(device)\n",
        "    output = model(inputs)\n",
        "    loss = criterion(output,targets)\n",
        "    test_batch_losses.append(loss.item())\n",
        "    test_loss = np.mean(test_batch_losses)\n",
        "  test_losses.append(test_loss)\n",
        "  print(f'Epoch {i}/{n_epochs}, Train Loss: {np.round(loss.item(),4)} Test Loss: {np.round(test_loss,4)}')"
      ],
      "metadata": {
        "colab": {
          "base_uri": "https://localhost:8080/"
        },
        "id": "S7ZwcTPxdAvA",
        "outputId": "62ee5760-bb80-4faa-a269-633e4ac287aa"
      },
      "execution_count": null,
      "outputs": [
        {
          "output_type": "stream",
          "name": "stdout",
          "text": [
            "Epoch 0/20, Train Loss: 0.1706 Test Loss: 0.4089\n",
            "Epoch 1/20, Train Loss: 0.2583 Test Loss: 0.3922\n",
            "Epoch 2/20, Train Loss: 0.3146 Test Loss: 0.3377\n",
            "Epoch 3/20, Train Loss: 0.6779 Test Loss: 0.3616\n",
            "Epoch 4/20, Train Loss: 0.1591 Test Loss: 0.3566\n",
            "Epoch 5/20, Train Loss: 0.2718 Test Loss: 0.3326\n",
            "Epoch 6/20, Train Loss: 0.6284 Test Loss: 0.3572\n",
            "Epoch 7/20, Train Loss: 0.2172 Test Loss: 0.363\n",
            "Epoch 8/20, Train Loss: 0.19 Test Loss: 0.3578\n",
            "Epoch 9/20, Train Loss: 0.0717 Test Loss: 0.3502\n",
            "Epoch 10/20, Train Loss: 0.1142 Test Loss: 0.3255\n",
            "Epoch 11/20, Train Loss: 0.375 Test Loss: 0.3425\n",
            "Epoch 12/20, Train Loss: 0.2186 Test Loss: 0.353\n",
            "Epoch 13/20, Train Loss: 0.2453 Test Loss: 0.3345\n",
            "Epoch 14/20, Train Loss: 0.4179 Test Loss: 0.3449\n",
            "Epoch 15/20, Train Loss: 0.4109 Test Loss: 0.3608\n",
            "Epoch 16/20, Train Loss: 0.1256 Test Loss: 0.3499\n",
            "Epoch 17/20, Train Loss: 0.1474 Test Loss: 0.3819\n",
            "Epoch 18/20, Train Loss: 0.149 Test Loss: 0.3378\n",
            "Epoch 19/20, Train Loss: 1.1183 Test Loss: 0.3552\n"
          ]
        }
      ]
    },
    {
      "cell_type": "code",
      "source": [
        "\n",
        "plt.plot(train_losses,label = \"train_losses\")\n",
        "plt.plot(test_losses,label = \"test_losses\")\n",
        "plt.legend()\n",
        "plt.show()"
      ],
      "metadata": {
        "colab": {
          "base_uri": "https://localhost:8080/",
          "height": 430
        },
        "id": "MfDP37bgg-5N",
        "outputId": "7d12cb82-079f-4af5-c96d-06d7bf393606"
      },
      "execution_count": null,
      "outputs": [
        {
          "output_type": "display_data",
          "data": {
            "text/plain": [
              "<Figure size 640x480 with 1 Axes>"
            ],
            "image/png": "[encoded data removed]"
          },
          "metadata": {}
        }
      ]
    },
    {
      "cell_type": "code",
      "source": [
        "n_correct = 0\n",
        "n_total = 0\n",
        "model.eval()\n",
        "\n",
        "for inputs,targets in test_loader:\n",
        "  inputs,targets = inputs.to(device),targets.to(device)\n",
        "  output = model(inputs)\n",
        "  _,predicted = torch.max(output,1)\n",
        "  n_correct += (predicted == targets).sum().item()\n",
        "  n_total += targets.shape[0]\n",
        "acc = n_correct/n_total\n",
        "print(f'Test accuracy: {acc*100}')\n",
        "\n",
        "for inputs,targets in train_loader:\n",
        "  inputs,targets = inputs.to(device),targets.to(device)\n",
        "  output = model(inputs)\n",
        "  _,predicted = torch.max(output.data,1)\n",
        "  n_correct += (predicted == targets).sum().item()\n",
        "  n_total += targets.shape[0]\n",
        "acc = n_correct/n_total\n",
        "print(f'Train accuracy: {acc*100}')\n"
      ],
      "metadata": {
        "colab": {
          "base_uri": "https://localhost:8080/"
        },
        "id": "_kKeR7ootIIK",
        "outputId": "76530519-3bc9-466a-a76c-1ce53dac590a"
      },
      "execution_count": null,
      "outputs": [
        {
          "output_type": "stream",
          "name": "stdout",
          "text": [
            "Test accuracy: 88.32\n",
            "Train accuracy: 91.53714285714287\n"
          ]
        }
      ]
    },
    {
      "cell_type": "markdown",
      "source": [
        "##CNN on CIFAR10\n"
      ],
      "metadata": {
        "id": "c2iyqGr3Qyr7"
      }
    },
    {
      "cell_type": "code",
      "source": [
        "from torchvision.datasets import CIFAR10 as data"
      ],
      "metadata": {
        "id": "-WGLIUjTuKES"
      },
      "execution_count": null,
      "outputs": []
    },
    {
      "cell_type": "code",
      "source": [
        "transforms_train = transforms.Compose([\n",
        "\n",
        "torchvision.transforms.RandomHorizontalFlip(),\n",
        "torchvision.transforms.RandomVerticalFlip(),\n",
        "torchvision.transforms.ColorJitter(brightness=0.2, contrast=0.2, saturation=0.2, hue=0.2),\n",
        "torchvision.transforms.RandomRotation(degrees=10),\n",
        "torchvision.transforms.RandomCrop(size=32, padding=2),\n",
        "torchvision.transforms.RandomAffine(degrees=0, translate=(0.1, 0.1), scale=(0.9, 1.1), shear=10),\n",
        "torchvision.transforms.ToTensor()\n",
        "\n",
        "\n",
        "])"
      ],
      "metadata": {
        "id": "-9Bcp2dIW_Ng"
      },
      "execution_count": null,
      "outputs": []
    },
    {
      "cell_type": "code",
      "source": [
        "train_dataset = data(root='./data',download = True, train= True, transform=transforms_train)\n",
        "test_dataset = data(root='./data',download = True, train= False, transform = transforms.ToTensor())"
      ],
      "metadata": {
        "colab": {
          "base_uri": "https://localhost:8080/"
        },
        "id": "clSt73UsQxBS",
        "outputId": "c6aba6d4-2b80-4921-89d8-99ba2c46f1fa"
      },
      "execution_count": null,
      "outputs": [
        {
          "output_type": "stream",
          "name": "stdout",
          "text": [
            "Files already downloaded and verified\n",
            "Files already downloaded and verified\n"
          ]
        }
      ]
    },
    {
      "cell_type": "code",
      "source": [
        "x_train,y_train = train_dataset.data, train_dataset.targets\n",
        "x_test,y_test = test_dataset.data, test_dataset.targets"
      ],
      "metadata": {
        "id": "oUQcdt0wY1i3"
      },
      "execution_count": null,
      "outputs": []
    },
    {
      "cell_type": "code",
      "source": [
        "train_loader = torch.utils.data.DataLoader(dataset = train_dataset, batch_size = 64, shuffle = True)\n",
        "test_loader = torch.utils.data.DataLoader(dataset = test_dataset, batch_size = 64, shuffle = False)"
      ],
      "metadata": {
        "id": "sVKmyhcRY7US"
      },
      "execution_count": null,
      "outputs": []
    },
    {
      "cell_type": "code",
      "source": [
        "class CNN(nn.Module):\n",
        "  def __init__(self):\n",
        "    super(CNN,self).__init__()\n",
        "    self.conv1 = nn.Sequential(\n",
        "        nn.Conv2d(in_channels = 3,out_channels = 64,kernel_size = 3,padding=1),\n",
        "        nn.ReLU(),\n",
        "        nn.BatchNorm2d(64),\n",
        "        nn.Conv2d(in_channels =64,out_channels = 64,kernel_size = 3,padding=1),\n",
        "        nn.ReLU(),\n",
        "        nn.BatchNorm2d(64),\n",
        "        nn.MaxPool2d(kernel_size = 2)\n",
        "    )\n",
        "    self.conv2 = nn.Sequential(\n",
        "\n",
        "                nn.Conv2d(in_channels = 64,out_channels = 128,kernel_size = 3,padding=1),\n",
        "                nn.ReLU(),\n",
        "                nn.BatchNorm2d(128),\n",
        "                nn.Conv2d(in_channels = 128,out_channels = 128,kernel_size = 3,padding=1),\n",
        "                nn.ReLU(),\n",
        "                nn.BatchNorm2d(128),\n",
        "                nn.MaxPool2d(kernel_size = 2)\n",
        "    )\n",
        "\n",
        "    self.conv3 = nn.Sequential(\n",
        "\n",
        "                nn.Conv2d(in_channels = 128, out_channels = 256, kernel_size = 3,padding=1),\n",
        "                nn.ReLU(),\n",
        "                nn.BatchNorm2d(256),\n",
        "                nn.Conv2d(in_channels = 256, out_channels = 256, kernel_size = 3,padding=1),\n",
        "                nn.ReLU(),\n",
        "                nn.BatchNorm2d(256),\n",
        "                nn.MaxPool2d(kernel_size = 2)\n",
        "    )\n",
        "    self.conv4 = nn.Sequential(\n",
        "\n",
        "                nn.Conv2d(in_channels = 256, out_channels = 512, kernel_size = 3,padding=1),\n",
        "                nn.ReLU(),\n",
        "                nn.BatchNorm2d(512),\n",
        "                nn.Conv2d(in_channels = 512, out_channels = 512, kernel_size = 3,padding=1),\n",
        "                nn.ReLU(),\n",
        "                nn.BatchNorm2d(512),\n",
        "                nn.MaxPool2d(kernel_size = 2)\n",
        "    )\n",
        "\n",
        "    self.conv5 = nn.Sequential(\n",
        "\n",
        "                nn.Conv2d(in_channels = 512, out_channels = 512, kernel_size = 3,padding=1),\n",
        "                nn.ReLU(),\n",
        "                nn.BatchNorm2d(512),\n",
        "                nn.Conv2d(in_channels = 512, out_channels = 512, kernel_size = 3,padding=1),\n",
        "                nn.ReLU(),\n",
        "                nn.BatchNorm2d(512),\n",
        "                nn.MaxPool2d(kernel_size = 2)\n",
        "    )\n",
        "    self.act = nn.ReLU()\n",
        "    self.fc1 = nn.Linear(512*2*2,4096)\n",
        "    self.fc2 = nn.Linear(4096,4096)\n",
        "    self.fc3 = nn.Linear(4096,10)\n",
        "\n",
        "  def forward(self,x):\n",
        "\n",
        "    x = self.conv1(x)\n",
        "\n",
        "\n",
        "    x = self.conv2(x)\n",
        "\n",
        "    x = self.conv3(x)\n",
        "\n",
        "    x = self.conv4(x)\n",
        "\n",
        "   # x = self.conv5(x)\n",
        "    x = x.view(-1,512*2*2)\n",
        "\n",
        "    x = self.fc1(x)\n",
        "    x = self.act(x)\n",
        "    x = self.fc2(x)\n",
        "    x = self.act(x)\n",
        "    x = self.fc3(x)\n",
        "\n",
        "    return x"
      ],
      "metadata": {
        "id": "raJVRu0-Zcoh"
      },
      "execution_count": null,
      "outputs": []
    },
    {
      "cell_type": "code",
      "source": [
        "model = CNN()\n",
        "device = torch.device('cuda' if torch.cuda.is_available() else 'cpu')\n",
        "model.to(device)"
      ],
      "metadata": {
        "colab": {
          "base_uri": "https://localhost:8080/"
        },
        "id": "_2C_7bvlgA4h",
        "outputId": "c7891b07-5392-4904-85f1-b1e62692b4b7"
      },
      "execution_count": null,
      "outputs": [
        {
          "output_type": "execute_result",
          "data": {
            "text/plain": [
              "CNN(\n",
              "  (conv1): Sequential(\n",
              "    (0): Conv2d(3, 64, kernel_size=(3, 3), stride=(1, 1), padding=(1, 1))\n",
              "    (1): ReLU()\n",
              "    (2): BatchNorm2d(64, eps=1e-05, momentum=0.1, affine=True, track_running_stats=True)\n",
              "    (3): Conv2d(64, 64, kernel_size=(3, 3), stride=(1, 1), padding=(1, 1))\n",
              "    (4): ReLU()\n",
              "    (5): BatchNorm2d(64, eps=1e-05, momentum=0.1, affine=True, track_running_stats=True)\n",
              "    (6): MaxPool2d(kernel_size=2, stride=2, padding=0, dilation=1, ceil_mode=False)\n",
              "  )\n",
              "  (conv2): Sequential(\n",
              "    (0): Conv2d(64, 128, kernel_size=(3, 3), stride=(1, 1), padding=(1, 1))\n",
              "    (1): ReLU()\n",
              "    (2): BatchNorm2d(128, eps=1e-05, momentum=0.1, affine=True, track_running_stats=True)\n",
              "    (3): Conv2d(128, 128, kernel_size=(3, 3), stride=(1, 1), padding=(1, 1))\n",
              "    (4): ReLU()\n",
              "    (5): BatchNorm2d(128, eps=1e-05, momentum=0.1, affine=True, track_running_stats=True)\n",
              "    (6): MaxPool2d(kernel_size=2, stride=2, padding=0, dilation=1, ceil_mode=False)\n",
              "  )\n",
              "  (conv3): Sequential(\n",
              "    (0): Conv2d(128, 256, kernel_size=(3, 3), stride=(1, 1), padding=(1, 1))\n",
              "    (1): ReLU()\n",
              "    (2): BatchNorm2d(256, eps=1e-05, momentum=0.1, affine=True, track_running_stats=True)\n",
              "    (3): Conv2d(256, 256, kernel_size=(3, 3), stride=(1, 1), padding=(1, 1))\n",
              "    (4): ReLU()\n",
              "    (5): BatchNorm2d(256, eps=1e-05, momentum=0.1, affine=True, track_running_stats=True)\n",
              "    (6): MaxPool2d(kernel_size=2, stride=2, padding=0, dilation=1, ceil_mode=False)\n",
              "  )\n",
              "  (conv4): Sequential(\n",
              "    (0): Conv2d(256, 512, kernel_size=(3, 3), stride=(1, 1), padding=(1, 1))\n",
              "    (1): ReLU()\n",
              "    (2): BatchNorm2d(512, eps=1e-05, momentum=0.1, affine=True, track_running_stats=True)\n",
              "    (3): Conv2d(512, 512, kernel_size=(3, 3), stride=(1, 1), padding=(1, 1))\n",
              "    (4): ReLU()\n",
              "    (5): BatchNorm2d(512, eps=1e-05, momentum=0.1, affine=True, track_running_stats=True)\n",
              "    (6): MaxPool2d(kernel_size=2, stride=2, padding=0, dilation=1, ceil_mode=False)\n",
              "  )\n",
              "  (conv5): Sequential(\n",
              "    (0): Conv2d(512, 512, kernel_size=(3, 3), stride=(1, 1), padding=(1, 1))\n",
              "    (1): ReLU()\n",
              "    (2): BatchNorm2d(512, eps=1e-05, momentum=0.1, affine=True, track_running_stats=True)\n",
              "    (3): Conv2d(512, 512, kernel_size=(3, 3), stride=(1, 1), padding=(1, 1))\n",
              "    (4): ReLU()\n",
              "    (5): BatchNorm2d(512, eps=1e-05, momentum=0.1, affine=True, track_running_stats=True)\n",
              "    (6): MaxPool2d(kernel_size=2, stride=2, padding=0, dilation=1, ceil_mode=False)\n",
              "  )\n",
              "  (act): ReLU()\n",
              "  (fc1): Linear(in_features=2048, out_features=4096, bias=True)\n",
              "  (fc2): Linear(in_features=4096, out_features=4096, bias=True)\n",
              "  (fc3): Linear(in_features=4096, out_features=10, bias=True)\n",
              ")"
            ]
          },
          "metadata": {},
          "execution_count": 93
        }
      ]
    },
    {
      "cell_type": "code",
      "source": [
        "criterion = nn.CrossEntropyLoss()\n",
        "optimizer = optim.Adam(model.parameters(),lr=0.001)\n",
        "n_epochs = 20"
      ],
      "metadata": {
        "id": "qftEL3zwfyQy"
      },
      "execution_count": null,
      "outputs": []
    },
    {
      "cell_type": "code",
      "source": [
        "train_losses = []\n",
        "test_losses = []\n",
        "for i in range(n_epochs):\n",
        "  train_batch_losses = []\n",
        "  test_batch_losses = []\n",
        "  model.train()\n",
        "  for inputs,targets in train_loader:\n",
        "    inputs,targets = inputs.to(device),targets.to(device)\n",
        "    optimizer.zero_grad()\n",
        "    output = model(inputs)\n",
        "    loss = criterion(output,targets)\n",
        "    loss.backward()\n",
        "    optimizer.step()\n",
        "    train_batch_losses.append(loss.item())\n",
        "  train_loss = np.mean(train_batch_losses)\n",
        "  train_losses.append(train_loss)\n",
        "  for inputs,targets in test_loader:\n",
        "    model.eval()\n",
        "    inputs,targets = inputs.to(device),targets.to(device)\n",
        "    output = model(inputs)\n",
        "    loss = criterion(output,targets)\n",
        "    test_batch_losses.append(loss.item())\n",
        "  test_loss = np.mean(test_batch_losses)\n",
        "  test_losses.append(test_loss)\n",
        "  print(f'Epoch {i}/{n_epochs}, Train Loss: {np.round(train_loss,4)} Test Loss: {np.round(test_loss,4)}')\n"
      ],
      "metadata": {
        "colab": {
          "base_uri": "https://localhost:8080/"
        },
        "id": "36zI5lDzf-j1",
        "outputId": "2aeb4c04-66ef-40a1-ae8f-430bd58ec554"
      },
      "execution_count": null,
      "outputs": [
        {
          "output_type": "stream",
          "name": "stdout",
          "text": [
            "Epoch 0/20, Train Loss: 1.9029 Test Loss: 1.618\n",
            "Epoch 1/20, Train Loss: 1.5166 Test Loss: 1.3322\n",
            "Epoch 2/20, Train Loss: 1.3088 Test Loss: 1.7411\n",
            "Epoch 3/20, Train Loss: 1.1891 Test Loss: 1.0601\n",
            "Epoch 4/20, Train Loss: 1.0613 Test Loss: 0.9558\n",
            "Epoch 5/20, Train Loss: 0.9973 Test Loss: 0.8325\n",
            "Epoch 6/20, Train Loss: 0.9296 Test Loss: 1.177\n",
            "Epoch 7/20, Train Loss: 0.8797 Test Loss: 0.7873\n",
            "Epoch 8/20, Train Loss: 0.822 Test Loss: 0.8987\n",
            "Epoch 9/20, Train Loss: 0.7828 Test Loss: 99.954\n",
            "Epoch 10/20, Train Loss: 0.7873 Test Loss: 0.8857\n",
            "Epoch 11/20, Train Loss: 0.7304 Test Loss: 0.6207\n",
            "Epoch 12/20, Train Loss: 0.6999 Test Loss: 0.6451\n",
            "Epoch 13/20, Train Loss: 0.6753 Test Loss: 0.6738\n",
            "Epoch 14/20, Train Loss: 0.6587 Test Loss: 0.6723\n",
            "Epoch 15/20, Train Loss: 0.6361 Test Loss: 0.6086\n",
            "Epoch 16/20, Train Loss: 0.6242 Test Loss: 0.5101\n",
            "Epoch 17/20, Train Loss: 0.6042 Test Loss: 0.5356\n",
            "Epoch 18/20, Train Loss: 0.5905 Test Loss: 0.9837\n",
            "Epoch 19/20, Train Loss: 0.5698 Test Loss: 8.5284\n"
          ]
        }
      ]
    },
    {
      "cell_type": "code",
      "source": [
        "\n",
        "plt.plot(train_losses,label = \"train_losses\")\n",
        "plt.plot(test_losses,label = \"test_losses\")\n",
        "plt.legend()\n",
        "plt.show()"
      ],
      "metadata": {
        "id": "TqPV-aSsh_SJ",
        "colab": {
          "base_uri": "https://localhost:8080/",
          "height": 430
        },
        "outputId": "651fd8d6-288d-4f09-ee88-e36810581941"
      },
      "execution_count": null,
      "outputs": [
        {
          "output_type": "display_data",
          "data": {
            "text/plain": [
              "<Figure size 640x480 with 1 Axes>"
            ],
            "image/png": "[encoded data removed]"
          },
          "metadata": {}
        }
      ]
    },
    {
      "cell_type": "code",
      "source": [
        "n_correct = 0\n",
        "n_total = 0\n",
        "model.eval()\n",
        "\n",
        "for inputs,targets in test_loader:\n",
        "  inputs,targets = inputs.to(device),targets.to(device)\n",
        "  output = model(inputs)\n",
        "  _,predicted = torch.max(output,1)\n",
        "  n_correct += (predicted == targets).sum().item()\n",
        "  n_total += targets.shape[0]\n",
        "acc = n_correct/n_total\n",
        "print(f'Test accuracy: {acc*100}')\n",
        "\n",
        "for inputs,targets in train_loader:\n",
        "  inputs,targets = inputs.to(device),targets.to(device)\n",
        "  output = model(inputs)\n",
        "  _,predicted = torch.max(output.data,1)\n",
        "  n_correct += (predicted == targets).sum().item()\n",
        "  n_total += targets.shape[0]\n",
        "acc = n_correct/n_total\n",
        "print(f'Train accuracy: {acc*100}')\n"
      ],
      "metadata": {
        "colab": {
          "base_uri": "https://localhost:8080/"
        },
        "id": "YePcLd9P1dHu",
        "outputId": "7e87a420-d9b4-4d4e-bc19-eaf558a4b876"
      },
      "execution_count": null,
      "outputs": [
        {
          "output_type": "stream",
          "name": "stdout",
          "text": [
            "Test accuracy: 82.92\n",
            "Train accuracy: 80.415\n"
          ]
        }
      ]
    },
    {
      "cell_type": "code",
      "source": [],
      "metadata": {
        "id": "27NzU-Ry2Cqf"
      },
      "execution_count": null,
      "outputs": []
    }
  ]
}