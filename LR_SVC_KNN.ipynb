{
  "nbformat": 4,
  "nbformat_minor": 0,
  "metadata": {
    "colab": {
      "provenance": [],
      "authorship_tag": "ABX9TyNXOs7a3PmOB4mbGGq6E56N",
      "include_colab_link": true
    },
    "kernelspec": {
      "name": "python3",
      "display_name": "Python 3"
    },
    "language_info": {
      "name": "python"
    }
  },
  "cells": [
    {
      "cell_type": "markdown",
      "metadata": {
        "id": "view-in-github",
        "colab_type": "text"
      },
      "source": [
        "<a href=\"https://colab.research.google.com/github/HossamSaoud/MachineLearning_Notebooks/blob/main/LR_SVC_KNN.ipynb\" target=\"_parent\"><img src=\"https://colab.research.google.com/assets/colab-badge.svg\" alt=\"Open In Colab\"/></a>"
      ]
    },
    {
      "cell_type": "code",
      "execution_count": null,
      "metadata": {
        "id": "prrrk_shL6Mr"
      },
      "outputs": [],
      "source": [
        "import numpy as np\n",
        "import pandas as pd\n",
        "from keras.datasets import mnist\n",
        "from sklearn.neighbors import KNeighborsClassifier\n",
        "from sklearn.svm import SVC\n",
        "from sklearn.linear_model import LogisticRegression\n",
        "from sklearn.preprocessing import MinMaxScaler\n",
        "from sklearn.metrics import confusion_matrix,precision_recall_fscore_support,accuracy_score,roc_auc_score,auc,roc_curve"
      ]
    },
    {
      "cell_type": "code",
      "source": [
        "(x_train,y_train),(x_test,y_test)=mnist.load_data()"
      ],
      "metadata": {
        "id": "Rl-R4o2hL8xv"
      },
      "execution_count": null,
      "outputs": []
    },
    {
      "cell_type": "code",
      "source": [
        "x_train=x_train.reshape(x_train.shape[0],-1)/255\n",
        "x_test=x_test.reshape(x_test.shape[0],-1)/255"
      ],
      "metadata": {
        "id": "oPD3ZZgdNaEm"
      },
      "execution_count": null,
      "outputs": []
    },
    {
      "cell_type": "code",
      "source": [
        "lr=LogisticRegression()\n",
        "lr.fit(x_train,y_train)\n",
        "y_pred=lr.predict(x_test)\n",
        "precision,recall,fscore,_=precision_recall_fscore_support(y_test,y_pred,average='macro')\n",
        "accuracy=accuracy_score(y_test,y_pred)\n",
        "print(f'Accuracy={accuracy*100}%\\n Recall={recall*100}%\\n precision={precision*100}%\\n F1Score={fscore*100}%')"
      ],
      "metadata": {
        "colab": {
          "base_uri": "https://localhost:8080/"
        },
        "id": "vHE5mR6KN7S9",
        "outputId": "0ea35f88-ccdf-49b0-cda4-4032909c5772"
      },
      "execution_count": null,
      "outputs": [
        {
          "output_type": "stream",
          "name": "stdout",
          "text": [
            "Accuracy=92.58%\n",
            " Recall=92.48030564386838%\n",
            " precision=92.49695063459825%\n",
            " F1Score=92.47926758852978%\n"
          ]
        },
        {
          "output_type": "stream",
          "name": "stderr",
          "text": [
            "/usr/local/lib/python3.9/dist-packages/sklearn/linear_model/_logistic.py:458: ConvergenceWarning: lbfgs failed to converge (status=1):\n",
            "STOP: TOTAL NO. of ITERATIONS REACHED LIMIT.\n",
            "\n",
            "Increase the number of iterations (max_iter) or scale the data as shown in:\n",
            "    https://scikit-learn.org/stable/modules/preprocessing.html\n",
            "Please also refer to the documentation for alternative solver options:\n",
            "    https://scikit-learn.org/stable/modules/linear_model.html#logistic-regression\n",
            "  n_iter_i = _check_optimize_result(\n"
          ]
        }
      ]
    },
    {
      "cell_type": "code",
      "source": [
        "classifier=SVC(kernel='rbf')\n",
        "classifier.fit(x_train,y_train)\n",
        "y_pred2=classifier.predict(x_test)\n",
        "precision,recall,fscore,_=precision_recall_fscore_support(y_test,y_pred2,average='macro')\n",
        "accuracy=accuracy_score(y_test,y_pred2)\n",
        "print(f'Accuracy={accuracy*100}%\\n Recall={recall*100}%\\n precision={precision*100}%\\n F1Score={fscore*100}%')\n"
      ],
      "metadata": {
        "colab": {
          "base_uri": "https://localhost:8080/"
        },
        "id": "4ukoMO8vQjFe",
        "outputId": "00385c47-70ef-476e-f095-8b7f5ee17b59"
      },
      "execution_count": null,
      "outputs": [
        {
          "output_type": "stream",
          "name": "stdout",
          "text": [
            "Accuracy=97.92%\n",
            " Recall=97.90919842945065%\n",
            " precision=97.91973966593345%\n",
            " F1Score=97.91298259748042%\n"
          ]
        }
      ]
    },
    {
      "cell_type": "code",
      "source": [
        "classifier2=KNeighborsClassifier(n_neighbors=3)\n",
        "classifier2.fit(x_train,y_train)\n",
        "y_pred3=classifier2.predict(x_test)\n",
        "precision,recall,fscore,_=precision_recall_fscore_support(y_test,y_pred3,average='macro')\n",
        "accuracy=accuracy_score(y_test,y_pred3)\n",
        "print(f'Accuracy={accuracy*100}%\\n Recall={recall*100}%\\n precision={precision*100}%\\n F1Score={fscore*100}%')\n"
      ],
      "metadata": {
        "colab": {
          "base_uri": "https://localhost:8080/"
        },
        "id": "xt8ld47sRiJT",
        "outputId": "54aaf41e-e9aa-4826-b658-258d7fe86d35"
      },
      "execution_count": null,
      "outputs": [
        {
          "output_type": "stream",
          "name": "stdout",
          "text": [
            "Accuracy=97.05%\n",
            " Recall=97.01144344783678%\n",
            " precision=97.09116052270814%\n",
            " F1Score=97.03749561556656%\n"
          ]
        }
      ]
    }
  ]
}