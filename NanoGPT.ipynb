{
  "nbformat": 4,
  "nbformat_minor": 0,
  "metadata": {
    "colab": {
      "provenance": [],
      "gpuType": "T4",
      "authorship_tag": "ABX9TyPJ68JQ+6h1kk3mQchFr+iy",
      "include_colab_link": true
    },
    "kernelspec": {
      "name": "python3",
      "display_name": "Python 3"
    },
    "language_info": {
      "name": "python"
    },
    "accelerator": "GPU"
  },
  "cells": [
    {
      "cell_type": "markdown",
      "metadata": {
        "id": "view-in-github",
        "colab_type": "text"
      },
      "source": [
        "<a href=\"https://colab.research.google.com/github/HossamSaoud/MachineLearning_Notebooks/blob/main/NanoGPT.ipynb\" target=\"_parent\"><img src=\"https://colab.research.google.com/assets/colab-badge.svg\" alt=\"Open In Colab\"/></a>"
      ]
    },
    {
      "cell_type": "code",
      "source": [
        "import torch\n",
        "import torch.nn as nn\n",
        "import torch.optim as optim\n",
        "import numpy as np\n",
        "import matplotlib.pyplot as plt\n",
        "import torchvision\n",
        "import torchvision.transforms as transforms\n",
        "from torch.nn import functional as F"
      ],
      "metadata": {
        "id": "W988wpmjJdSy"
      },
      "execution_count": null,
      "outputs": []
    },
    {
      "cell_type": "code",
      "execution_count": null,
      "metadata": {
        "colab": {
          "base_uri": "https://localhost:8080/"
        },
        "id": "h5hjCcLDr2WC",
        "outputId": "12a926b3-9d3a-4033-d98c-b3265e2fce8b"
      },
      "outputs": [
        {
          "output_type": "stream",
          "name": "stdout",
          "text": [
            "--2024-11-13 21:11:03--  https://raw.githubusercontent.com/karpathy/char-rnn/master/data/tinyshakespeare/input.txt\n",
            "Resolving raw.githubusercontent.com (raw.githubusercontent.com)... 185.199.108.133, 185.199.109.133, 185.199.110.133, ...\n",
            "Connecting to raw.githubusercontent.com (raw.githubusercontent.com)|185.199.108.133|:443... connected.\n",
            "HTTP request sent, awaiting response... 200 OK\n",
            "Length: 1115394 (1.1M) [text/plain]\n",
            "Saving to: ‘input.txt.4’\n",
            "\n",
            "input.txt.4         100%[===================>]   1.06M  --.-KB/s    in 0.05s   \n",
            "\n",
            "2024-11-13 21:11:03 (21.3 MB/s) - ‘input.txt.4’ saved [1115394/1115394]\n",
            "\n"
          ]
        }
      ],
      "source": [
        "# We always start with a dataset to train on. Let's download the tiny shakespeare dataset\n",
        "!wget https://raw.githubusercontent.com/karpathy/char-rnn/master/data/tinyshakespeare/input.txt"
      ]
    },
    {
      "cell_type": "code",
      "source": [
        "# read it in to inspect it\n",
        "with open('input.txt', 'r', encoding='utf-8') as f:\n",
        "    text = f.read()"
      ],
      "metadata": {
        "id": "aQU4wI7n14ap"
      },
      "execution_count": null,
      "outputs": []
    },
    {
      "cell_type": "code",
      "source": [
        "print(\"length of dataset in characters: \", len(text))"
      ],
      "metadata": {
        "colab": {
          "base_uri": "https://localhost:8080/"
        },
        "id": "YKSgIU-h16Nb",
        "outputId": "7424690d-8782-49a0-91f2-9f2811dbae30"
      },
      "execution_count": null,
      "outputs": [
        {
          "output_type": "stream",
          "name": "stdout",
          "text": [
            "length of dataset in characters:  1115394\n"
          ]
        }
      ]
    },
    {
      "cell_type": "code",
      "source": [
        "# let's look at the first 1000 characters\n",
        "print(text[:1000])"
      ],
      "metadata": {
        "colab": {
          "base_uri": "https://localhost:8080/"
        },
        "id": "IK54fU9G17WV",
        "outputId": "dc726483-bbd6-4c6b-a745-6a1895207b3e"
      },
      "execution_count": null,
      "outputs": [
        {
          "output_type": "stream",
          "name": "stdout",
          "text": [
            "First Citizen:\n",
            "Before we proceed any further, hear me speak.\n",
            "\n",
            "All:\n",
            "Speak, speak.\n",
            "\n",
            "First Citizen:\n",
            "You are all resolved rather to die than to famish?\n",
            "\n",
            "All:\n",
            "Resolved. resolved.\n",
            "\n",
            "First Citizen:\n",
            "First, you know Caius Marcius is chief enemy to the people.\n",
            "\n",
            "All:\n",
            "We know't, we know't.\n",
            "\n",
            "First Citizen:\n",
            "Let us kill him, and we'll have corn at our own price.\n",
            "Is't a verdict?\n",
            "\n",
            "All:\n",
            "No more talking on't; let it be done: away, away!\n",
            "\n",
            "Second Citizen:\n",
            "One word, good citizens.\n",
            "\n",
            "First Citizen:\n",
            "We are accounted poor citizens, the patricians good.\n",
            "What authority surfeits on would relieve us: if they\n",
            "would yield us but the superfluity, while it were\n",
            "wholesome, we might guess they relieved us humanely;\n",
            "but they think we are too dear: the leanness that\n",
            "afflicts us, the object of our misery, is as an\n",
            "inventory to particularise their abundance; our\n",
            "sufferance is a gain to them Let us revenge this with\n",
            "our pikes, ere we become rakes: for the gods know I\n",
            "speak this in hunger for bread, not in thirst for revenge.\n",
            "\n",
            "\n"
          ]
        }
      ]
    },
    {
      "cell_type": "code",
      "source": [
        "chars = sorted(list(set(text)))\n",
        "vocab_size = len(chars)\n",
        "print(''.join(chars))\n",
        "print(vocab_size)"
      ],
      "metadata": {
        "colab": {
          "base_uri": "https://localhost:8080/"
        },
        "id": "dIqpxzlv1_aw",
        "outputId": "a101d5c3-0536-469d-9e1f-5fd5fc27baf2"
      },
      "execution_count": null,
      "outputs": [
        {
          "output_type": "stream",
          "name": "stdout",
          "text": [
            "\n",
            " !$&',-.3:;?ABCDEFGHIJKLMNOPQRSTUVWXYZabcdefghijklmnopqrstuvwxyz\n",
            "65\n"
          ]
        }
      ]
    },
    {
      "cell_type": "code",
      "source": [
        "stoi = {ch:i for i,ch in enumerate(chars)}\n",
        "itos = {i:ch for i,ch in enumerate(chars)}\n",
        "encode = lambda s: [stoi[c] for c in s]\n",
        "decode = lambda l: ''.join([itos[i] for i in l])\n",
        "\n",
        "print(encode(\"hii there\"))\n",
        "print(decode(encode(\"hii there\")))"
      ],
      "metadata": {
        "colab": {
          "base_uri": "https://localhost:8080/"
        },
        "id": "D96H1_K22IV2",
        "outputId": "671c5091-abd4-4c49-c7fd-59210ab930a1"
      },
      "execution_count": null,
      "outputs": [
        {
          "output_type": "stream",
          "name": "stdout",
          "text": [
            "[46, 47, 47, 1, 58, 46, 43, 56, 43]\n",
            "hii there\n"
          ]
        }
      ]
    },
    {
      "cell_type": "code",
      "source": [
        "# let's now encode the entire text dataset and store it into a torch.Tensor\n",
        "import torch\n",
        "data = torch.tensor(encode(text), dtype=torch.long)\n",
        "print(data.shape, data.dtype)\n",
        "print(data[:1000]) # the 1000 characters we looked at earier will to the GPT look like this"
      ],
      "metadata": {
        "colab": {
          "base_uri": "https://localhost:8080/"
        },
        "id": "D8IOVIu92pkN",
        "outputId": "f057841f-fb0a-49ab-fff7-51ae2343c47e"
      },
      "execution_count": null,
      "outputs": [
        {
          "output_type": "stream",
          "name": "stdout",
          "text": [
            "torch.Size([1115394]) torch.int64\n",
            "tensor([18, 47, 56, 57, 58,  1, 15, 47, 58, 47, 64, 43, 52, 10,  0, 14, 43, 44,\n",
            "        53, 56, 43,  1, 61, 43,  1, 54, 56, 53, 41, 43, 43, 42,  1, 39, 52, 63,\n",
            "         1, 44, 59, 56, 58, 46, 43, 56,  6,  1, 46, 43, 39, 56,  1, 51, 43,  1,\n",
            "        57, 54, 43, 39, 49,  8,  0,  0, 13, 50, 50, 10,  0, 31, 54, 43, 39, 49,\n",
            "         6,  1, 57, 54, 43, 39, 49,  8,  0,  0, 18, 47, 56, 57, 58,  1, 15, 47,\n",
            "        58, 47, 64, 43, 52, 10,  0, 37, 53, 59,  1, 39, 56, 43,  1, 39, 50, 50,\n",
            "         1, 56, 43, 57, 53, 50, 60, 43, 42,  1, 56, 39, 58, 46, 43, 56,  1, 58,\n",
            "        53,  1, 42, 47, 43,  1, 58, 46, 39, 52,  1, 58, 53,  1, 44, 39, 51, 47,\n",
            "        57, 46, 12,  0,  0, 13, 50, 50, 10,  0, 30, 43, 57, 53, 50, 60, 43, 42,\n",
            "         8,  1, 56, 43, 57, 53, 50, 60, 43, 42,  8,  0,  0, 18, 47, 56, 57, 58,\n",
            "         1, 15, 47, 58, 47, 64, 43, 52, 10,  0, 18, 47, 56, 57, 58,  6,  1, 63,\n",
            "        53, 59,  1, 49, 52, 53, 61,  1, 15, 39, 47, 59, 57,  1, 25, 39, 56, 41,\n",
            "        47, 59, 57,  1, 47, 57,  1, 41, 46, 47, 43, 44,  1, 43, 52, 43, 51, 63,\n",
            "         1, 58, 53,  1, 58, 46, 43,  1, 54, 43, 53, 54, 50, 43,  8,  0,  0, 13,\n",
            "        50, 50, 10,  0, 35, 43,  1, 49, 52, 53, 61,  5, 58,  6,  1, 61, 43,  1,\n",
            "        49, 52, 53, 61,  5, 58,  8,  0,  0, 18, 47, 56, 57, 58,  1, 15, 47, 58,\n",
            "        47, 64, 43, 52, 10,  0, 24, 43, 58,  1, 59, 57,  1, 49, 47, 50, 50,  1,\n",
            "        46, 47, 51,  6,  1, 39, 52, 42,  1, 61, 43,  5, 50, 50,  1, 46, 39, 60,\n",
            "        43,  1, 41, 53, 56, 52,  1, 39, 58,  1, 53, 59, 56,  1, 53, 61, 52,  1,\n",
            "        54, 56, 47, 41, 43,  8,  0, 21, 57,  5, 58,  1, 39,  1, 60, 43, 56, 42,\n",
            "        47, 41, 58, 12,  0,  0, 13, 50, 50, 10,  0, 26, 53,  1, 51, 53, 56, 43,\n",
            "         1, 58, 39, 50, 49, 47, 52, 45,  1, 53, 52,  5, 58, 11,  1, 50, 43, 58,\n",
            "         1, 47, 58,  1, 40, 43,  1, 42, 53, 52, 43, 10,  1, 39, 61, 39, 63,  6,\n",
            "         1, 39, 61, 39, 63,  2,  0,  0, 31, 43, 41, 53, 52, 42,  1, 15, 47, 58,\n",
            "        47, 64, 43, 52, 10,  0, 27, 52, 43,  1, 61, 53, 56, 42,  6,  1, 45, 53,\n",
            "        53, 42,  1, 41, 47, 58, 47, 64, 43, 52, 57,  8,  0,  0, 18, 47, 56, 57,\n",
            "        58,  1, 15, 47, 58, 47, 64, 43, 52, 10,  0, 35, 43,  1, 39, 56, 43,  1,\n",
            "        39, 41, 41, 53, 59, 52, 58, 43, 42,  1, 54, 53, 53, 56,  1, 41, 47, 58,\n",
            "        47, 64, 43, 52, 57,  6,  1, 58, 46, 43,  1, 54, 39, 58, 56, 47, 41, 47,\n",
            "        39, 52, 57,  1, 45, 53, 53, 42,  8,  0, 35, 46, 39, 58,  1, 39, 59, 58,\n",
            "        46, 53, 56, 47, 58, 63,  1, 57, 59, 56, 44, 43, 47, 58, 57,  1, 53, 52,\n",
            "         1, 61, 53, 59, 50, 42,  1, 56, 43, 50, 47, 43, 60, 43,  1, 59, 57, 10,\n",
            "         1, 47, 44,  1, 58, 46, 43, 63,  0, 61, 53, 59, 50, 42,  1, 63, 47, 43,\n",
            "        50, 42,  1, 59, 57,  1, 40, 59, 58,  1, 58, 46, 43,  1, 57, 59, 54, 43,\n",
            "        56, 44, 50, 59, 47, 58, 63,  6,  1, 61, 46, 47, 50, 43,  1, 47, 58,  1,\n",
            "        61, 43, 56, 43,  0, 61, 46, 53, 50, 43, 57, 53, 51, 43,  6,  1, 61, 43,\n",
            "         1, 51, 47, 45, 46, 58,  1, 45, 59, 43, 57, 57,  1, 58, 46, 43, 63,  1,\n",
            "        56, 43, 50, 47, 43, 60, 43, 42,  1, 59, 57,  1, 46, 59, 51, 39, 52, 43,\n",
            "        50, 63, 11,  0, 40, 59, 58,  1, 58, 46, 43, 63,  1, 58, 46, 47, 52, 49,\n",
            "         1, 61, 43,  1, 39, 56, 43,  1, 58, 53, 53,  1, 42, 43, 39, 56, 10,  1,\n",
            "        58, 46, 43,  1, 50, 43, 39, 52, 52, 43, 57, 57,  1, 58, 46, 39, 58,  0,\n",
            "        39, 44, 44, 50, 47, 41, 58, 57,  1, 59, 57,  6,  1, 58, 46, 43,  1, 53,\n",
            "        40, 48, 43, 41, 58,  1, 53, 44,  1, 53, 59, 56,  1, 51, 47, 57, 43, 56,\n",
            "        63,  6,  1, 47, 57,  1, 39, 57,  1, 39, 52,  0, 47, 52, 60, 43, 52, 58,\n",
            "        53, 56, 63,  1, 58, 53,  1, 54, 39, 56, 58, 47, 41, 59, 50, 39, 56, 47,\n",
            "        57, 43,  1, 58, 46, 43, 47, 56,  1, 39, 40, 59, 52, 42, 39, 52, 41, 43,\n",
            "        11,  1, 53, 59, 56,  0, 57, 59, 44, 44, 43, 56, 39, 52, 41, 43,  1, 47,\n",
            "        57,  1, 39,  1, 45, 39, 47, 52,  1, 58, 53,  1, 58, 46, 43, 51,  1, 24,\n",
            "        43, 58,  1, 59, 57,  1, 56, 43, 60, 43, 52, 45, 43,  1, 58, 46, 47, 57,\n",
            "         1, 61, 47, 58, 46,  0, 53, 59, 56,  1, 54, 47, 49, 43, 57,  6,  1, 43,\n",
            "        56, 43,  1, 61, 43,  1, 40, 43, 41, 53, 51, 43,  1, 56, 39, 49, 43, 57,\n",
            "        10,  1, 44, 53, 56,  1, 58, 46, 43,  1, 45, 53, 42, 57,  1, 49, 52, 53,\n",
            "        61,  1, 21,  0, 57, 54, 43, 39, 49,  1, 58, 46, 47, 57,  1, 47, 52,  1,\n",
            "        46, 59, 52, 45, 43, 56,  1, 44, 53, 56,  1, 40, 56, 43, 39, 42,  6,  1,\n",
            "        52, 53, 58,  1, 47, 52,  1, 58, 46, 47, 56, 57, 58,  1, 44, 53, 56,  1,\n",
            "        56, 43, 60, 43, 52, 45, 43,  8,  0,  0])\n"
          ]
        }
      ]
    },
    {
      "cell_type": "code",
      "source": [
        "# Let's now split up the data into train and validation sets\n",
        "n = int(0.9*len(data)) # first 90% will be train, rest val\n",
        "train_data = data[:n]\n",
        "val_data = data[n:]"
      ],
      "metadata": {
        "id": "AvfhoE_g24J3"
      },
      "execution_count": null,
      "outputs": []
    },
    {
      "cell_type": "code",
      "source": [
        "block_size = 8\n",
        "train_data[:block_size+1]"
      ],
      "metadata": {
        "colab": {
          "base_uri": "https://localhost:8080/"
        },
        "id": "WdnCqkVj299J",
        "outputId": "980bfc19-46c9-4533-e630-d9a37f2ab8e9"
      },
      "execution_count": null,
      "outputs": [
        {
          "output_type": "execute_result",
          "data": {
            "text/plain": [
              "tensor([18, 47, 56, 57, 58,  1, 15, 47, 58])"
            ]
          },
          "metadata": {},
          "execution_count": 93
        }
      ]
    },
    {
      "cell_type": "code",
      "source": [],
      "metadata": {
        "id": "K8Tc813F3F-J"
      },
      "execution_count": null,
      "outputs": []
    },
    {
      "cell_type": "code",
      "source": [
        "torch.manual_seed(1337)\n",
        "batch_size = 4 # how many independent sequences will we process in parallel?\n",
        "block_size = 8 # what is the maximum context length for predictions?\n",
        "\n",
        "def get_batch(split):\n",
        "    # generate a small batch of data of inputs x and targets y\n",
        "    data = train_data if split == 'train' else val_data\n",
        "    ix = torch.randint(len(data) - block_size, (batch_size,))\n",
        "    x = torch.stack([data[i:i+block_size] for i in ix])\n",
        "    y = torch.stack([data[i+1:i+block_size+1] for i in ix])\n",
        "    x, y = x.to(device), y.to(device)\n",
        "    return x, y\n",
        "\n",
        "xb, yb = get_batch('train')\n",
        "print('inputs:')\n",
        "print(xb.shape)\n",
        "print(xb)\n",
        "print('targets:')\n",
        "print(yb.shape)\n",
        "print(yb)\n",
        "\n",
        "print('----')\n",
        "\n",
        "for b in range(batch_size): # batch dimension\n",
        "    for t in range(block_size): # time dimension\n",
        "        context = xb[b, :t+1]\n",
        "        target = yb[b,t]\n",
        "        print(f\"when input is {context.tolist()} the target: {target}\")"
      ],
      "metadata": {
        "colab": {
          "base_uri": "https://localhost:8080/"
        },
        "collapsed": true,
        "id": "kN-b3xX13G4L",
        "outputId": "c7578afa-acb5-47fe-ea1d-4234f797ab32"
      },
      "execution_count": null,
      "outputs": [
        {
          "output_type": "stream",
          "name": "stdout",
          "text": [
            "inputs:\n",
            "torch.Size([4, 8])\n",
            "tensor([[24, 43, 58,  5, 57,  1, 46, 43],\n",
            "        [44, 53, 56,  1, 58, 46, 39, 58],\n",
            "        [52, 58,  1, 58, 46, 39, 58,  1],\n",
            "        [25, 17, 27, 10,  0, 21,  1, 54]], device='cuda:0')\n",
            "targets:\n",
            "torch.Size([4, 8])\n",
            "tensor([[43, 58,  5, 57,  1, 46, 43, 39],\n",
            "        [53, 56,  1, 58, 46, 39, 58,  1],\n",
            "        [58,  1, 58, 46, 39, 58,  1, 46],\n",
            "        [17, 27, 10,  0, 21,  1, 54, 39]], device='cuda:0')\n",
            "----\n",
            "when input is [24] the target: 43\n",
            "when input is [24, 43] the target: 58\n",
            "when input is [24, 43, 58] the target: 5\n",
            "when input is [24, 43, 58, 5] the target: 57\n",
            "when input is [24, 43, 58, 5, 57] the target: 1\n",
            "when input is [24, 43, 58, 5, 57, 1] the target: 46\n",
            "when input is [24, 43, 58, 5, 57, 1, 46] the target: 43\n",
            "when input is [24, 43, 58, 5, 57, 1, 46, 43] the target: 39\n",
            "when input is [44] the target: 53\n",
            "when input is [44, 53] the target: 56\n",
            "when input is [44, 53, 56] the target: 1\n",
            "when input is [44, 53, 56, 1] the target: 58\n",
            "when input is [44, 53, 56, 1, 58] the target: 46\n",
            "when input is [44, 53, 56, 1, 58, 46] the target: 39\n",
            "when input is [44, 53, 56, 1, 58, 46, 39] the target: 58\n",
            "when input is [44, 53, 56, 1, 58, 46, 39, 58] the target: 1\n",
            "when input is [52] the target: 58\n",
            "when input is [52, 58] the target: 1\n",
            "when input is [52, 58, 1] the target: 58\n",
            "when input is [52, 58, 1, 58] the target: 46\n",
            "when input is [52, 58, 1, 58, 46] the target: 39\n",
            "when input is [52, 58, 1, 58, 46, 39] the target: 58\n",
            "when input is [52, 58, 1, 58, 46, 39, 58] the target: 1\n",
            "when input is [52, 58, 1, 58, 46, 39, 58, 1] the target: 46\n",
            "when input is [25] the target: 17\n",
            "when input is [25, 17] the target: 27\n",
            "when input is [25, 17, 27] the target: 10\n",
            "when input is [25, 17, 27, 10] the target: 0\n",
            "when input is [25, 17, 27, 10, 0] the target: 21\n",
            "when input is [25, 17, 27, 10, 0, 21] the target: 1\n",
            "when input is [25, 17, 27, 10, 0, 21, 1] the target: 54\n",
            "when input is [25, 17, 27, 10, 0, 21, 1, 54] the target: 39\n"
          ]
        }
      ]
    },
    {
      "cell_type": "code",
      "source": [],
      "metadata": {
        "id": "plEr6XrTVpfv"
      },
      "execution_count": null,
      "outputs": []
    },
    {
      "cell_type": "code",
      "source": [
        "@torch.no_grad()\n",
        "def estimate_loss():\n",
        "    out = {}\n",
        "    model.eval()\n",
        "    for split in ['train', 'val']:\n",
        "        losses = torch.zeros(eval_iters)\n",
        "        for k in range(eval_iters):\n",
        "            X, Y = get_batch(split)\n",
        "            logits, loss = model(X, Y)\n",
        "            losses[k] = loss.item()\n",
        "        out[split] = losses.mean()\n",
        "    model.train()\n",
        "    return out"
      ],
      "metadata": {
        "id": "eUvMXR9tQXWL"
      },
      "execution_count": null,
      "outputs": []
    },
    {
      "cell_type": "code",
      "source": [
        "# hyperparameters\n",
        "batch_size = 16 # how many independent sequences will we process in parallel?\n",
        "block_size = 32 # what is the maximum context length for predictions?\n",
        "max_iters = 10000\n",
        "eval_interval = 100\n",
        "learning_rate = 1e-3\n",
        "device = 'cuda' if torch.cuda.is_available() else 'cpu'\n",
        "eval_iters = 200\n",
        "n_embed = 64\n",
        "n_head = 4\n",
        "n_layer = 4\n",
        "dropout = 0.0\n",
        "torch.manual_seed(1337)"
      ],
      "metadata": {
        "colab": {
          "base_uri": "https://localhost:8080/"
        },
        "id": "G_CfaXY7Ltpy",
        "outputId": "41ba0d0d-904f-4dc2-84bc-1412d6d0bec4"
      },
      "execution_count": null,
      "outputs": [
        {
          "output_type": "execute_result",
          "data": {
            "text/plain": [
              "<torch._C.Generator at 0x7db38d4db050>"
            ]
          },
          "metadata": {},
          "execution_count": 96
        }
      ]
    },
    {
      "cell_type": "code",
      "source": [
        "class Head(nn.Module):\n",
        "    def __init__(self, head_size):\n",
        "        super(Head, self).__init__()\n",
        "        self.key = nn.Linear(n_embed, head_size, bias=False)\n",
        "        self.query = nn.Linear(n_embed, head_size, bias=False)\n",
        "        self.value = nn.Linear(n_embed, head_size, bias=False)\n",
        "        self.register_buffer('tril', torch.tril(torch.ones(block_size, block_size)))\n",
        "    def forward(self,x):\n",
        "      B,T,C = x.shape\n",
        "      k = self.key(x) # (B,T,C)\n",
        "      q = self.query(x) # (B,T,C)\n",
        "      wei = q @ k.transpose(-2, -1) * C ** 0.5\n",
        "      wei = wei.masked_fill(self.tril[:T, :T] == 0, float('-inf'))\n",
        "      wei = F.softmax(wei, dim=-1)\n",
        "      v = self.value(x)\n",
        "      out = wei @ v\n",
        "      return out"
      ],
      "metadata": {
        "id": "uXFYm-OT3bKG"
      },
      "execution_count": null,
      "outputs": []
    },
    {
      "cell_type": "code",
      "source": [
        "class MultiHeadAttention(nn.Module):\n",
        "    def __init__(self,head_size,num_heads):\n",
        "      super().__init__()\n",
        "      self.heads = nn.ModuleList([Head(head_size) for _ in range(num_heads)])\n",
        "      self.proj = nn.Linear(n_embed, n_embed)\n",
        "      self.dropout = nn.Dropout(dropout)\n",
        "    def forward(self,x):\n",
        "      out = torch.cat([h(x) for h in self.heads], dim=-1)\n",
        "      out = self.dropout(self.proj(out))\n",
        "      return out"
      ],
      "metadata": {
        "id": "-8HoHIU_OMQS"
      },
      "execution_count": null,
      "outputs": []
    },
    {
      "cell_type": "code",
      "source": [
        "class FeedForward(nn.Module):\n",
        "    def __init__(self, n_embed):\n",
        "        super().__init__()\n",
        "        self.net = nn.Sequential(\n",
        "            nn.Linear(n_embed, 4 * n_embed),\n",
        "            nn.ReLU(),\n",
        "            nn.Linear(4 * n_embed, n_embed),\n",
        "            nn.Dropout(dropout),\n",
        "        )\n",
        "    def forward(self,x):\n",
        "      return self.net(x)"
      ],
      "metadata": {
        "id": "uhwx0o7VPgwx"
      },
      "execution_count": null,
      "outputs": []
    },
    {
      "cell_type": "code",
      "source": [
        "class Block (nn.Module):\n",
        "    def __init__(self, n_embed, n_head):\n",
        "        super().__init__()\n",
        "        head_size = n_embed // n_head\n",
        "        self.sa = MultiHeadAttention(head_size, n_head)\n",
        "        self.ffwd = FeedForward(n_embed)\n",
        "        self.ln1 = nn.LayerNorm(n_embed)\n",
        "        self.ln2 = nn.LayerNorm(n_embed)\n",
        "    def forward(self,x):\n",
        "      x = x + self.sa(self.ln1(x))\n",
        "      x = x + self.ffwd(self.ln2(x))\n",
        "      return x"
      ],
      "metadata": {
        "id": "A4ZV18YHPvGq"
      },
      "execution_count": null,
      "outputs": []
    },
    {
      "cell_type": "code",
      "source": [
        "class BigramLanguageModel(nn.Module):\n",
        "\n",
        "    def __init__(self):\n",
        "        super().__init__()\n",
        "        # each token directly reads off the logits for the next token from a lookup table\n",
        "        self.token_embedding_table = nn.Embedding(vocab_size, n_embed)\n",
        "        self.position_embedding_table = nn.Embedding(block_size, n_embed)\n",
        "        self.blocks = nn.Sequential(*[Block(n_embed, n_head=n_head) for _ in range(n_layer)])\n",
        "        self.ln_f = nn.LayerNorm(n_embed) # final layer norm\n",
        "        self.lm_head = nn.Linear(n_embed, vocab_size)\n",
        "\n",
        "    def forward(self, idx, targets=None):\n",
        "        B, T = idx.shape\n",
        "\n",
        "        # idx and targets are both (B,T) tensor of integers\n",
        "        tok_emb = self.token_embedding_table(idx) # (B,T,C)\n",
        "        pos_emb = self.position_embedding_table(torch.arange(T, device=device)) # (T,C)\n",
        "        x = tok_emb + pos_emb # (B,T,C)\n",
        "        x = self.blocks(x) # (B,T,C)\n",
        "        x = self.ln_f(x) # (B,T,C)\n",
        "        logits = self.lm_head(x) # (B,T,vocab_size)\n",
        "\n",
        "        if targets is None:\n",
        "            loss = None\n",
        "        else:\n",
        "            B, T, C = logits.shape\n",
        "            logits = logits.view(B*T, C)\n",
        "            targets = targets.view(B*T)\n",
        "            loss = F.cross_entropy(logits, targets)\n",
        "\n",
        "        return logits, loss\n",
        "\n",
        "    def generate(self, idx, max_new_tokens):\n",
        "        # idx is (B, T) array of indices in the current context\n",
        "        for _ in range(max_new_tokens):\n",
        "            # crop idx to the last block_size tokens\n",
        "            idx_cond = idx[:, -block_size:]\n",
        "            # get the predictions\n",
        "            logits, loss = self(idx_cond)\n",
        "            # focus only on the last time step\n",
        "            logits = logits[:, -1, :] # becomes (B, C)\n",
        "            # apply softmax to get probabilities\n",
        "            probs = F.softmax(logits, dim=-1) # (B, C)\n",
        "            # sample from the distribution\n",
        "            idx_next = torch.multinomial(probs, num_samples=1) # (B, 1)\n",
        "            # append sampled index to the running sequence\n",
        "            idx = torch.cat((idx, idx_next), dim=1) # (B, T+1)\n",
        "        return idx\n"
      ],
      "metadata": {
        "id": "4bbEitQwLDvL"
      },
      "execution_count": null,
      "outputs": []
    },
    {
      "cell_type": "code",
      "source": [
        "model = BigramLanguageModel()\n",
        "m = model.to(device)\n",
        "# print the number of parameters in the model\n",
        "print(sum(p.numel() for p in m.parameters())/1e6, 'M parameters')\n",
        "\n",
        "# create a PyTorch optimizer\n",
        "optimizer = torch.optim.AdamW(model.parameters(), lr=learning_rate)\n",
        "\n",
        "for iter in range(max_iters):\n",
        "\n",
        "    # every once in a while evaluate the loss on train and val sets\n",
        "    if iter % eval_interval == 0 or iter == max_iters - 1:\n",
        "        losses = estimate_loss()\n",
        "        print(f\"step {iter}: train loss {losses['train']:.4f}, val loss {losses['val']:.4f}\")\n",
        "\n",
        "    # sample a batch of data\n",
        "    xb, yb = get_batch('train')\n",
        "\n",
        "    # evaluate the loss\n",
        "    logits, loss = model(xb, yb)\n",
        "    optimizer.zero_grad(set_to_none=True)\n",
        "    loss.backward()\n",
        "    optimizer.step()\n",
        "\n",
        "# generate from the model\n",
        "context = torch.zeros((1, 1), dtype=torch.long, device=device)\n",
        "print(decode(m.generate(context, max_new_tokens=2000)[0].tolist()))"
      ],
      "metadata": {
        "colab": {
          "base_uri": "https://localhost:8080/"
        },
        "id": "_51DZkHhQIAF",
        "outputId": "c91ddd2d-163d-430a-e523-7b6da9032327"
      },
      "execution_count": null,
      "outputs": [
        {
          "output_type": "stream",
          "name": "stdout",
          "text": [
            "0.209729 M parameters\n",
            "step 0: train loss 4.4002, val loss 4.3917\n",
            "step 100: train loss 2.7040, val loss 2.7144\n",
            "step 200: train loss 2.5551, val loss 2.5517\n",
            "step 300: train loss 2.4987, val loss 2.5128\n",
            "step 400: train loss 2.4605, val loss 2.4674\n",
            "step 500: train loss 2.4297, val loss 2.4434\n",
            "step 600: train loss 2.3942, val loss 2.3992\n",
            "step 700: train loss 2.3701, val loss 2.3821\n",
            "step 800: train loss 2.3340, val loss 2.3464\n",
            "step 900: train loss 2.2952, val loss 2.3031\n",
            "step 1000: train loss 2.2748, val loss 2.2795\n",
            "step 1100: train loss 2.2423, val loss 2.2617\n",
            "step 1200: train loss 2.2149, val loss 2.2259\n",
            "step 1300: train loss 2.2012, val loss 2.2079\n",
            "step 1400: train loss 2.1724, val loss 2.1856\n",
            "step 1500: train loss 2.1468, val loss 2.1782\n",
            "step 1600: train loss 2.1227, val loss 2.1712\n",
            "step 1700: train loss 2.1162, val loss 2.1474\n",
            "step 1800: train loss 2.0870, val loss 2.1375\n",
            "step 1900: train loss 2.0832, val loss 2.1177\n",
            "step 2000: train loss 2.0598, val loss 2.1213\n",
            "step 2100: train loss 2.0487, val loss 2.1076\n",
            "step 2200: train loss 2.0341, val loss 2.0902\n",
            "step 2300: train loss 2.0226, val loss 2.0814\n",
            "step 2400: train loss 2.0215, val loss 2.0733\n",
            "step 2500: train loss 1.9896, val loss 2.0595\n",
            "step 2600: train loss 1.9976, val loss 2.0574\n",
            "step 2700: train loss 1.9889, val loss 2.0524\n",
            "step 2800: train loss 1.9801, val loss 2.0477\n",
            "step 2900: train loss 1.9686, val loss 2.0416\n",
            "step 3000: train loss 1.9532, val loss 2.0230\n",
            "step 3100: train loss 1.9312, val loss 2.0322\n",
            "step 3200: train loss 1.9322, val loss 2.0331\n",
            "step 3300: train loss 1.9304, val loss 2.0235\n",
            "step 3400: train loss 1.9230, val loss 2.0105\n",
            "step 3500: train loss 1.9084, val loss 2.0054\n",
            "step 3600: train loss 1.9030, val loss 2.0128\n",
            "step 3700: train loss 1.9071, val loss 2.0048\n",
            "step 3800: train loss 1.8882, val loss 2.0104\n",
            "step 3900: train loss 1.8797, val loss 1.9813\n",
            "step 4000: train loss 1.8793, val loss 1.9744\n",
            "step 4100: train loss 1.8661, val loss 1.9786\n",
            "step 4200: train loss 1.8682, val loss 1.9795\n",
            "step 4300: train loss 1.8562, val loss 1.9601\n",
            "step 4400: train loss 1.8710, val loss 1.9769\n",
            "step 4500: train loss 1.8589, val loss 1.9788\n",
            "step 4600: train loss 1.8478, val loss 1.9567\n",
            "step 4700: train loss 1.8661, val loss 1.9866\n",
            "step 4800: train loss 1.8279, val loss 1.9660\n",
            "step 4900: train loss 1.8317, val loss 1.9597\n",
            "step 5000: train loss 1.8231, val loss 1.9471\n",
            "step 5100: train loss 1.8251, val loss 1.9520\n",
            "step 5200: train loss 1.8058, val loss 1.9366\n",
            "step 5300: train loss 1.8135, val loss 1.9363\n",
            "step 5400: train loss 1.8012, val loss 1.9409\n",
            "step 5500: train loss 1.7927, val loss 1.9198\n",
            "step 5600: train loss 1.8177, val loss 1.9358\n",
            "step 5700: train loss 1.8018, val loss 1.9378\n",
            "step 5800: train loss 1.7901, val loss 1.9234\n",
            "step 5900: train loss 1.7948, val loss 1.9285\n",
            "step 6000: train loss 1.7872, val loss 1.9220\n",
            "step 6100: train loss 1.7808, val loss 1.9151\n",
            "step 6200: train loss 1.7866, val loss 1.9209\n",
            "step 6300: train loss 1.7788, val loss 1.9326\n",
            "step 6400: train loss 1.7702, val loss 1.9214\n",
            "step 6500: train loss 1.7691, val loss 1.9102\n",
            "step 6600: train loss 1.7662, val loss 1.9004\n",
            "step 6700: train loss 1.7666, val loss 1.9084\n",
            "step 6800: train loss 1.7698, val loss 1.9141\n",
            "step 6900: train loss 1.7760, val loss 1.9144\n",
            "step 7000: train loss 1.7595, val loss 1.9060\n",
            "step 7100: train loss 1.7560, val loss 1.8998\n",
            "step 7200: train loss 1.7593, val loss 1.9130\n",
            "step 7300: train loss 1.7632, val loss 1.8957\n",
            "step 7400: train loss 1.8017, val loss 1.9539\n",
            "step 7500: train loss 1.7631, val loss 1.9246\n",
            "step 7600: train loss 1.7473, val loss 1.9006\n",
            "step 7700: train loss 1.7499, val loss 1.8968\n",
            "step 7800: train loss 1.7553, val loss 1.8988\n",
            "step 7900: train loss 1.7615, val loss 1.9060\n",
            "step 8000: train loss 1.7571, val loss 1.9068\n",
            "step 8100: train loss 1.7503, val loss 1.9044\n",
            "step 8200: train loss 1.7536, val loss 1.8992\n",
            "step 8300: train loss 1.7383, val loss 1.8884\n",
            "step 8400: train loss 1.7369, val loss 1.8971\n",
            "step 8500: train loss 1.7323, val loss 1.8916\n",
            "step 8600: train loss 1.7288, val loss 1.8896\n",
            "step 8700: train loss 1.7204, val loss 1.8917\n",
            "step 8800: train loss 1.7147, val loss 1.9008\n",
            "step 8900: train loss 1.7364, val loss 1.8783\n",
            "step 9000: train loss 1.7346, val loss 1.8868\n",
            "step 9100: train loss 1.7233, val loss 1.8775\n",
            "step 9200: train loss 1.7284, val loss 1.8808\n",
            "step 9300: train loss 1.7076, val loss 1.8659\n",
            "step 9400: train loss 1.7108, val loss 1.8646\n",
            "step 9500: train loss 1.7198, val loss 1.8818\n",
            "step 9600: train loss 1.7161, val loss 1.8849\n",
            "step 9700: train loss 1.7054, val loss 1.8666\n",
            "step 9800: train loss 1.7062, val loss 1.8862\n",
            "step 9900: train loss 1.7149, val loss 1.8758\n",
            "step 9999: train loss 1.7107, val loss 1.8720\n",
            "\n",
            "And they brides.\n",
            "\n",
            "KING EDWARD IV:\n",
            "Petize you what grave the galands:\n",
            "Whith fould wort. Warwith!\n",
            "Hate away, my fears' to zolound owns, to firth be this now\n",
            "Whould is ensengmining is thereve speak;\n",
            "Will may is wake!\n",
            "All indience.\n",
            "His my newity: but have plew yet let,\n",
            "He croopess a dest my like thee.\n",
            "\n",
            "JULIW-SICIO:\n",
            "I priby we a most rive cons, me strow.\n",
            "\n",
            "ANGET:\n",
            "\n",
            "DUCENCE:\n",
            "Frupted so;\n",
            "Angint must wre inled at fill Prise my of.\n",
            "\n",
            "HENRY BOLINGS:\n",
            "Your aday can hare stavein courrack tey vey to chan thee.\n",
            "\n",
            "MEREENCE:\n",
            "A marrition and gareat of a child one noble.\n",
            "\n",
            "Nurse:\n",
            "Was mights be her thy were own.\n",
            "\n",
            "Butch you my stoutchs lord\n",
            "This pretter in slase eveded he movether?\n",
            "Cansciess's inkseed; boyeth in death.\n",
            "\n",
            "Fir Capes:\n",
            "White provecest is hand duke in,\n",
            "To monter this and that fraving with kis with unlown's do so lack.\n",
            "\n",
            "Prive, morneyciours:\n",
            "Their hath brong nond Centeyrain thee is is ofter no come furge will;\n",
            "Good what that the rusest, were be thou so hat wre is.\n",
            "That I knived, their forc; you we is ene ruck, it we has I, I huwn ne;\n",
            "And her that I way priveftand, and that had his well.\n",
            "First thines and enderiingin it-vore,\n",
            "The Were word, and a born.\n",
            "\n",
            "HENRY BOLIIndry:\n",
            "Let the call all the any inker'd blaid at my breforeing biwmeng to-lards; I now, if thas stioly's her weep most\n",
            "le marrows, thou retest, beak's I warth murds?\n",
            "\n",
            "Servants:\n",
            "Give if is condie.\n",
            "\n",
            "Proved:\n",
            "And the no your firth-dest to pronecy, Reto this the band. Ond make him.\n",
            "\n",
            "Purtong This been:\n",
            "The clage, is of eyet,\n",
            "But raw old to her bem slownss house: peace, say, as;\n",
            "Rethe direcarly scan Clure.\n",
            "\n",
            "POLINA:\n",
            "Let seeks, ands is I gentle, driever hath, are patry this.\n",
            "\n",
            "BENVOWHARD:\n",
            "Throu no arwill was I wild it his\n",
            "Marm his in onaster no, his parth; conforral end,\n",
            "My wifly this fath I her recesvort;\n",
            "For monge, would thee weat repest bend in a gain.\n",
            "Brest corre? 'tioner like he punict\n",
            "With is and wake; when good neck would promblaing,\n",
            "I wise the faind be next thou Jurgue parficitchs.\n",
            "\n",
            "AUFIShour:\n",
            "What me but we here her knor an wi\n"
          ]
        }
      ]
    },
    {
      "cell_type": "code",
      "source": [],
      "metadata": {
        "id": "GFv8Bx4AVY6K"
      },
      "execution_count": null,
      "outputs": []
    }
  ]
}