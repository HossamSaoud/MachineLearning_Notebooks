{
 "cells": [
  {
   "cell_type": "code",
   "execution_count": 1,
   "id": "c1863d6a-098f-4fc6-b41d-377ff3025df6",
   "metadata": {},
   "outputs": [],
   "source": [
    "import os\n",
    "import io \n",
    "import sys\n",
    "from dotenv import load_dotenv\n",
    "from openai import OpenAI\n",
    "import google.generativeai\n",
    "import anthropic\n",
    "import gradio as gr\n",
    "import subprocess\n",
    "from IPython.display import Markdown,display,update_display"
   ]
  },
  {
   "cell_type": "code",
   "execution_count": 2,
   "id": "e58d7bae-ce67-4a5f-ae1d-4e5fc5e60ba5",
   "metadata": {},
   "outputs": [],
   "source": [
    "load_dotenv()\n",
    "os.environ['OPENAI_API_KEY'] = os.getenv('OPENAI_API_KEY', 'your-key-if-not-using-env')\n",
    "os.environ['ANTHROPIC_API_KEY'] = os.getenv('ANTHROPIC_API_KEY', 'your-key-if-not-using-env')"
   ]
  },
  {
   "cell_type": "code",
   "execution_count": 3,
   "id": "b73d1bdf-8443-4b6b-b681-13e5657f84a4",
   "metadata": {},
   "outputs": [],
   "source": [
    "openai = OpenAI()\n",
    "claude = anthropic.Anthropic()\n",
    "\n",
    "OPENAI_MODEL = \"gpt-4o-mini\"\n",
    "CLAUDE_MODEL = \" claude-3-haiku-20240307\"\n",
    "\n",
    "#uncomment if you want higher models use these two.\n",
    "\n",
    "# OPENAI_MODEL = \"gpt-4o\"\n",
    "# CLAUDE_MODEL = \"claude-3-5-sonnet-20240620\"\n"
   ]
  },
  {
   "cell_type": "code",
   "execution_count": 4,
   "id": "6fbf4a62-aef6-4cf9-8aba-b98d9da60d03",
   "metadata": {},
   "outputs": [],
   "source": [
    "system_message = \"you are and assistant that implements Python code into C++ code for Intel PC with windows as operating system\"\n",
    "system_message += \"Respond only with C++ code and only comment sparingly just to explain your work occasionally\"\n",
    "system_message += \" The C++ responds needs to reproduce an identical output in the fastest possible time\""
   ]
  },
  {
   "cell_type": "code",
   "execution_count": 5,
   "id": "7b73e70d-23eb-4e63-a229-8e15347f3917",
   "metadata": {},
   "outputs": [],
   "source": [
    "def user_prompt(python):\n",
    "        user_prompt = \"Rewrite this python code in C++ in the fastest time possible\\n\\n\"\n",
    "        user_prompt += \"respond only in C++ and dont explain your work please.\"\n",
    "        user_prompt += \"Pay attention to the number types to ensure no overflow happens, try to use int64 number types if the numbers are large. Remember to #include all necessary packages such as iomanip.\\n\\n\"\n",
    "        user_prompt += python\n",
    "        return user_prompt"
   ]
  },
  {
   "cell_type": "code",
   "execution_count": 6,
   "id": "84c1321d-ac85-4641-a219-efa8b2516010",
   "metadata": {},
   "outputs": [],
   "source": [
    "def messages_for(python):\n",
    "        return [\n",
    "    \n",
    "        {\"role\" : \"system\" , \"content\": system_message},\n",
    "        {\"role\" : \"user\" , \"content\" : user_prompt(python)}\n",
    "    \n",
    "        ]"
   ]
  },
  {
   "cell_type": "code",
   "execution_count": 7,
   "id": "1137ffa8-42e7-46bb-8a88-45549d9d97bc",
   "metadata": {},
   "outputs": [],
   "source": [
    "# write to a file called optimized.cpp\n",
    "\n",
    "def write_output(cpp):\n",
    "    code = cpp.replace(\"```cpp\",\"\").replace(\"```\",\"\")\n",
    "    with open(\"optimized.cpp\", \"w\") as f:\n",
    "        f.write(code)"
   ]
  },
  {
   "cell_type": "code",
   "execution_count": 8,
   "id": "ab998b7e-0607-469a-a956-4f873891b4d0",
   "metadata": {},
   "outputs": [],
   "source": [
    "def optimize_gpt(python):\n",
    "\n",
    "    stream = openai.chat.completions.create(\n",
    "        model = OPENAI_MODEL ,\n",
    "        messages = messages_for(python) , \n",
    "        stream = True)\n",
    "    reply = \"\"\n",
    "\n",
    "    for chunk in stream:\n",
    "        fragment = chunk.choices[0].delta.content or \"\"\n",
    "        reply += fragment\n",
    "        print(fragment, end= '' , flush = True)\n",
    "        \n",
    "    write_output(reply)\n",
    "    "
   ]
  },
  {
   "cell_type": "code",
   "execution_count": 9,
   "id": "690f4777-6abb-416b-ba4b-74a32a7de100",
   "metadata": {},
   "outputs": [],
   "source": [
    "def optimize_claude(python):\n",
    "    result = claude.messages.stream(\n",
    "        model = CLAUDE_MODEL,\n",
    "        max_tokens = 2000,\n",
    "        messages = [{\"role\" : \"user\", \"content\" : user_prompt(python)}]\n",
    "     )\n",
    "    reply = \"\"\n",
    "    with result as stream:\n",
    "         for text in stream.text_stream:\n",
    "             reply+= text\n",
    "             print(text,end = '' , flush = True)\n",
    "    write_output(reply)"
   ]
  },
  {
   "cell_type": "code",
   "execution_count": 10,
   "id": "f8d8232b-9835-4685-a80d-aa22137d6dbf",
   "metadata": {},
   "outputs": [],
   "source": [
    "pi = \"\"\"\n",
    "import time\n",
    "\n",
    "def calculate(iterations, param1, param2):\n",
    "    result = 1.0\n",
    "    for i in range(1, iterations+1):\n",
    "        j = i * param1 - param2\n",
    "        result -= (1/j)\n",
    "        j = i * param1 + param2\n",
    "        result += (1/j)\n",
    "    return result\n",
    "\n",
    "start_time = time.time()\n",
    "result = calculate(100_000_000, 4, 1) * 4\n",
    "end_time = time.time()\n",
    "\n",
    "print(f\"Result: {result:.12f}\")\n",
    "print(f\"Execution Time: {(end_time - start_time):.6f} seconds\")\n",
    "\"\"\""
   ]
  },
  {
   "cell_type": "code",
   "execution_count": 11,
   "id": "6a8d83a1-3e15-4d04-b662-bb0539ea84cc",
   "metadata": {},
   "outputs": [
    {
     "name": "stdout",
     "output_type": "stream",
     "text": [
      "Result: 3.141592658589\n",
      "Execution Time: 29.052974 seconds\n"
     ]
    }
   ],
   "source": [
    "exec(pi)"
   ]
  },
  {
   "cell_type": "code",
   "execution_count": 12,
   "id": "9f6fc5cb-eab5-45b5-97ac-68407cf30b4a",
   "metadata": {},
   "outputs": [
    {
     "name": "stdout",
     "output_type": "stream",
     "text": [
      "```cpp\n",
      "#include <iostream>\n",
      "#include <iomanip>\n",
      "#include <chrono>\n",
      "\n",
      "typedef long long int64;\n",
      "\n",
      "double calculate(int64 iterations, int64 param1, int64 param2) {\n",
      "    double result = 1.0;\n",
      "    for (int64 i = 1; i <= iterations; ++i) {\n",
      "        double j = i * param1 - param2;\n",
      "        result -= (1.0 / j);\n",
      "        j = i * param1 + param2;\n",
      "        result += (1.0 / j);\n",
      "    }\n",
      "    return result;\n",
      "}\n",
      "\n",
      "int main() {\n",
      "    auto start_time = std::chrono::high_resolution_clock::now();\n",
      "    \n",
      "    double result = calculate(100000000, 4, 1) * 4;\n",
      "    \n",
      "    auto end_time = std::chrono::high_resolution_clock::now();\n",
      "    std::chrono::duration<double> execution_time = end_time - start_time;\n",
      "\n",
      "    std::cout << std::fixed << std::setprecision(12) << \"Result: \" << result << std::endl;\n",
      "    std::cout << \"Execution Time: \" << execution_time.count() << \" seconds\" << std::endl;\n",
      "    \n",
      "    return 0;\n",
      "}\n",
      "```"
     ]
    }
   ],
   "source": [
    "optimize_gpt(pi)"
   ]
  },
  {
   "cell_type": "code",
   "execution_count": 13,
   "id": "36ec72f7-4f04-41a1-8781-1b4a4dbc379f",
   "metadata": {},
   "outputs": [],
   "source": [
    "!g++ -o optimized optimized.cpp\n"
   ]
  },
  {
   "cell_type": "code",
   "execution_count": 14,
   "id": "9c98e1f9-6ecf-4f6c-a716-97fc49c987fe",
   "metadata": {},
   "outputs": [
    {
     "name": "stdout",
     "output_type": "stream",
     "text": [
      "Result: 3.141592658589\n",
      "Execution Time: 4.179970400000 seconds\n"
     ]
    }
   ],
   "source": [
    "!optimized\n"
   ]
  },
  {
   "cell_type": "code",
   "execution_count": 15,
   "id": "922c5e1b-a138-4d94-ba45-2e7ca57dce2c",
   "metadata": {},
   "outputs": [],
   "source": [
    "#Write your Python code here:\n",
    "python_hard = \"\"\"\n",
    "def lcg(seed, a=1664525, c=1013904223, m=2**32):\n",
    "    value = seed\n",
    "    while True:\n",
    "        value = (a * value + c) % m\n",
    "        yield value\n",
    "        \n",
    "def max_subarray_sum(n, seed, min_val, max_val):\n",
    "    lcg_gen = lcg(seed)\n",
    "    random_numbers = [next(lcg_gen) % (max_val - min_val + 1) + min_val for _ in range(n)]\n",
    "    max_sum = float('-inf')\n",
    "    for i in range(n):\n",
    "        current_sum = 0\n",
    "        for j in range(i, n):\n",
    "            current_sum += random_numbers[j]\n",
    "            if current_sum > max_sum:\n",
    "                max_sum = current_sum\n",
    "    return max_sum\n",
    "\n",
    "def total_max_subarray_sum(n, initial_seed, min_val, max_val):\n",
    "    total_sum = 0\n",
    "    lcg_gen = lcg(initial_seed)\n",
    "    for _ in range(20):\n",
    "        seed = next(lcg_gen)\n",
    "        total_sum += max_subarray_sum(n, seed, min_val, max_val)\n",
    "    return total_sum\n",
    "\n",
    "# Parameters\n",
    "n = 10000         # Number of random numbers\n",
    "initial_seed = 42 # Initial seed for the LCG\n",
    "min_val = -10     # Minimum value of random numbers\n",
    "max_val = 10      # Maximum value of random numbers\n",
    "\n",
    "# Timing the function\n",
    "import time\n",
    "start_time = time.time()\n",
    "result = total_max_subarray_sum(n, initial_seed, min_val, max_val)\n",
    "end_time = time.time()\n",
    "\n",
    "print(\"Total Maximum Subarray Sum (20 runs):\", result)\n",
    "print(\"Execution Time: {:.6f} seconds\".format(end_time - start_time))\n",
    "\"\"\""
   ]
  },
  {
   "cell_type": "code",
   "execution_count": 16,
   "id": "11c1953f-55d2-466c-9c67-29e254f78981",
   "metadata": {},
   "outputs": [
    {
     "name": "stdout",
     "output_type": "stream",
     "text": [
      "Total Maximum Subarray Sum (20 runs): 10980\n",
      "Execution Time: 85.583528 seconds\n"
     ]
    }
   ],
   "source": [
    "exec(python_hard)"
   ]
  },
  {
   "cell_type": "code",
   "execution_count": 17,
   "id": "ea4a3484-7628-4378-bafc-bafdab69dd92",
   "metadata": {},
   "outputs": [
    {
     "name": "stdout",
     "output_type": "stream",
     "text": [
      "```cpp\n",
      "#include <iostream>\n",
      "#include <vector>\n",
      "#include <chrono>\n",
      "#include <limits>\n",
      "\n",
      "int64_t lcg(int64_t& value, const int64_t a = 1664525, const int64_t c = 1013904223, const int64_t m = 1LL << 32) {\n",
      "    value = (a * value + c) % m;\n",
      "    return value;\n",
      "}\n",
      "\n",
      "int64_t max_subarray_sum(int64_t n, int64_t seed, int64_t min_val, int64_t max_val) {\n",
      "    std::vector<int64_t> random_numbers(n);\n",
      "    int64_t value = seed;\n",
      "\n",
      "    for (int64_t i = 0; i < n; i++) {\n",
      "        random_numbers[i] = (lcg(value) % (max_val - min_val + 1)) + min_val;\n",
      "    }\n",
      "\n",
      "    int64_t max_sum = std::numeric_limits<int64_t>::min();\n",
      "    for (int64_t i = 0; i < n; i++) {\n",
      "        int64_t current_sum = 0;\n",
      "        for (int64_t j = i; j < n; j++) {\n",
      "            current_sum += random_numbers[j];\n",
      "            if (current_sum > max_sum) {\n",
      "                max_sum = current_sum;\n",
      "            }\n",
      "        }\n",
      "    }\n",
      "    return max_sum;\n",
      "}\n",
      "\n",
      "int64_t total_max_subarray_sum(int64_t n, int64_t initial_seed, int64_t min_val, int64_t max_val) {\n",
      "    int64_t total_sum = 0;\n",
      "    int64_t seed = initial_seed;\n",
      "\n",
      "    for (int64_t i = 0; i < 20; i++) {\n",
      "        seed = lcg(seed);\n",
      "        total_sum += max_subarray_sum(n, seed, min_val, max_val);\n",
      "    }\n",
      "    return total_sum;\n",
      "}\n",
      "\n",
      "int main() {\n",
      "    const int64_t n = 10000;         // Number of random numbers\n",
      "    const int64_t initial_seed = 42; // Initial seed for the LCG\n",
      "    const int64_t min_val = -10;     // Minimum value of random numbers\n",
      "    const int64_t max_val = 10;      // Maximum value of random numbers\n",
      "\n",
      "    auto start_time = std::chrono::high_resolution_clock::now();\n",
      "    int64_t result = total_max_subarray_sum(n, initial_seed, min_val, max_val);\n",
      "    auto end_time = std::chrono::high_resolution_clock::now();\n",
      "\n",
      "    std::chrono::duration<double> duration = end_time - start_time;\n",
      "\n",
      "    std::cout << \"Total Maximum Subarray Sum (20 runs): \" << result << std::endl;\n",
      "    std::cout << \"Execution Time: \" << duration.count() << \" seconds\" << std::endl;\n",
      "\n",
      "    return 0;\n",
      "}\n",
      "```"
     ]
    }
   ],
   "source": [
    "optimize_gpt(python_hard)"
   ]
  },
  {
   "cell_type": "code",
   "execution_count": 18,
   "id": "ba18999f-cbb8-4b1d-a1c9-7cd5a035ccdf",
   "metadata": {},
   "outputs": [
    {
     "name": "stdout",
     "output_type": "stream",
     "text": [
      "Total Maximum Subarray Sum (20 runs): 10980\n",
      "Execution Time: 6.23814 seconds\n"
     ]
    }
   ],
   "source": [
    "!g++ -o optimized optimized.cpp\n",
    "!optimized\n"
   ]
  },
  {
   "cell_type": "markdown",
   "id": "e36ae835-54b3-469d-bbeb-9d72a3d217ab",
   "metadata": {},
   "source": [
    "## Lets Try creating a Gradio UI for our code"
   ]
  },
  {
   "cell_type": "code",
   "execution_count": 19,
   "id": "342ca1e5-9eae-4a8d-a52f-0ee02a426f49",
   "metadata": {},
   "outputs": [],
   "source": [
    "def stream_gpt(python):    \n",
    "    stream = openai.chat.completions.create(model=OPENAI_MODEL, messages=messages_for(python), stream=True)\n",
    "    reply = \"\"\n",
    "    for chunk in stream:\n",
    "        fragment = chunk.choices[0].delta.content or \"\"\n",
    "        reply += fragment\n",
    "        yield reply.replace('```cpp\\n','').replace('```','')"
   ]
  },
  {
   "cell_type": "code",
   "execution_count": 22,
   "id": "7a6cf5df-2ea4-467b-af60-4f8a64b3e6c0",
   "metadata": {},
   "outputs": [],
   "source": [
    "def stream_claude(python):\n",
    "    result = claude.messages.stream(\n",
    "        model=CLAUDE_MODEL,\n",
    "        max_tokens=2000,\n",
    "        system=system_message,\n",
    "        messages=[{\"role\": \"user\", \"content\": user_prompt_for(python)}],\n",
    "    )\n",
    "    reply = \"\"\n",
    "    with result as stream:\n",
    "        for text in stream.text_stream:\n",
    "            reply += text\n",
    "            yield reply.replace('```cpp\\n','').replace('```','')"
   ]
  },
  {
   "cell_type": "code",
   "execution_count": 23,
   "id": "c248b5ef-01c3-440d-a019-06810425fc7e",
   "metadata": {},
   "outputs": [],
   "source": [
    "def optimize(python, model):\n",
    "    if model==\"GPT\":\n",
    "        result = stream_gpt(python)\n",
    "    elif model==\"Claude\":\n",
    "        result = stream_claude(python)\n",
    "    else:\n",
    "        raise ValueError(\"Unknown model\")\n",
    "    for stream_so_far in result:\n",
    "        yield stream_so_far        "
   ]
  },
  {
   "cell_type": "code",
   "execution_count": 24,
   "id": "ed2ff04d-999e-4462-9a16-702826dff1ed",
   "metadata": {},
   "outputs": [],
   "source": [
    "def execute_python(code):\n",
    "    try:\n",
    "        output = io.StringIO()\n",
    "        sys.stdout = output\n",
    "        exec(code)\n",
    "    finally:\n",
    "        sys.stdout = sys.__stdout__\n",
    "    return output.getvalue()"
   ]
  },
  {
   "cell_type": "code",
   "execution_count": 25,
   "id": "4ad67fd3-892e-4427-b87f-f19dd780c707",
   "metadata": {},
   "outputs": [],
   "source": [
    "\n",
    "\n",
    "def execute_cpp(code):\n",
    "    # Save the C++ code to a file\n",
    "    with open(\"optimized.cpp\", \"w\") as cpp_file:\n",
    "        cpp_file.write(code)\n",
    "\n",
    "    try:\n",
    "        # Compile the C++ code using g++\n",
    "        compile_cmd = [\"g++\", \"-Ofast\", \"-std=c++17\", \"-o\", \"optimized.exe\", \"optimized.cpp\"]\n",
    "        compile_result = subprocess.run(compile_cmd, check=True, text=True, capture_output=True)\n",
    "\n",
    "        # Run the compiled executable\n",
    "        run_cmd = [\"optimized.exe\"]\n",
    "        run_result = subprocess.run(run_cmd, check=True, text=True, capture_output=True)\n",
    "\n",
    "        # Return the output of the program\n",
    "        return run_result.stdout\n",
    "\n",
    "    except subprocess.CalledProcessError as e:\n",
    "        # Return the error message if compilation or execution fails\n",
    "        return f\"An error occurred:\\n{e.stderr}\"\n"
   ]
  },
  {
   "cell_type": "code",
   "execution_count": 26,
   "id": "a9ff811e-635f-4ed3-9009-fd6771b3cf03",
   "metadata": {},
   "outputs": [],
   "source": [
    "css = \"\"\"\n",
    ".python {background-color: #306998;}\n",
    ".cpp {background-color: #050;}\n",
    "\"\"\""
   ]
  },
  {
   "cell_type": "code",
   "execution_count": 31,
   "id": "777bc2c9-169b-4508-9c87-e76680d0b0d9",
   "metadata": {},
   "outputs": [
    {
     "name": "stdout",
     "output_type": "stream",
     "text": [
      "* Running on local URL:  http://127.0.0.1:7860\n",
      "\n",
      "To create a public link, set `share=True` in `launch()`.\n"
     ]
    },
    {
     "data": {
      "text/html": [
       "<div><iframe src=\"http://127.0.0.1:7860/\" width=\"100%\" height=\"500\" allow=\"autoplay; camera; microphone; clipboard-read; clipboard-write;\" frameborder=\"0\" allowfullscreen></iframe></div>"
      ],
      "text/plain": [
       "<IPython.core.display.HTML object>"
      ]
     },
     "metadata": {},
     "output_type": "display_data"
    },
    {
     "data": {
      "text/plain": []
     },
     "execution_count": 31,
     "metadata": {},
     "output_type": "execute_result"
    }
   ],
   "source": [
    "with gr.Blocks(css =css) as ui:\n",
    "    gr.Markdown(\"##Convert code from Python to C++\")\n",
    "    with gr.Row():\n",
    "        python = gr.Textbox(label = \"Python code:\", value = python_hard , lines = 10)\n",
    "        cpp = gr.Textbox(label = \"C++ code:\", lines = 10)\n",
    "    with gr.Row():\n",
    "        model = gr.Dropdown([\"GPT\",\"Claude\"],label=\"Select Model\", value = \"GPT\")\n",
    "    with gr.Row():\n",
    "        convert = gr.Button(\"Convert code\")\n",
    "    with gr.Row():\n",
    "        python_run = gr.Button(\"Run Python\")\n",
    "        cpp_run = gr.Button(\"Run C++\")\n",
    "    with gr.Row():\n",
    "        python_out = gr.TextArea(label =\"Python results\", elem_classes =[\"python\"])\n",
    "        cpp_out = gr.TextArea(label = \"C++ results\",elem_classes=[\"cpp\"])\n",
    "\n",
    "    convert.click(optimize , inputs=[python,model],outputs=[cpp])\n",
    "    python_run.click(execute_python, inputs=[python], outputs=[python_out])\n",
    "    cpp_run.click(execute_cpp, inputs=[cpp], outputs=[cpp_out])\n",
    "\n",
    "ui.launch(inbrowser=True)"
   ]
  },
  {
   "cell_type": "code",
   "execution_count": null,
   "id": "83a6d881-f90c-49a8-8207-c77629364e86",
   "metadata": {},
   "outputs": [],
   "source": []
  }
 ],
 "metadata": {
  "kernelspec": {
   "display_name": "Python 3 (ipykernel)",
   "language": "python",
   "name": "python3"
  },
  "language_info": {
   "codemirror_mode": {
    "name": "ipython",
    "version": 3
   },
   "file_extension": ".py",
   "mimetype": "text/x-python",
   "name": "python",
   "nbconvert_exporter": "python",
   "pygments_lexer": "ipython3",
   "version": "3.11.11"
  }
 },
 "nbformat": 4,
 "nbformat_minor": 5
}
