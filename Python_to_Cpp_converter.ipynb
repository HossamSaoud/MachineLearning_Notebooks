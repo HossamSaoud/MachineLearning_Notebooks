{
 "cells": [
  {
   "cell_type": "code",
   "execution_count": 1,
   "id": "c1863d6a-098f-4fc6-b41d-377ff3025df6",
   "metadata": {},
   "outputs": [],
   "source": [
    "import os\n",
    "import io \n",
    "import sys\n",
    "from dotenv import load_dotenv\n",
    "from openai import OpenAI\n",
    "import google.generativeai\n",
    "import anthropic\n",
    "import gradio as gr\n",
    "import subprocess\n",
    "from IPython.display import Markdown,display,update_display"
   ]
  },
  {
   "cell_type": "code",
   "execution_count": 2,
   "id": "e58d7bae-ce67-4a5f-ae1d-4e5fc5e60ba5",
   "metadata": {},
   "outputs": [],
   "source": [
    "load_dotenv()\n",
    "os.environ['OPENAI_API_KEY'] = os.getenv('OPENAI_API_KEY', 'your-key-if-not-using-env')\n",
    "os.environ['ANTHROPIC_API_KEY'] = os.getenv('ANTHROPIC_API_KEY', 'your-key-if-not-using-env')"
   ]
  },
  {
   "cell_type": "code",
   "execution_count": 3,
   "id": "b73d1bdf-8443-4b6b-b681-13e5657f84a4",
   "metadata": {},
   "outputs": [],
   "source": [
    "openai = OpenAI()\n",
    "claude = anthropic.Anthropic()\n",
    "\n",
    "OPENAI_MODEL = \"gpt-4o-mini\"\n",
    "CLAUDE_MODEL = \" claude-3-haiku-20240307\"\n",
    "\n",
    "#uncomment if you want higher models use these two.\n",
    "\n",
    "# OPENAI_MODEL = \"gpt-4o\"\n",
    "# CLAUDE_MODEL = \"claude-3-5-sonnet-20240620\"\n"
   ]
  },
  {
   "cell_type": "code",
   "execution_count": 4,
   "id": "6fbf4a62-aef6-4cf9-8aba-b98d9da60d03",
   "metadata": {},
   "outputs": [],
   "source": [
    "system_message = \"you are and assistant that implements Python code into C++ code for Intel PC with windows as operating system\"\n",
    "system_message += \"Respond only with C++ code and only comment sparingly just to explain your work occasionally\"\n",
    "system_message += \" The C++ responds needs to reproduce an identical output in the fastest possible time\""
   ]
  },
  {
   "cell_type": "code",
   "execution_count": 5,
   "id": "7b73e70d-23eb-4e63-a229-8e15347f3917",
   "metadata": {},
   "outputs": [],
   "source": [
    "def user_prompt(python):\n",
    "        user_prompt = \"Rewrite this python code in C++ in the fastest time possible\\n\\n\"\n",
    "        user_prompt += \"respond only in C++ and dont explain your work please.\"\n",
    "        user_prompt += \"Pay attention to the number types to ensure no overflow happens, try to use int64 number types if the numbers are large. Remember to #include all necessary packages such as iomanip.\\n\\n\"\n",
    "        user_prompt += python\n",
    "        return user_prompt"
   ]
  },
  {
   "cell_type": "code",
   "execution_count": 6,
   "id": "84c1321d-ac85-4641-a219-efa8b2516010",
   "metadata": {},
   "outputs": [],
   "source": [
    "def messages_for(python):\n",
    "        return [\n",
    "    \n",
    "        {\"role\" : \"system\" , \"content\": system_message},\n",
    "        {\"role\" : \"user\" , \"content\" : user_prompt(python)}\n",
    "    \n",
    "        ]"
   ]
  },
  {
   "cell_type": "code",
   "execution_count": 7,
   "id": "1137ffa8-42e7-46bb-8a88-45549d9d97bc",
   "metadata": {},
   "outputs": [],
   "source": [
    "# write to a file called optimized.cpp\n",
    "\n",
    "def write_output(cpp):\n",
    "    code = cpp.replace(\"```cpp\",\"\").replace(\"```\",\"\")\n",
    "    with open(\"optimized.cpp\", \"w\") as f:\n",
    "        f.write(code)"
   ]
  },
  {
   "cell_type": "code",
   "execution_count": 8,
   "id": "ab998b7e-0607-469a-a956-4f873891b4d0",
   "metadata": {},
   "outputs": [],
   "source": [
    "def optimize_gpt(python):\n",
    "\n",
    "    stream = openai.chat.completions.create(\n",
    "        model = OPENAI_MODEL ,\n",
    "        messages = messages_for(python) , \n",
    "        stream = True)\n",
    "    reply = \"\"\n",
    "\n",
    "    for chunk in stream:\n",
    "        fragment = chunk.choices[0].delta.content or \"\"\n",
    "        reply += fragment\n",
    "        print(fragment, end= '' , flush = True)\n",
    "        \n",
    "    write_output(reply)\n",
    "    "
   ]
  },
  {
   "cell_type": "code",
   "execution_count": 9,
   "id": "690f4777-6abb-416b-ba4b-74a32a7de100",
   "metadata": {},
   "outputs": [],
   "source": [
    "def optimize_claude(python):\n",
    "    result = claude.messages.stream(\n",
    "        model = CLAUDE_MODEL,\n",
    "        max_tokens = 2000,\n",
    "        messages = [{\"role\" : \"user\", \"content\" : user_prompt(python)}]\n",
    "     )\n",
    "    reply = \"\"\n",
    "    with result as stream:\n",
    "         for text in stream.text_stream:\n",
    "             reply+= text\n",
    "             print(text,end = '' , flush = True)\n",
    "    write_output(reply)"
   ]
  },
  {
   "cell_type": "code",
   "execution_count": 10,
   "id": "f8d8232b-9835-4685-a80d-aa22137d6dbf",
   "metadata": {},
   "outputs": [],
   "source": [
    "pi = \"\"\"\n",
    "import time\n",
    "\n",
    "def calculate(iterations, param1, param2):\n",
    "    result = 1.0\n",
    "    for i in range(1, iterations+1):\n",
    "        j = i * param1 - param2\n",
    "        result -= (1/j)\n",
    "        j = i * param1 + param2\n",
    "        result += (1/j)\n",
    "    return result\n",
    "\n",
    "start_time = time.time()\n",
    "result = calculate(100_000_000, 4, 1) * 4\n",
    "end_time = time.time()\n",
    "\n",
    "print(f\"Result: {result:.12f}\")\n",
    "print(f\"Execution Time: {(end_time - start_time):.6f} seconds\")\n",
    "\"\"\""
   ]
  },
  {
   "cell_type": "code",
   "execution_count": 11,
   "id": "6a8d83a1-3e15-4d04-b662-bb0539ea84cc",
   "metadata": {},
   "outputs": [
    {
     "name": "stdout",
     "output_type": "stream",
     "text": [
      "Result: 3.141592658589\n",
      "Execution Time: 29.052974 seconds\n"
     ]
    }
   ],
   "source": [
    "exec(pi)"
   ]
  },
  {
   "cell_type": "code",
   "execution_count": 12,
   "id": "9f6fc5cb-eab5-45b5-97ac-68407cf30b4a",
   "metadata": {},
   "outputs": [
    {
     "name": "stdout",
     "output_type": "stream",
     "text": [
      "```cpp\n",
      "#include <iostream>\n",
      "#include <iomanip>\n",
      "#include <chrono>\n",
      "\n",
      "typedef long long int64;\n",
      "\n",
      "double calculate(int64 iterations, int64 param1, int64 param2) {\n",
      "    double result = 1.0;\n",
      "    for (int64 i = 1; i <= iterations; ++i) {\n",
      "        double j = i * param1 - param2;\n",
      "        result -= (1.0 / j);\n",
      "        j = i * param1 + param2;\n",
      "        result += (1.0 / j);\n",
      "    }\n",
      "    return result;\n",
      "}\n",
      "\n",
      "int main() {\n",
      "    auto start_time = std::chrono::high_resolution_clock::now();\n",
      "    \n",
      "    double result = calculate(100000000, 4, 1) * 4;\n",
      "    \n",
      "    auto end_time = std::chrono::high_resolution_clock::now();\n",
      "    std::chrono::duration<double> execution_time = end_time - start_time;\n",
      "\n",
      "    std::cout << std::fixed << std::setprecision(12) << \"Result: \" << result << std::endl;\n",
      "    std::cout << \"Execution Time: \" << execution_time.count() << \" seconds\" << std::endl;\n",
      "    \n",
      "    return 0;\n",
      "}\n",
      "```"
     ]
    }
   ],
   "source": [
    "optimize_gpt(pi)"
   ]
  },
  {
   "cell_type": "code",
   "execution_count": 13,
   "id": "36ec72f7-4f04-41a1-8781-1b4a4dbc379f",
   "metadata": {},
   "outputs": [],
   "source": [
    "!g++ -o optimized optimized.cpp\n"
   ]
  },
  {
   "cell_type": "code",
   "execution_count": 14,
   "id": "9c98e1f9-6ecf-4f6c-a716-97fc49c987fe",
   "metadata": {},
   "outputs": [
    {
     "name": "stdout",
     "output_type": "stream",
     "text": [
      "Result: 3.141592658589\n",
      "Execution Time: 4.179970400000 seconds\n"
     ]
    }
   ],
   "source": [
    "!optimized\n"
   ]
  },
  {
   "cell_type": "code",
   "execution_count": 15,
   "id": "922c5e1b-a138-4d94-ba45-2e7ca57dce2c",
   "metadata": {},
   "outputs": [],
   "source": [
    "python_hard = \"\"\"\n",
    "def lcg(seed, a=1664525, c=1013904223, m=2**32):\n",
    "    value = seed\n",
    "    while True:\n",
    "        value = (a * value + c) % m\n",
    "        yield value\n",
    "        \n",
    "def max_subarray_sum(n, seed, min_val, max_val):\n",
    "    lcg_gen = lcg(seed)\n",
    "    random_numbers = [next(lcg_gen) % (max_val - min_val + 1) + min_val for _ in range(n)]\n",
    "    max_sum = float('-inf')\n",
    "    for i in range(n):\n",
    "        current_sum = 0\n",
    "        for j in range(i, n):\n",
    "            current_sum += random_numbers[j]\n",
    "            if current_sum > max_sum:\n",
    "                max_sum = current_sum\n",
    "    return max_sum\n",
    "\n",
    "def total_max_subarray_sum(n, initial_seed, min_val, max_val):\n",
    "    total_sum = 0\n",
    "    lcg_gen = lcg(initial_seed)\n",
    "    for _ in range(20):\n",
    "        seed = next(lcg_gen)\n",
    "        total_sum += max_subarray_sum(n, seed, min_val, max_val)\n",
    "    return total_sum\n",
    "\n",
    "# Parameters\n",
    "n = 10000         # Number of random numbers\n",
    "initial_seed = 42 # Initial seed for the LCG\n",
    "min_val = -10     # Minimum value of random numbers\n",
    "max_val = 10      # Maximum value of random numbers\n",
    "\n",
    "# Timing the function\n",
    "import time\n",
    "start_time = time.time()\n",
    "result = total_max_subarray_sum(n, initial_seed, min_val, max_val)\n",
    "end_time = time.time()\n",
    "\n",
    "print(\"Total Maximum Subarray Sum (20 runs):\", result)\n",
    "print(\"Execution Time: {:.6f} seconds\".format(end_time - start_time))\n",
    "\"\"\""
   ]
  },
  {
   "cell_type": "code",
   "execution_count": 16,
   "id": "11c1953f-55d2-466c-9c67-29e254f78981",
   "metadata": {},
   "outputs": [
    {
     "name": "stdout",
     "output_type": "stream",
     "text": [
      "Total Maximum Subarray Sum (20 runs): 10980\n",
      "Execution Time: 85.583528 seconds\n"
     ]
    }
   ],
   "source": [
    "exec(python_hard)"
   ]
  },
  {
   "cell_type": "code",
   "execution_count": 17,
   "id": "ea4a3484-7628-4378-bafc-bafdab69dd92",
   "metadata": {},
   "outputs": [
    {
     "name": "stdout",
     "output_type": "stream",
     "text": [
      "```cpp\n",
      "#include <iostream>\n",
      "#include <vector>\n",
      "#include <chrono>\n",
      "#include <limits>\n",
      "\n",
      "int64_t lcg(int64_t& value, const int64_t a = 1664525, const int64_t c = 1013904223, const int64_t m = 1LL << 32) {\n",
      "    value = (a * value + c) % m;\n",
      "    return value;\n",
      "}\n",
      "\n",
      "int64_t max_subarray_sum(int64_t n, int64_t seed, int64_t min_val, int64_t max_val) {\n",
      "    std::vector<int64_t> random_numbers(n);\n",
      "    int64_t value = seed;\n",
      "\n",
      "    for (int64_t i = 0; i < n; i++) {\n",
      "        random_numbers[i] = (lcg(value) % (max_val - min_val + 1)) + min_val;\n",
      "    }\n",
      "\n",
      "    int64_t max_sum = std::numeric_limits<int64_t>::min();\n",
      "    for (int64_t i = 0; i < n; i++) {\n",
      "        int64_t current_sum = 0;\n",
      "        for (int64_t j = i; j < n; j++) {\n",
      "            current_sum += random_numbers[j];\n",
      "            if (current_sum > max_sum) {\n",
      "                max_sum = current_sum;\n",
      "            }\n",
      "        }\n",
      "    }\n",
      "    return max_sum;\n",
      "}\n",
      "\n",
      "int64_t total_max_subarray_sum(int64_t n, int64_t initial_seed, int64_t min_val, int64_t max_val) {\n",
      "    int64_t total_sum = 0;\n",
      "    int64_t seed = initial_seed;\n",
      "\n",
      "    for (int64_t i = 0; i < 20; i++) {\n",
      "        seed = lcg(seed);\n",
      "        total_sum += max_subarray_sum(n, seed, min_val, max_val);\n",
      "    }\n",
      "    return total_sum;\n",
      "}\n",
      "\n",
      "int main() {\n",
      "    const int64_t n = 10000;         // Number of random numbers\n",
      "    const int64_t initial_seed = 42; // Initial seed for the LCG\n",
      "    const int64_t min_val = -10;     // Minimum value of random numbers\n",
      "    const int64_t max_val = 10;      // Maximum value of random numbers\n",
      "\n",
      "    auto start_time = std::chrono::high_resolution_clock::now();\n",
      "    int64_t result = total_max_subarray_sum(n, initial_seed, min_val, max_val);\n",
      "    auto end_time = std::chrono::high_resolution_clock::now();\n",
      "\n",
      "    std::chrono::duration<double> duration = end_time - start_time;\n",
      "\n",
      "    std::cout << \"Total Maximum Subarray Sum (20 runs): \" << result << std::endl;\n",
      "    std::cout << \"Execution Time: \" << duration.count() << \" seconds\" << std::endl;\n",
      "\n",
      "    return 0;\n",
      "}\n",
      "```"
     ]
    }
   ],
   "source": [
    "optimize_gpt(python_hard)"
   ]
  },
  {
   "cell_type": "code",
   "execution_count": 18,
   "id": "ba18999f-cbb8-4b1d-a1c9-7cd5a035ccdf",
   "metadata": {},
   "outputs": [
    {
     "name": "stdout",
     "output_type": "stream",
     "text": [
      "Total Maximum Subarray Sum (20 runs): 10980\n",
      "Execution Time: 6.23814 seconds\n"
     ]
    }
   ],
   "source": [
    "!g++ -o optimized optimized.cpp\n",
    "!optimized\n"
   ]
  },
  {
   "cell_type": "code",
   "execution_count": null,
   "id": "22a8bc0b-1406-4223-9fbb-94fa318e4839",
   "metadata": {},
   "outputs": [],
   "source": []
  }
 ],
 "metadata": {
  "kernelspec": {
   "display_name": "Python 3 (ipykernel)",
   "language": "python",
   "name": "python3"
  },
  "language_info": {
   "codemirror_mode": {
    "name": "ipython",
    "version": 3
   },
   "file_extension": ".py",
   "mimetype": "text/x-python",
   "name": "python",
   "nbconvert_exporter": "python",
   "pygments_lexer": "ipython3",
   "version": "3.11.11"
  }
 },
 "nbformat": 4,
 "nbformat_minor": 5
}
