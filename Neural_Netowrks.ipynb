{
  "nbformat": 4,
  "nbformat_minor": 0,
  "metadata": {
    "colab": {
      "provenance": [],
      "authorship_tag": "ABX9TyMomxQPZZKEgmzLRabp2Fl3",
      "include_colab_link": true
    },
    "kernelspec": {
      "name": "python3",
      "display_name": "Python 3"
    },
    "language_info": {
      "name": "python"
    },
    "accelerator": "GPU",
    "gpuClass": "standard"
  },
  "cells": [
    {
      "cell_type": "markdown",
      "metadata": {
        "id": "view-in-github",
        "colab_type": "text"
      },
      "source": [
        "<a href=\"https://colab.research.google.com/github/HossamSaoud/MachineLearning_Notebooks/blob/main/Neural_Netowrks.ipynb\" target=\"_parent\"><img src=\"https://colab.research.google.com/assets/colab-badge.svg\" alt=\"Open In Colab\"/></a>"
      ]
    },
    {
      "cell_type": "code",
      "execution_count": null,
      "metadata": {
        "id": "9cKhvG2A-diL"
      },
      "outputs": [],
      "source": [
        "import numpy as np\n",
        "import pandas as pd\n",
        "import matplotlib.pyplot as plt\n",
        "from keras.datasets import mnist\n",
        "from sklearn.neighbors import KNeighborsClassifier\n",
        "from sklearn.metrics import confusion_matrix\n",
        "from sklearn.metrics import precision_recall_fscore_support\n",
        "from sklearn.metrics import accuracy_score\n",
        "from matplotlib import pyplot"
      ]
    },
    {
      "cell_type": "code",
      "source": [
        "from tensorflow.keras import Model\n",
        "from tensorflow.keras import Sequential\n",
        "from tensorflow.keras.optimizers import Adam\n",
        "from sklearn.preprocessing import StandardScaler\n",
        "from sklearn.preprocessing import MinMaxScaler\n",
        "from tensorflow.keras.layers import Dense, Dropout\n",
        "from sklearn.model_selection import train_test_split\n",
        "from tensorflow.keras.losses import MeanSquaredLogarithmicError\n",
        "from sklearn import preprocessing\n",
        "import seaborn as sns\n",
        "from matplotlib import rcParams"
      ],
      "metadata": {
        "id": "zEo0ylO6_ikG"
      },
      "execution_count": null,
      "outputs": []
    },
    {
      "cell_type": "code",
      "source": [
        "(x_train,y_train),(x_test,y_test)=mnist.load_data()"
      ],
      "metadata": {
        "id": "hluGz5GO_k0P"
      },
      "execution_count": null,
      "outputs": []
    },
    {
      "cell_type": "code",
      "source": [
        "x_train=x_train.reshape(x_train.shape[0],-1)\n",
        "x_test=x_test.reshape(x_test.shape[0],-1)\n",
        "print(f'\\nAfter reshaping:\\nX_train:{x_train.shape}\\nX_test:{x_test.shape}')"
      ],
      "metadata": {
        "colab": {
          "base_uri": "https://localhost:8080/"
        },
        "id": "n6HAXRgZ_8E9",
        "outputId": "ba6b7c1b-e3e0-4c5c-ec62-b1e6e688c47a"
      },
      "execution_count": null,
      "outputs": [
        {
          "output_type": "stream",
          "name": "stdout",
          "text": [
            "\n",
            "After reshaping:\n",
            "X_train:(60000, 784)\n",
            "X_test:(10000, 784)\n"
          ]
        }
      ]
    },
    {
      "cell_type": "code",
      "source": [
        "y_train = y_train.reshape(-1, 1)\n",
        "y_test = y_test.reshape(-1, 1)"
      ],
      "metadata": {
        "id": "F8-gzyx4AaFU"
      },
      "execution_count": null,
      "outputs": []
    },
    {
      "cell_type": "code",
      "source": [
        "ohe=preprocessing.OneHotEncoder()\n",
        "ohe.fit(y_train)\n",
        "transformed_ytrain=ohe.transform(y_train).toarray()\n",
        "ohe.fit(y_test)\n",
        "transformed_ytest=ohe.transform(y_test).toarray()"
      ],
      "metadata": {
        "id": "grgQioE5AmdR"
      },
      "execution_count": null,
      "outputs": []
    },
    {
      "cell_type": "code",
      "source": [
        "model=Sequential()\n",
        "model.add(Dense(32,input_shape=(784,),name=\"input_layer\"))\n",
        "model.add(Dense(32,activation=\"relu\",name=\"layer1\"))\n",
        "model.add(Dense(32,activation=\"relu\",name=\"layer2\"))\n",
        "model.add(Dense(32,activation=\"relu\",name=\"layer3\"))\n",
        "model.add(Dense(32,activation=\"relu\",name=\"layer4\"))\n",
        "model.add(Dense(10,activation=\"softmax\",name=\"Output_layer\"))\n",
        "model.summary()"
      ],
      "metadata": {
        "colab": {
          "base_uri": "https://localhost:8080/"
        },
        "id": "xMenEamEBcSZ",
        "outputId": "5e6c82c2-03ac-404d-ffe0-4fef8a834b8a"
      },
      "execution_count": null,
      "outputs": [
        {
          "output_type": "stream",
          "name": "stdout",
          "text": [
            "Model: \"sequential_6\"\n",
            "_________________________________________________________________\n",
            " Layer (type)                Output Shape              Param #   \n",
            "=================================================================\n",
            " input_layer (Dense)         (None, 32)                25120     \n",
            "                                                                 \n",
            " layer1 (Dense)              (None, 32)                1056      \n",
            "                                                                 \n",
            " layer2 (Dense)              (None, 32)                1056      \n",
            "                                                                 \n",
            " layer3 (Dense)              (None, 32)                1056      \n",
            "                                                                 \n",
            " layer4 (Dense)              (None, 32)                1056      \n",
            "                                                                 \n",
            " Output_layer (Dense)        (None, 10)                330       \n",
            "                                                                 \n",
            "=================================================================\n",
            "Total params: 29,674\n",
            "Trainable params: 29,674\n",
            "Non-trainable params: 0\n",
            "_________________________________________________________________\n"
          ]
        }
      ]
    },
    {
      "cell_type": "code",
      "source": [
        "model.compile(loss='categorical_crossentropy',optimizer=\"adam\",metrics=['accuracy'])"
      ],
      "metadata": {
        "id": "ajZdAtOgBj9W"
      },
      "execution_count": null,
      "outputs": []
    },
    {
      "cell_type": "code",
      "source": [
        "epochs=[5,10,15,20]\n",
        "batch=[64,45,80,100,32]"
      ],
      "metadata": {
        "id": "YMATwNv7q1XW"
      },
      "execution_count": null,
      "outputs": []
    },
    {
      "cell_type": "code",
      "source": [
        "for i in range(len(batch)):\n",
        "  for j in range(len(epochs)):\n",
        "    model.fit(x_train,transformed_ytrain,batch_size=batch[i],epochs=epochs[j],verbose=0)\n",
        "    y_pred=model.predict(x_test)\n",
        "    y_pred =np.array([np.argmax(x) for x in y_pred])\n",
        "    print(f'for epochs={epochs[j]} and batch size ={batch[i]}')\n",
        "    Precision,Recall,F1_score,_ = precision_recall_fscore_support(y_test, y_pred, average='macro')\n",
        "    Accuracy = accuracy_score(y_test, y_pred)\n",
        "    print(f'Precision: {Precision}\\nRecall: {Recall}\\nF1_score: {F1_score}\\nAccuracy: {Accuracy}')"
      ],
      "metadata": {
        "colab": {
          "base_uri": "https://localhost:8080/"
        },
        "id": "MoZR_IaADOXp",
        "outputId": "db122794-21f7-4007-8167-325acf992c46"
      },
      "execution_count": null,
      "outputs": [
        {
          "output_type": "stream",
          "name": "stdout",
          "text": [
            "313/313 [==============================] - 1s 2ms/step\n",
            "for epochs=5 and batch size =64\n",
            "Precision: 0.9389808501562582\n",
            "Recall: 0.9387185061318741\n",
            "F1_score: 0.938341540963125\n",
            "Accuracy: 0.9393\n",
            "313/313 [==============================] - 1s 2ms/step\n",
            "for epochs=10 and batch size =64\n",
            "Precision: 0.9580520255755495\n",
            "Recall: 0.9580625441190798\n",
            "F1_score: 0.957971943883634\n",
            "Accuracy: 0.9585\n",
            "313/313 [==============================] - 1s 2ms/step\n",
            "for epochs=15 and batch size =64\n",
            "Precision: 0.9631158642337093\n",
            "Recall: 0.9629139726699014\n",
            "F1_score: 0.962896604616815\n",
            "Accuracy: 0.9632\n",
            "313/313 [==============================] - 1s 2ms/step\n",
            "for epochs=20 and batch size =64\n",
            "Precision: 0.9635262413844407\n",
            "Recall: 0.963242841305888\n",
            "F1_score: 0.9632278957996958\n",
            "Accuracy: 0.9636\n",
            "313/313 [==============================] - 1s 2ms/step\n",
            "for epochs=5 and batch size =45\n",
            "Precision: 0.9598844022410139\n",
            "Recall: 0.9585009373349062\n",
            "F1_score: 0.9587850206168422\n",
            "Accuracy: 0.9593\n",
            "313/313 [==============================] - 1s 2ms/step\n",
            "for epochs=10 and batch size =45\n",
            "Precision: 0.9651657082390024\n",
            "Recall: 0.9650974638990624\n",
            "F1_score: 0.9650745588129247\n",
            "Accuracy: 0.9655\n",
            "313/313 [==============================] - 1s 2ms/step\n",
            "for epochs=15 and batch size =45\n",
            "Precision: 0.9657049825438238\n",
            "Recall: 0.965590291184958\n",
            "F1_score: 0.9655632251175141\n",
            "Accuracy: 0.9659\n",
            "313/313 [==============================] - 1s 2ms/step\n",
            "for epochs=20 and batch size =45\n",
            "Precision: 0.9664839709770202\n",
            "Recall: 0.9663175688892297\n",
            "F1_score: 0.9663702827358192\n",
            "Accuracy: 0.9667\n",
            "313/313 [==============================] - 1s 2ms/step\n",
            "for epochs=5 and batch size =80\n",
            "Precision: 0.9683497911325551\n",
            "Recall: 0.9679748178688726\n",
            "F1_score: 0.9681220141377447\n",
            "Accuracy: 0.9684\n",
            "313/313 [==============================] - 1s 2ms/step\n",
            "for epochs=10 and batch size =80\n",
            "Precision: 0.9664850701856442\n",
            "Recall: 0.966071733746867\n",
            "F1_score: 0.9662278848545593\n",
            "Accuracy: 0.9665\n",
            "313/313 [==============================] - 1s 2ms/step\n",
            "for epochs=15 and batch size =80\n",
            "Precision: 0.9654814797039236\n",
            "Recall: 0.9651628468654311\n",
            "F1_score: 0.9652363255587826\n",
            "Accuracy: 0.9656\n",
            "313/313 [==============================] - 1s 2ms/step\n",
            "for epochs=20 and batch size =80\n",
            "Precision: 0.9676274961711654\n",
            "Recall: 0.9677493274724089\n",
            "F1_score: 0.967646307863139\n",
            "Accuracy: 0.968\n",
            "313/313 [==============================] - 1s 2ms/step\n",
            "for epochs=5 and batch size =100\n",
            "Precision: 0.965843077360379\n",
            "Recall: 0.9657041253301551\n",
            "F1_score: 0.9657158582829914\n",
            "Accuracy: 0.9661\n",
            "313/313 [==============================] - 1s 2ms/step\n",
            "for epochs=10 and batch size =100\n",
            "Precision: 0.9686680569577192\n",
            "Recall: 0.9685628139301997\n",
            "F1_score: 0.9685785191668433\n",
            "Accuracy: 0.9689\n",
            "313/313 [==============================] - 0s 2ms/step\n",
            "for epochs=15 and batch size =100\n",
            "Precision: 0.9660799649554258\n",
            "Recall: 0.9659910199117521\n",
            "F1_score: 0.965964897812299\n",
            "Accuracy: 0.9663\n",
            "313/313 [==============================] - 1s 2ms/step\n",
            "for epochs=20 and batch size =100\n",
            "Precision: 0.9678891029433704\n",
            "Recall: 0.9676541454608152\n",
            "F1_score: 0.9677225107948638\n",
            "Accuracy: 0.9681\n",
            "313/313 [==============================] - 1s 2ms/step\n",
            "for epochs=5 and batch size =32\n",
            "Precision: 0.9660752474135046\n",
            "Recall: 0.965984394986355\n",
            "F1_score: 0.9659813916243255\n",
            "Accuracy: 0.9664\n",
            "313/313 [==============================] - 1s 2ms/step\n",
            "for epochs=10 and batch size =32\n",
            "Precision: 0.9609332441898824\n",
            "Recall: 0.9604563359525328\n",
            "F1_score: 0.9604668691636287\n",
            "Accuracy: 0.9609\n",
            "313/313 [==============================] - 1s 2ms/step\n",
            "for epochs=15 and batch size =32\n",
            "Precision: 0.9665853538540794\n",
            "Recall: 0.9661393428037863\n",
            "F1_score: 0.966299830431358\n",
            "Accuracy: 0.9666\n",
            "313/313 [==============================] - 1s 2ms/step\n",
            "for epochs=20 and batch size =32\n",
            "Precision: 0.9657479279240189\n",
            "Recall: 0.9658633905830019\n",
            "F1_score: 0.9657173955001148\n",
            "Accuracy: 0.9661\n"
          ]
        }
      ]
    },
    {
      "cell_type": "code",
      "source": [
        "cm = confusion_matrix(y_test, y_pred)\n",
        "print(cm)\n",
        "rcParams['figure.figsize'] = 12,8\n",
        "sns.set(font_scale = 1.2)\n",
        "sns.heatmap(cm, fmt='d', annot=True, xticklabels=['0', '1', '2', '3', '4', '5', '6', '7', '8','9'])"
      ],
      "metadata": {
        "colab": {
          "base_uri": "https://localhost:8080/",
          "height": 875
        },
        "id": "Zu1myUZFD-jh",
        "outputId": "7d22034b-a82e-4676-fd0b-9d553b06712f"
      },
      "execution_count": null,
      "outputs": [
        {
          "output_type": "stream",
          "name": "stdout",
          "text": [
            "[[ 974    0    0    0    0    1    3    1    1    0]\n",
            " [   2 1120    1    2    0    2    2    2    4    0]\n",
            " [   9    2  996    3    3    3    3    6    5    2]\n",
            " [   1    0    5  961    2   26    0    7    5    3]\n",
            " [   3    2    2    0  950    0    7    5    0   13]\n",
            " [   4    0    0   10    0  859    8    1    8    2]\n",
            " [  13    3    2    0    4    5  930    0    1    0]\n",
            " [   4    3   14    4    1    2    0  993    1    6]\n",
            " [   7    3    2   11    3    7    4    7  926    4]\n",
            " [   8    5    0    8   18    2    2   10    4  952]]\n"
          ]
        },
        {
          "output_type": "execute_result",
          "data": {
            "text/plain": [
              "<Axes: >"
            ]
          },
          "metadata": {},
          "execution_count": 78
        },
        {
          "output_type": "display_data",
          "data": {
            "text/plain": [
              "<Figure size 1200x800 with 2 Axes>"
            ],
            "image/png": "[encoded data removed]"
          },
          "metadata": {}
        }
      ]
    },
    {
      "cell_type": "markdown",
      "source": [
        "# We can get higher accuracy if we use Convolutional neural networks so lets try it:"
      ],
      "metadata": {
        "id": "5XiOSax0CKQa"
      }
    },
    {
      "cell_type": "code",
      "source": [
        "from tensorflow.keras import models, layers\n",
        "from tensorflow.keras import Model, Input"
      ],
      "metadata": {
        "id": "lrsvgznGCcD1"
      },
      "execution_count": 56,
      "outputs": []
    },
    {
      "cell_type": "code",
      "source": [
        "model=models.Sequential()\n",
        "model.add(layers.Conv2D(filters=8,kernel_size=(5,5),activation='relu',input_shape=(32,32,1)))\n",
        "model.add(layers.MaxPooling2D())\n",
        "model.add(layers.Conv2D(filters=16,kernel_size=(5,5),activation='relu'))\n",
        "model.add(layers.MaxPooling2D())\n",
        "model.add(layers.Flatten())\n",
        "model.add(layers.Dense(units=120,activation='relu'))\n",
        "model.add(layers.Dense(units=120,activation='relu'))\n",
        "model.add(layers.Dense(units=10,activation='softmax'))"
      ],
      "metadata": {
        "id": "n3xp3m4hCYKp"
      },
      "execution_count": 57,
      "outputs": []
    },
    {
      "cell_type": "code",
      "source": [
        "model.summary()"
      ],
      "metadata": {
        "colab": {
          "base_uri": "https://localhost:8080/"
        },
        "id": "ntHREwkwEGnQ",
        "outputId": "99cbfc22-010d-4ae3-c947-d6c2f02bad14"
      },
      "execution_count": 58,
      "outputs": [
        {
          "output_type": "stream",
          "name": "stdout",
          "text": [
            "Model: \"sequential_3\"\n",
            "_________________________________________________________________\n",
            " Layer (type)                Output Shape              Param #   \n",
            "=================================================================\n",
            " conv2d_6 (Conv2D)           (None, 28, 28, 8)         208       \n",
            "                                                                 \n",
            " max_pooling2d_6 (MaxPooling  (None, 14, 14, 8)        0         \n",
            " 2D)                                                             \n",
            "                                                                 \n",
            " conv2d_7 (Conv2D)           (None, 10, 10, 16)        3216      \n",
            "                                                                 \n",
            " max_pooling2d_7 (MaxPooling  (None, 5, 5, 16)         0         \n",
            " 2D)                                                             \n",
            "                                                                 \n",
            " flatten_3 (Flatten)         (None, 400)               0         \n",
            "                                                                 \n",
            " dense_9 (Dense)             (None, 120)               48120     \n",
            "                                                                 \n",
            " dense_10 (Dense)            (None, 120)               14520     \n",
            "                                                                 \n",
            " dense_11 (Dense)            (None, 10)                1210      \n",
            "                                                                 \n",
            "=================================================================\n",
            "Total params: 67,274\n",
            "Trainable params: 67,274\n",
            "Non-trainable params: 0\n",
            "_________________________________________________________________\n"
          ]
        }
      ]
    },
    {
      "cell_type": "code",
      "source": [
        "from tensorflow.keras.utils import plot_model\n",
        "\n",
        "plot_model(model)"
      ],
      "metadata": {
        "colab": {
          "base_uri": "https://localhost:8080/",
          "height": 856
        },
        "id": "DMcdN19IEH6-",
        "outputId": "ef51bb29-3dc4-48e0-ab7e-2c16ab10ca68"
      },
      "execution_count": 59,
      "outputs": [
        {
          "output_type": "execute_result",
          "data": {
            "image/png": "[encoded data removed]",
            "text/plain": [
              "<IPython.core.display.Image object>"
            ]
          },
          "metadata": {},
          "execution_count": 59
        }
      ]
    },
    {
      "cell_type": "code",
      "source": [
        "from keras.datasets import mnist"
      ],
      "metadata": {
        "id": "8rouX6tiEP3S"
      },
      "execution_count": 60,
      "outputs": []
    },
    {
      "cell_type": "code",
      "source": [
        "(train_images,train_labels),(test_images,test_labels)=mnist.load_data()"
      ],
      "metadata": {
        "id": "k0fxn8NiEVUo"
      },
      "execution_count": 61,
      "outputs": []
    },
    {
      "cell_type": "code",
      "source": [
        "train_images.shape"
      ],
      "metadata": {
        "colab": {
          "base_uri": "https://localhost:8080/"
        },
        "id": "lO_hIu8YEjWF",
        "outputId": "f78b50eb-6a59-4339-933b-b4266d000d2d"
      },
      "execution_count": 62,
      "outputs": [
        {
          "output_type": "execute_result",
          "data": {
            "text/plain": [
              "(60000, 28, 28)"
            ]
          },
          "metadata": {},
          "execution_count": 62
        }
      ]
    },
    {
      "cell_type": "code",
      "source": [
        "from sklearn.model_selection import train_test_split\n",
        "x_train, y_train, x_test, y_test = train_test_split(train_images,train_labels,test_size=0.2,shuffle=True)"
      ],
      "metadata": {
        "id": "HGVWn2VGE2rT"
      },
      "execution_count": 63,
      "outputs": []
    },
    {
      "cell_type": "code",
      "source": [
        "import matplotlib.pyplot as plt\n",
        "import numpy as np\n",
        "plt.imshow(np.reshape(train_images[0], (28,28)))\n",
        "\n"
      ],
      "metadata": {
        "colab": {
          "base_uri": "https://localhost:8080/",
          "height": 447
        },
        "id": "PnnwWztAFE0Z",
        "outputId": "ad8dadb7-7b16-49d9-e806-9fbc03fcd6fc"
      },
      "execution_count": 64,
      "outputs": [
        {
          "output_type": "execute_result",
          "data": {
            "text/plain": [
              "<matplotlib.image.AxesImage at 0x7f3d3778c8e0>"
            ]
          },
          "metadata": {},
          "execution_count": 64
        },
        {
          "output_type": "display_data",
          "data": {
            "text/plain": [
              "<Figure size 640x480 with 1 Axes>"
            ],
            "image/png": "[encoded data removed]"
          },
          "metadata": {}
        }
      ]
    },
    {
      "cell_type": "code",
      "source": [
        "#add padding so we can get the original input dimensions of the picture without any reduction to it\n",
        "train_images = np.pad(train_images, ((0,0),(2,2),(2, 2)), 'constant') \n",
        "test_images = np.pad(test_images, ((0,0),(2,2),(2, 2)), 'constant')"
      ],
      "metadata": {
        "id": "yZxcpBmLJTEA"
      },
      "execution_count": 65,
      "outputs": []
    },
    {
      "cell_type": "code",
      "source": [
        "from tensorflow.keras.utils import to_categorical\n",
        "#add new axis so we can fit the images into our model which requires 4D (samples, length, width, channels)\n",
        "train_images = train_images[:, :, :, np.newaxis]\n",
        "test_images = test_images[:, :, :, np.newaxis]\n",
        "#convert all the labels to categorical\n",
        "train_labels = to_categorical(train_labels)\n",
        "test_labels = to_categorical(test_labels)"
      ],
      "metadata": {
        "id": "istWzpBTFfPm"
      },
      "execution_count": 66,
      "outputs": []
    },
    {
      "cell_type": "code",
      "source": [
        "train_images.shape"
      ],
      "metadata": {
        "colab": {
          "base_uri": "https://localhost:8080/"
        },
        "id": "8C4jNLJyGCQe",
        "outputId": "8ff9bdba-365d-472b-afd6-00ef1e40e88d"
      },
      "execution_count": 67,
      "outputs": [
        {
          "output_type": "execute_result",
          "data": {
            "text/plain": [
              "(60000, 32, 32, 1)"
            ]
          },
          "metadata": {},
          "execution_count": 67
        }
      ]
    },
    {
      "cell_type": "code",
      "source": [
        "train_labels.shape"
      ],
      "metadata": {
        "colab": {
          "base_uri": "https://localhost:8080/"
        },
        "id": "9JPLZtoMGEgq",
        "outputId": "6255dd64-430b-4112-93dc-54a84d4832f6"
      },
      "execution_count": 68,
      "outputs": [
        {
          "output_type": "execute_result",
          "data": {
            "text/plain": [
              "(60000, 10)"
            ]
          },
          "metadata": {},
          "execution_count": 68
        }
      ]
    },
    {
      "cell_type": "code",
      "source": [
        "model.compile(optimizer='adam',\n",
        "                loss='categorical_crossentropy',\n",
        "                metrics=['accuracy'])\n",
        "\n",
        "model.fit(train_images, train_labels, epochs=15, batch_size=128)"
      ],
      "metadata": {
        "colab": {
          "base_uri": "https://localhost:8080/"
        },
        "id": "YKe166HEGJ-n",
        "outputId": "fb19b3bf-dc34-4850-f1cf-1e98f9ffce0c"
      },
      "execution_count": 72,
      "outputs": [
        {
          "output_type": "stream",
          "name": "stdout",
          "text": [
            "Epoch 1/15\n",
            "469/469 [==============================] - 5s 5ms/step - loss: 0.0348 - accuracy: 0.9895\n",
            "Epoch 2/15\n",
            "469/469 [==============================] - 2s 5ms/step - loss: 0.0226 - accuracy: 0.9922\n",
            "Epoch 3/15\n",
            "469/469 [==============================] - 2s 5ms/step - loss: 0.0280 - accuracy: 0.9915\n",
            "Epoch 4/15\n",
            "469/469 [==============================] - 2s 5ms/step - loss: 0.0221 - accuracy: 0.9930\n",
            "Epoch 5/15\n",
            "469/469 [==============================] - 3s 6ms/step - loss: 0.0177 - accuracy: 0.9941\n",
            "Epoch 6/15\n",
            "469/469 [==============================] - 2s 5ms/step - loss: 0.0196 - accuracy: 0.9936\n",
            "Epoch 7/15\n",
            "469/469 [==============================] - 2s 5ms/step - loss: 0.0131 - accuracy: 0.9959\n",
            "Epoch 8/15\n",
            "469/469 [==============================] - 2s 5ms/step - loss: 0.0154 - accuracy: 0.9954\n",
            "Epoch 9/15\n",
            "469/469 [==============================] - 2s 5ms/step - loss: 0.0155 - accuracy: 0.9956\n",
            "Epoch 10/15\n",
            "469/469 [==============================] - 3s 6ms/step - loss: 0.0143 - accuracy: 0.9956\n",
            "Epoch 11/15\n",
            "469/469 [==============================] - 2s 5ms/step - loss: 0.0154 - accuracy: 0.9953\n",
            "Epoch 12/15\n",
            "469/469 [==============================] - 2s 5ms/step - loss: 0.0104 - accuracy: 0.9965\n",
            "Epoch 13/15\n",
            "469/469 [==============================] - 2s 5ms/step - loss: 0.0134 - accuracy: 0.9957\n",
            "Epoch 14/15\n",
            "469/469 [==============================] - 2s 5ms/step - loss: 0.0146 - accuracy: 0.9956\n",
            "Epoch 15/15\n",
            "469/469 [==============================] - 2s 5ms/step - loss: 0.0119 - accuracy: 0.9965\n"
          ]
        },
        {
          "output_type": "execute_result",
          "data": {
            "text/plain": [
              "<keras.callbacks.History at 0x7f3d3acfd8d0>"
            ]
          },
          "metadata": {},
          "execution_count": 72
        }
      ]
    },
    {
      "cell_type": "code",
      "source": [
        "test_loss, test_acc = model.evaluate(test_images, test_labels)"
      ],
      "metadata": {
        "colab": {
          "base_uri": "https://localhost:8080/"
        },
        "id": "2jhi3QasHO1n",
        "outputId": "995ea553-f3b9-4a76-9fa3-66703882a8e8"
      },
      "execution_count": 73,
      "outputs": [
        {
          "output_type": "stream",
          "name": "stdout",
          "text": [
            "313/313 [==============================] - 2s 4ms/step - loss: 0.0605 - accuracy: 0.9886\n"
          ]
        }
      ]
    },
    {
      "cell_type": "markdown",
      "source": [
        "gives us a 98.8% accuracy almost 99% which is an improvement to the accuracy we previously had with dense layers(96%)"
      ],
      "metadata": {
        "id": "usZx--3bIKnC"
      }
    },
    {
      "cell_type": "code",
      "source": [
        "print('test_accuracy:', test_acc)"
      ],
      "metadata": {
        "colab": {
          "base_uri": "https://localhost:8080/"
        },
        "id": "ZOrDUc7rHk3D",
        "outputId": "70754a2d-2d4b-43e4-90a3-92b5a864f877"
      },
      "execution_count": 74,
      "outputs": [
        {
          "output_type": "stream",
          "name": "stdout",
          "text": [
            "test_accuracy: 0.9886000156402588\n"
          ]
        }
      ]
    },
    {
      "cell_type": "code",
      "source": [
        "print('test_loss:', test_loss)"
      ],
      "metadata": {
        "colab": {
          "base_uri": "https://localhost:8080/"
        },
        "id": "Roe6LDiMH7vj",
        "outputId": "0b24b1ad-8706-48dc-c3fd-2e3f1449062c"
      },
      "execution_count": 75,
      "outputs": [
        {
          "output_type": "stream",
          "name": "stdout",
          "text": [
            "test_loss: 0.060465745627880096\n"
          ]
        }
      ]
    },
    {
      "cell_type": "code",
      "source": [],
      "metadata": {
        "id": "4lBllyyCKF3m"
      },
      "execution_count": null,
      "outputs": []
    }
  ]
}