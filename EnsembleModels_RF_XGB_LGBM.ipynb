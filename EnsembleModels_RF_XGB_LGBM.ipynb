{
  "cells": [
    {
      "cell_type": "markdown",
      "metadata": {
        "id": "view-in-github",
        "colab_type": "text"
      },
      "source": [
        "<a href=\"https://colab.research.google.com/github/HossamSaoud/MachineLearning_Notebooks/blob/main/EnsembleModels_RF_XGB_LGBM.ipynb\" target=\"_parent\"><img src=\"https://colab.research.google.com/assets/colab-badge.svg\" alt=\"Open In Colab\"/></a>"
      ]
    },
    {
      "cell_type": "code",
      "execution_count": 1,
      "metadata": {
        "id": "eztkpktNBK9n"
      },
      "outputs": [],
      "source": [
        "import numpy as np\n",
        "import pandas as pd\n",
        "import matplotlib.pyplot as plt\n",
        "from sklearn.tree import DecisionTreeClassifier\n",
        "from sklearn.metrics import precision_recall_fscore_support,accuracy_score\n",
        "from keras.datasets import mnist\n",
        "from sklearn.ensemble import AdaBoostClassifier,BaggingClassifier,StackingClassifier,RandomForestClassifier\n",
        "from sklearn.metrics import classification_report,precision_recall_fscore_support\n",
        "from sklearn.metrics import accuracy_score\n",
        "from xgboost import XGBClassifier\n",
        "from lightgbm import LGBMClassifier\n",
        "from sklearn.ensemble import GradientBoostingClassifier\n",
        "import time\n",
        "from sklearn.linear_model import LogisticRegression\n",
        "from sklearn.neighbors import KNeighborsClassifier\n",
        "from sklearn.svm import SVC\n",
        "import warnings\n",
        "warnings.filterwarnings(\"ignore\")"
      ]
    },
    {
      "cell_type": "code",
      "execution_count": 2,
      "metadata": {
        "id": "Wur5Lg9XC5yy",
        "colab": {
          "base_uri": "https://localhost:8080/"
        },
        "outputId": "8af7e3bb-7daf-44ff-dcd8-a7a2af4613bf"
      },
      "outputs": [
        {
          "output_type": "stream",
          "name": "stdout",
          "text": [
            "Downloading data from https://storage.googleapis.com/tensorflow/tf-keras-datasets/mnist.npz\n",
            "11490434/11490434 [==============================] - 1s 0us/step\n"
          ]
        }
      ],
      "source": [
        "(x_train,y_train),(x_test,y_test)=mnist.load_data()"
      ]
    },
    {
      "cell_type": "code",
      "execution_count": 3,
      "metadata": {
        "id": "imY0BNrXDJ8C"
      },
      "outputs": [],
      "source": [
        "x_train_std=(x_train.reshape(x_train.shape[0],-1))/255.0\n",
        "x_test_std=(x_test.reshape(x_test.shape[0],-1))/255.0"
      ]
    },
    {
      "cell_type": "markdown",
      "source": [
        "# Taking 10% of the data that includes all classes\n"
      ],
      "metadata": {
        "id": "DP8gPNMTEyDw"
      }
    },
    {
      "cell_type": "code",
      "execution_count": 4,
      "metadata": {
        "colab": {
          "base_uri": "https://localhost:8080/"
        },
        "id": "isppIiUY2yL7",
        "outputId": "82dedddd-ece1-438d-d5f1-c1f9905acf80"
      },
      "outputs": [
        {
          "output_type": "stream",
          "name": "stdout",
          "text": [
            "{0: array([    1,    21,    34, ..., 59952, 59972, 59987]), 1: array([    3,     6,     8, ..., 59979, 59984, 59994]), 2: array([    5,    16,    25, ..., 59983, 59985, 59991]), 3: array([    7,    10,    12, ..., 59978, 59980, 59996]), 4: array([    2,     9,    20, ..., 59943, 59951, 59975]), 5: array([    0,    11,    35, ..., 59968, 59993, 59997]), 6: array([   13,    18,    32, ..., 59982, 59986, 59998]), 7: array([   15,    29,    38, ..., 59963, 59977, 59988]), 8: array([   17,    31,    41, ..., 59989, 59995, 59999]), 9: array([    4,    19,    22, ..., 59973, 59990, 59992])}\n",
            "5923\n",
            "6742\n",
            "5958\n",
            "6131\n",
            "5842\n",
            "5421\n",
            "5918\n",
            "6265\n",
            "5851\n",
            "5949\n"
          ]
        }
      ],
      "source": [
        "classes=dict()\n",
        "for i in range(len(np.unique(y_train))):\n",
        "  classes[i]=np.where(y_train==i)[0]\n",
        "print(classes)  \n",
        "for key in classes:\n",
        "  print(len(classes[key]))  "
      ]
    },
    {
      "cell_type": "code",
      "execution_count": 5,
      "metadata": {
        "id": "vabChqg53VuT"
      },
      "outputs": [],
      "source": [
        "x_train_sample=[]\n",
        "y_train_sample=[]\n",
        "for key in classes:\n",
        "  length=round(len(classes[key])/10)\n",
        "  for i,index in enumerate(classes[key]):\n",
        "    if i>=length:\n",
        "      break\n",
        "    else:\n",
        "      x_train_sample.append(x_train_std[index])\n",
        "      y_train_sample.append(y_train[index])  "
      ]
    },
    {
      "cell_type": "code",
      "execution_count": 6,
      "metadata": {
        "colab": {
          "base_uri": "https://localhost:8080/"
        },
        "id": "rz-8Bv2s4eT9",
        "outputId": "aea00776-6073-48a3-e76b-5988d1070be0"
      },
      "outputs": [
        {
          "output_type": "execute_result",
          "data": {
            "text/plain": [
              "5999"
            ]
          },
          "metadata": {},
          "execution_count": 6
        }
      ],
      "source": [
        "len(x_train_sample)"
      ]
    },
    {
      "cell_type": "markdown",
      "source": [
        "# Applying ensemble techniques:"
      ],
      "metadata": {
        "id": "5NlvM1BmE7ft"
      }
    },
    {
      "cell_type": "code",
      "execution_count": 7,
      "metadata": {
        "colab": {
          "base_uri": "https://localhost:8080/",
          "height": 118
        },
        "id": "moTOwpra0OL1",
        "outputId": "ec4cc3b9-7149-4250-de0a-5a58caeda85b"
      },
      "outputs": [
        {
          "output_type": "execute_result",
          "data": {
            "text/plain": [
              "BaggingClassifier(estimator=DecisionTreeClassifier())"
            ],
            "text/html": [
              "<style>#sk-container-id-1 {color: black;background-color: white;}#sk-container-id-1 pre{padding: 0;}#sk-container-id-1 div.sk-toggleable {background-color: white;}#sk-container-id-1 label.sk-toggleable__label {cursor: pointer;display: block;width: 100%;margin-bottom: 0;padding: 0.3em;box-sizing: border-box;text-align: center;}#sk-container-id-1 label.sk-toggleable__label-arrow:before {content: \"▸\";float: left;margin-right: 0.25em;color: #696969;}#sk-container-id-1 label.sk-toggleable__label-arrow:hover:before {color: black;}#sk-container-id-1 div.sk-estimator:hover label.sk-toggleable__label-arrow:before {color: black;}#sk-container-id-1 div.sk-toggleable__content {max-height: 0;max-width: 0;overflow: hidden;text-align: left;background-color: #f0f8ff;}#sk-container-id-1 div.sk-toggleable__content pre {margin: 0.2em;color: black;border-radius: 0.25em;background-color: #f0f8ff;}#sk-container-id-1 input.sk-toggleable__control:checked~div.sk-toggleable__content {max-height: 200px;max-width: 100%;overflow: auto;}#sk-container-id-1 input.sk-toggleable__control:checked~label.sk-toggleable__label-arrow:before {content: \"▾\";}#sk-container-id-1 div.sk-estimator input.sk-toggleable__control:checked~label.sk-toggleable__label {background-color: #d4ebff;}#sk-container-id-1 div.sk-label input.sk-toggleable__control:checked~label.sk-toggleable__label {background-color: #d4ebff;}#sk-container-id-1 input.sk-hidden--visually {border: 0;clip: rect(1px 1px 1px 1px);clip: rect(1px, 1px, 1px, 1px);height: 1px;margin: -1px;overflow: hidden;padding: 0;position: absolute;width: 1px;}#sk-container-id-1 div.sk-estimator {font-family: monospace;background-color: #f0f8ff;border: 1px dotted black;border-radius: 0.25em;box-sizing: border-box;margin-bottom: 0.5em;}#sk-container-id-1 div.sk-estimator:hover {background-color: #d4ebff;}#sk-container-id-1 div.sk-parallel-item::after {content: \"\";width: 100%;border-bottom: 1px solid gray;flex-grow: 1;}#sk-container-id-1 div.sk-label:hover label.sk-toggleable__label {background-color: #d4ebff;}#sk-container-id-1 div.sk-serial::before {content: \"\";position: absolute;border-left: 1px solid gray;box-sizing: border-box;top: 0;bottom: 0;left: 50%;z-index: 0;}#sk-container-id-1 div.sk-serial {display: flex;flex-direction: column;align-items: center;background-color: white;padding-right: 0.2em;padding-left: 0.2em;position: relative;}#sk-container-id-1 div.sk-item {position: relative;z-index: 1;}#sk-container-id-1 div.sk-parallel {display: flex;align-items: stretch;justify-content: center;background-color: white;position: relative;}#sk-container-id-1 div.sk-item::before, #sk-container-id-1 div.sk-parallel-item::before {content: \"\";position: absolute;border-left: 1px solid gray;box-sizing: border-box;top: 0;bottom: 0;left: 50%;z-index: -1;}#sk-container-id-1 div.sk-parallel-item {display: flex;flex-direction: column;z-index: 1;position: relative;background-color: white;}#sk-container-id-1 div.sk-parallel-item:first-child::after {align-self: flex-end;width: 50%;}#sk-container-id-1 div.sk-parallel-item:last-child::after {align-self: flex-start;width: 50%;}#sk-container-id-1 div.sk-parallel-item:only-child::after {width: 0;}#sk-container-id-1 div.sk-dashed-wrapped {border: 1px dashed gray;margin: 0 0.4em 0.5em 0.4em;box-sizing: border-box;padding-bottom: 0.4em;background-color: white;}#sk-container-id-1 div.sk-label label {font-family: monospace;font-weight: bold;display: inline-block;line-height: 1.2em;}#sk-container-id-1 div.sk-label-container {text-align: center;}#sk-container-id-1 div.sk-container {/* jupyter's `normalize.less` sets `[hidden] { display: none; }` but bootstrap.min.css set `[hidden] { display: none !important; }` so we also need the `!important` here to be able to override the default hidden behavior on the sphinx rendered scikit-learn.org. See: https://github.com/scikit-learn/scikit-learn/issues/21755 */display: inline-block !important;position: relative;}#sk-container-id-1 div.sk-text-repr-fallback {display: none;}</style><div id=\"sk-container-id-1\" class=\"sk-top-container\"><div class=\"sk-text-repr-fallback\"><pre>BaggingClassifier(estimator=DecisionTreeClassifier())</pre><b>In a Jupyter environment, please rerun this cell to show the HTML representation or trust the notebook. <br />On GitHub, the HTML representation is unable to render, please try loading this page with nbviewer.org.</b></div><div class=\"sk-container\" hidden><div class=\"sk-item sk-dashed-wrapped\"><div class=\"sk-label-container\"><div class=\"sk-label sk-toggleable\"><input class=\"sk-toggleable__control sk-hidden--visually\" id=\"sk-estimator-id-1\" type=\"checkbox\" ><label for=\"sk-estimator-id-1\" class=\"sk-toggleable__label sk-toggleable__label-arrow\">BaggingClassifier</label><div class=\"sk-toggleable__content\"><pre>BaggingClassifier(estimator=DecisionTreeClassifier())</pre></div></div></div><div class=\"sk-parallel\"><div class=\"sk-parallel-item\"><div class=\"sk-item\"><div class=\"sk-label-container\"><div class=\"sk-label sk-toggleable\"><input class=\"sk-toggleable__control sk-hidden--visually\" id=\"sk-estimator-id-2\" type=\"checkbox\" ><label for=\"sk-estimator-id-2\" class=\"sk-toggleable__label sk-toggleable__label-arrow\">estimator: DecisionTreeClassifier</label><div class=\"sk-toggleable__content\"><pre>DecisionTreeClassifier()</pre></div></div></div><div class=\"sk-serial\"><div class=\"sk-item\"><div class=\"sk-estimator sk-toggleable\"><input class=\"sk-toggleable__control sk-hidden--visually\" id=\"sk-estimator-id-3\" type=\"checkbox\" ><label for=\"sk-estimator-id-3\" class=\"sk-toggleable__label sk-toggleable__label-arrow\">DecisionTreeClassifier</label><div class=\"sk-toggleable__content\"><pre>DecisionTreeClassifier()</pre></div></div></div></div></div></div></div></div></div></div>"
            ]
          },
          "metadata": {},
          "execution_count": 7
        }
      ],
      "source": [
        "classifierbagging=BaggingClassifier(estimator=DecisionTreeClassifier(),n_estimators=10)\n",
        "classifierbagging.fit(x_train_sample,y_train_sample)"
      ]
    },
    {
      "cell_type": "code",
      "execution_count": 8,
      "metadata": {
        "colab": {
          "base_uri": "https://localhost:8080/"
        },
        "id": "5mUwvZuP1PMP",
        "outputId": "791aadaa-9be3-47d2-9108-e99801343231"
      },
      "outputs": [
        {
          "output_type": "stream",
          "name": "stdout",
          "text": [
            "Bagging:88.54\n"
          ]
        }
      ],
      "source": [
        "y_predbagging=classifierbagging.predict(x_test_std)\n",
        "scorebagging=round(precision_recall_fscore_support(y_test,y_predbagging,average='weighted')[2]*100,2)\n",
        "print(f'Bagging_Fscore:{scorebagging}')"
      ]
    },
    {
      "cell_type": "code",
      "execution_count": 9,
      "metadata": {
        "id": "Gd1WWyMG904r"
      },
      "outputs": [],
      "source": [
        "estimators=[('SVC',SVC(kernel='sigmoid')),('DT',DecisionTreeClassifier(criterion='gini')),('LR',LogisticRegression())]"
      ]
    },
    {
      "cell_type": "code",
      "execution_count": 10,
      "metadata": {
        "colab": {
          "base_uri": "https://localhost:8080/"
        },
        "id": "lPkJsHcO901_",
        "outputId": "9113f91f-7ae9-467e-c65c-9d1d17ee641e"
      },
      "outputs": [
        {
          "output_type": "stream",
          "name": "stdout",
          "text": [
            "*Stack* accuracy= 90.65%\n",
            "*stack* F1-score= 90.62%\n"
          ]
        }
      ],
      "source": [
        "classifierstack=StackingClassifier(estimators=estimators,final_estimator=LogisticRegression())\n",
        "classifierstack.fit(x_train_sample,y_train_sample)\n",
        "y_predstack=classifierstack.predict(x_test_std)\n",
        "scorestack=round(precision_recall_fscore_support(y_test,y_predstack,average='weighted')[2]*100,2)\n",
        "accuracystack=round(accuracy_score(y_test,y_predstack)*100,2)\n",
        "print(f'*Stack* accuracy= {accuracystack}%')\n",
        "print(f'*stack* F1-score= {scorestack}%')"
      ]
    },
    {
      "cell_type": "code",
      "execution_count": 11,
      "metadata": {
        "colab": {
          "base_uri": "https://localhost:8080/"
        },
        "id": "vRONzxjY90wN",
        "outputId": "78eae81d-70c6-4824-e58f-0d2024b57c76"
      },
      "outputs": [
        {
          "output_type": "stream",
          "name": "stdout",
          "text": [
            "*ADA* accuracy= 78.41%\n",
            "*ADA* F1-score= 78.42%\n"
          ]
        }
      ],
      "source": [
        "classifierAda=AdaBoostClassifier(estimator=DecisionTreeClassifier(),n_estimators=100)\n",
        "classifierAda.fit(x_train_sample,y_train_sample)\n",
        "y_predAda=classifierAda.predict(x_test_std)\n",
        "scoreAda=round(precision_recall_fscore_support(y_test,y_predAda,average='weighted')[2]*100,2)\n",
        "accuracyAda=round(accuracy_score(y_test,y_predAda)*100,2)\n",
        "print(f'*ADA* accuracy= {accuracyAda}%')\n",
        "print(f'*ADA* F1-score= {scoreAda}%')"
      ]
    },
    {
      "cell_type": "markdown",
      "metadata": {
        "id": "4yDnydwa91vG"
      },
      "source": [
        "### Applying XGB,RF,LGBM on the data:\n",
        "\n"
      ]
    },
    {
      "cell_type": "code",
      "execution_count": 12,
      "metadata": {
        "colab": {
          "base_uri": "https://localhost:8080/"
        },
        "id": "2SLIFB2j1mmk",
        "outputId": "4a8c8719-4369-468d-a2e6-ceb53c360051"
      },
      "outputs": [
        {
          "output_type": "stream",
          "name": "stdout",
          "text": [
            "*LGBM* accuracy= 94.77%\n",
            "*LGBM* F1-score= 94.77%\n"
          ]
        }
      ],
      "source": [
        "classifierLGBM=LGBMClassifier(n_estimators=100,random_state=0)\n",
        "classifierLGBM.fit(x_train_sample,y_train_sample)\n",
        "y_predLGBM=classifierLGBM.predict(x_test_std)\n",
        "\n",
        "scoreLGBM=round(precision_recall_fscore_support(y_test,y_predLGBM,average='weighted')[2]*100,2)\n",
        "accuracyLGBM=round(accuracy_score(y_test,y_predLGBM)*100,2)\n",
        "print(f'*LGBM* accuracy= {accuracyLGBM}%')\n",
        "print(f'*LGBM* F1-score= {scoreLGBM}%')"
      ]
    },
    {
      "cell_type": "code",
      "execution_count": 13,
      "metadata": {
        "colab": {
          "base_uri": "https://localhost:8080/"
        },
        "id": "HegVCjZS90zN",
        "outputId": "faf49589-244d-4d93-9e75-401debe44937"
      },
      "outputs": [
        {
          "output_type": "stream",
          "name": "stdout",
          "text": [
            "*RF* accuracy= 93.92%\n",
            "*RF* F1-score= 93.91%\n"
          ]
        }
      ],
      "source": [
        "classifierRF=RandomForestClassifier(n_estimators=100,criterion='gini')\n",
        "classifierRF.fit(x_train_sample,y_train_sample)\n",
        "y_predRF=classifierRF.predict(x_test_std)\n",
        "scoreRF=round(precision_recall_fscore_support(y_test,y_predRF,average='weighted')[2]*100,2)\n",
        "accuracyRF=round(accuracy_score(y_test,y_predRF)*100,2)\n",
        "print(f'*RF* accuracy= {accuracyRF}%')\n",
        "print(f'*RF* F1-score= {scoreRF}%')"
      ]
    },
    {
      "cell_type": "code",
      "execution_count": 14,
      "metadata": {
        "colab": {
          "base_uri": "https://localhost:8080/"
        },
        "id": "u58TW9tqCLTM",
        "outputId": "65e828aa-e20d-4f94-9731-e950b5c85172"
      },
      "outputs": [
        {
          "output_type": "stream",
          "name": "stdout",
          "text": [
            "*XGB* accuracy= 94.27%\n",
            "*XGB* F1-score= 94.26%\n"
          ]
        }
      ],
      "source": [
        "classifierXGB=XGBClassifier()\n",
        "classifierXGB.fit(x_train_sample,y_train_sample)\n",
        "y_predXGB=classifierXGB.predict(x_test_std)\n",
        "scoreXGB=round(precision_recall_fscore_support(y_test,y_predXGB,average='weighted')[2]*100,2)\n",
        "accuracyXGB=round(accuracy_score(y_test,y_predXGB)*100,2)\n",
        "print(f'*XGB* accuracy= {accuracyXGB}%')\n",
        "print(f'*XGB* F1-score= {scoreXGB}%')"
      ]
    },
    {
      "cell_type": "markdown",
      "source": [
        "# LightGBM gives us the best accuracy then we will use it on the whole dataset"
      ],
      "metadata": {
        "id": "drXfcvaxDH-E"
      }
    },
    {
      "cell_type": "code",
      "execution_count": 15,
      "metadata": {
        "colab": {
          "base_uri": "https://localhost:8080/"
        },
        "id": "K_fQ756fD1_u",
        "outputId": "4dbb2def-53c3-44ab-853e-eeecc0653b24"
      },
      "outputs": [
        {
          "output_type": "stream",
          "name": "stdout",
          "text": [
            "*LGBM* accuracy= 97.74%\n",
            "*LGBM* F1-score= 97.74%\n"
          ]
        }
      ],
      "source": [
        "classifierLGBM.fit(x_train_std,y_train)\n",
        "y_predfinal=classifierLGBM.predict(x_test_std)\n",
        "scoreXGB=round(precision_recall_fscore_support(y_test,y_predfinal,average='weighted')[2]*100,2)\n",
        "accuracyXGB=round(accuracy_score(y_test,y_predfinal)*100,2)\n",
        "print(f'*LGBM* accuracy= {accuracyXGB}%')\n",
        "print(f'*LGBM* F1-score= {scoreXGB}%')"
      ]
    }
  ],
  "metadata": {
    "colab": {
      "provenance": [],
      "authorship_tag": "ABX9TyPSsO7b7wGy/2i1gOVvQqHk",
      "include_colab_link": true
    },
    "kernelspec": {
      "display_name": "Python 3",
      "name": "python3"
    },
    "language_info": {
      "name": "python"
    }
  },
  "nbformat": 4,
  "nbformat_minor": 0
}